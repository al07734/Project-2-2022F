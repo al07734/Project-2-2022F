{
 "cells": [
  {
   "cell_type": "markdown",
   "id": "282ede71",
   "metadata": {
    "pycharm": {
     "name": "#%% md\n"
    }
   },
   "source": [
    "# Project 2: Sequence Alignment and Phylogeny"
   ]
  },
  {
   "cell_type": "markdown",
   "id": "4075c4f6",
   "metadata": {
    "pycharm": {
     "name": "#%% md\n"
    }
   },
   "source": [
    "\n",
    "   <div class=\"alert alert-block alert-danger\">\n",
    "    <center>Due: <b>Monday, 26 September, 8:59pm</b>.</center> \n",
    "   </div>\n",
    "   \n",
    "   <div class=\"alert alert-block alert-warning\">\n",
    "   <center>\n",
    "       <b>Collaboration and Resource Policy</b>\n",
    "    </center>\n",
    "    For this assignment, you are encouraged to work with one other person. Your team must satisfy these constraints:\n",
    "    \n",
    "   1. You **did not work together on Project 1**.\n",
    "   2. You and your partner have a **total number of siblings that is divisible by two** (e.g., if you have one sibling, you need to find a partner with 1, 3, 5, or 7 siblings. If anyone has more than 7 siblings, they can partner with anyone!)\n",
    "    \n",
    "We expect most students will have the best learning experience on this assignment by working with a partner, but if you prefer to work alone it is permissible to do this assignment on your own.\n",
    "    \n",
    "You are encouraged to discuss these problems with anyone you want, including other students in the class. If you do discuss the specific questions in the assignment with anyone other than your assignment partner and the course staff, though, you should list them in the _External resources used_ section below.\n",
    "    \n",
    "You are welcome to use any resources you want for this assignment, other than ones that would defeat the purpose of the assignment. This means you should not look at answers or code from any other students in the class (other than your collaboration with your partner) or from previous offerings of this course, and if you find code that implements the problem you are being asked to do for the assignment, you should not use that code. \n",
    "\n",
    "You should document all external resource you use that are not part of the course materials in the _External resources used_ section below.\n",
    "    </div>"
   ]
  },
  {
   "cell_type": "markdown",
   "id": "78afcd0c",
   "metadata": {
    "pycharm": {
     "name": "#%% md\n"
    }
   },
   "source": [
    "**Team submitting this assignment:**  \n",
    "<div class=\"alert alert-success\">\n",
    "    <b><em>list each member of your team here, including both your name and UVA computing id</em></b>\n",
    "    Alison Lu (atl9rn), Joey Elsisi (jre3wjh)\n",
    "</div>\n",
    "\n",
    "**External resources used:** \n",
    "<div class=\"alert alert-success\">\n",
    "<em>It is not necessary to list the course materials, but if you used any other resources, including discussing problems with students not on your team, list them here.</em>\n",
    "</div>"
   ]
  },
  {
   "cell_type": "markdown",
   "id": "bd9cc271",
   "metadata": {
    "pycharm": {
     "name": "#%% md\n"
    }
   },
   "source": [
    " <div class=\"alert alert-block alert-warning\">\n",
    "    \n",
    "<b>Submission</b>: Please submit the code you wrote to generate your answers for all parts using this form: https://forms.gle/gv144kv3KRo67uUX7. Your answers should be in the Jupyter Notebook, along with your code. Before submission, you should make a copy of your notebook file with the name uvaid1\\_uvaid2.ipynb (where uvaidn is each teammates UVA id) so the submitted file identifies you. You and your partner should submit a single file once together. Submission is due 8:59 pm on Wednesday, 21 September."
   ]
  },
  {
   "cell_type": "markdown",
   "id": "8bdd2aed",
   "metadata": {
    "pycharm": {
     "name": "#%% md\n"
    }
   },
   "source": [
    "## Getting Started"
   ]
  },
  {
   "cell_type": "markdown",
   "id": "6b68bd7d",
   "metadata": {
    "pycharm": {
     "name": "#%% md\n"
    }
   },
   "source": [
    "Install basic required packages, should be run only once. You may need to restart the jupyter python kernel (under the Kernel menu) after this. (You can execute this directly in the notebook but running the command below.)"
   ]
  },
  {
   "cell_type": "code",
   "execution_count": 7,
   "id": "9f7dfe9e",
   "metadata": {
    "pycharm": {
     "name": "#%%\n"
    }
   },
   "outputs": [
    {
     "name": "stderr",
     "output_type": "stream",
     "text": [
      "UsageError: Line magic function `%` not found.\n"
     ]
    }
   ],
   "source": [
    "% pip install -r requirements.txt"
   ]
  },
  {
   "cell_type": "code",
   "execution_count": 8,
   "id": "78fc23ce",
   "metadata": {
    "pycharm": {
     "name": "#%%\n"
    }
   },
   "outputs": [],
   "source": [
    "import numpy as np\n",
    "import blosum as bl\n",
    "import networkx as nx\n",
    "import matplotlib.pyplot as plt\n",
    "import utils\n",
    "from itertools import chain"
   ]
  },
  {
   "cell_type": "markdown",
   "id": "ca3d881c",
   "metadata": {
    "pycharm": {
     "name": "#%% md\n"
    }
   },
   "source": [
    "## Part 1: Global Sequence Alignment"
   ]
  },
  {
   "cell_type": "markdown",
   "id": "8136e72e",
   "metadata": {
    "pycharm": {
     "name": "#%% md\n"
    }
   },
   "source": [
    "Below we provide the sequence alignment code from [Class 6](https://computingbiology.github.io/class6/). You are welcome to use and modify this code however you want in your solution, but should answer the questions below based on this provided code."
   ]
  },
  {
   "cell_type": "code",
   "execution_count": 9,
   "id": "3d302525",
   "metadata": {
    "pycharm": {
     "name": "#%%\n"
    }
   },
   "outputs": [],
   "source": [
    "def simpleMatch(a, b):\n",
    "    return 1 if a == b else -1\n",
    "\n",
    "\n",
    "def distanceMatch(a, b):\n",
    "    return 0 if a == b else -1\n",
    "\n",
    "\n",
    "def linearGap(n):\n",
    "    return -1 * n\n",
    "\n",
    "\n",
    "def alignmentScore(s1, s2, gapPenalty, match):\n",
    "    if not s1 or not s2:\n",
    "        return gapPenalty(len(s1)) + gapPenalty(len(s2))\n",
    "    else:\n",
    "        return max(gapPenalty(1) + alignmentScore(s1, s2[1:], gapPenalty, match),\n",
    "                   gapPenalty(1) + alignmentScore(s1[1:], s2, gapPenalty, match),\n",
    "                   match(s1[0], s2[0]) + alignmentScore(s1[1:], s2[1:], gapPenalty, match))"
   ]
  },
  {
   "cell_type": "code",
   "execution_count": 10,
   "id": "c41a5810",
   "metadata": {
    "pycharm": {
     "name": "#%%\n"
    }
   },
   "outputs": [],
   "source": [
    "def alignmentScoreDP(s1, s2, gapPenalty, match):\n",
    "    m = np.zeros((len(s1) + 1, len(s2) + 1))\n",
    "    m[0, 0] = 0\n",
    "    for i in range(1, len(s1) + 1):\n",
    "        m[i, 0] = gapPenalty(i)\n",
    "    for j in range(1, len(s2) + 1):\n",
    "        m[0, j] = gapPenalty(j)\n",
    "    for i in range(1, len(s1) + 1):\n",
    "        for j in range(1, len(s2) + 1):\n",
    "            m[i, j] = max(gapPenalty(1) + m[i, j - 1],\n",
    "                          gapPenalty(1) + m[i - 1, j],\n",
    "                          match(s1[i - 1], s2[j - 1]) + m[i - 1, j - 1])\n",
    "    return m\n",
    "\n",
    "\n",
    "def readAlignment(s1, s2, m, gapPenalty, match):\n",
    "    i = len(s1)\n",
    "    j = len(s2)\n",
    "    s1a = \"\"\n",
    "    s2a = \"\"\n",
    "    score = 0\n",
    "    while i > 0 or j > 0:\n",
    "        if i > 0 and j > 0 and m[i, j] == m[i - 1, j - 1] + match(s1[i - 1], s2[j - 1]):\n",
    "            i = i - 1\n",
    "            j = j - 1\n",
    "            score += match(s1[i], s2[j])\n",
    "            s1a = s1[i] + s1a\n",
    "            if s1[i] == s2[j]:\n",
    "                s2a = s2[j] + s2a\n",
    "            else:\n",
    "                s2a = s2[j].lower() + s2a\n",
    "        elif i > 0 and m[i, j] == m[i - 1, j] + gapPenalty(1):\n",
    "            i = i - 1\n",
    "            score += gapPenalty(1)\n",
    "            s1a = s1[i] + s1a\n",
    "            s2a = '-' + s2a\n",
    "        elif j > 0 and m[i, j] == m[i, j - 1] + gapPenalty(1):\n",
    "            j = j - 1\n",
    "            score += gapPenalty(1)\n",
    "            s1a = '-' + s1a\n",
    "            s2a = s2[j] + s2a\n",
    "        else:\n",
    "            assert False\n",
    "    return (s1a, s2a, score)\n",
    "\n",
    "\n",
    "def showAlignment(s1, s2, gapPenalty, match):\n",
    "    m = alignmentScoreDP(s1, s2, gapPenalty, match)\n",
    "    r = readAlignment(s1, s2, m, gapPenalty, match)\n",
    "    print(r[0] + \"\\n\" + r[1] + \"\\n\" + str(r[2]))\n",
    "    return (m, r)"
   ]
  },
  {
   "cell_type": "code",
   "execution_count": 11,
   "id": "23b74c62",
   "metadata": {
    "pycharm": {
     "name": "#%%\n"
    }
   },
   "outputs": [
    {
     "name": "stdout",
     "output_type": "stream",
     "text": [
      "G-ATT\n",
      "GCA-T\n",
      "1\n"
     ]
    }
   ],
   "source": [
    "# Example\n",
    "r = showAlignment(\"GATT\", \"GCAT\", linearGap, simpleMatch)"
   ]
  },
  {
   "cell_type": "markdown",
   "id": "2ea9614d",
   "metadata": {
    "pycharm": {
     "name": "#%% md\n"
    }
   },
   "source": [
    "Here's the version that supports affine gap penalties (from Class 6):"
   ]
  },
  {
   "cell_type": "code",
   "execution_count": 5,
   "id": "0037e0ab",
   "metadata": {
    "pycharm": {
     "name": "#%%\n"
    }
   },
   "outputs": [],
   "source": [
    "def alignmentScoreDPG(s1, s2, gapPenalty, match):\n",
    "    m = np.zeros((len(s1) + 1, len(s2) + 1))\n",
    "    m[0, 0] = 0\n",
    "    for i in range(1, len(s1) + 1):\n",
    "        m[i, 0] = gapPenalty(i)\n",
    "    for j in range(1, len(s2) + 1):\n",
    "        m[0, j] = gapPenalty(j)\n",
    "    for i in range(1, len(s1) + 1):\n",
    "        for j in range(1, len(s2) + 1):\n",
    "            m[i, j] = max(chain((gapPenalty(g) + m[i, j - g] for g in range(1, j)),\n",
    "                                (gapPenalty(g) + m[i - g, j] for g in range(1, i)),\n",
    "                                [(match(s1[i - 1], s2[j - 1]) + m[i - 1, j - 1])]))\n",
    "    return m\n",
    "\n",
    "\n",
    "def readAlignmentG(s1, s2, m, gapPenalty, match):\n",
    "    i = len(s1)\n",
    "    j = len(s2)\n",
    "    s1a = \"\"\n",
    "    s2a = \"\"\n",
    "    score = 0\n",
    "    while i > 0 or j > 0:\n",
    "        if i > 0 and j > 0 and m[i, j] == m[i - 1, j - 1] + match(s1[i - 1], s2[j - 1]):\n",
    "            i = i - 1\n",
    "            j = j - 1\n",
    "            s1a = s1[i] + s1a\n",
    "            s2a = (s2[j] if s1[i] == s2[j] else s2[j].lower()) + s2a\n",
    "            score += match(s1[i], s2[j])\n",
    "        else:\n",
    "            foundit = False\n",
    "            for g in range(1, i + 1):\n",
    "                if m[i, j] == m[i - g, j] + gapPenalty(g):\n",
    "                    s1a = s1[i - g:i] + s1a\n",
    "                    s2a = ('-' * g) + s2a\n",
    "                    i = i - g\n",
    "                    score += gapPenalty(g)\n",
    "                    foundit = True\n",
    "                    break\n",
    "            if not foundit:\n",
    "                for g in range(1, j + 1):\n",
    "                    if m[i, j] == m[i, j - g] + gapPenalty(g):\n",
    "                        s1a = ('-' * g) + s1a\n",
    "                        s2a = s2[j - g:j] + s2a\n",
    "                        j = j - g\n",
    "                        score += gapPenalty(g)\n",
    "                        foundit = True\n",
    "                        break\n",
    "            assert foundit\n",
    "    return (s1a, s2a, score)\n",
    "\n",
    "\n",
    "def showAlignmentG(s1, s2, gapPenalty, match):\n",
    "    m = alignmentScoreDPG(s1, s2, gapPenalty, match)\n",
    "    r = readAlignmentG(s1, s2, m, gapPenalty, match)\n",
    "    print(r[0] + \"\\n\" + r[1] + \"\\n\" + str(r[2]))\n",
    "    return (m, r)"
   ]
  },
  {
   "cell_type": "code",
   "execution_count": 13,
   "id": "c55660de",
   "metadata": {
    "pycharm": {
     "name": "#%%\n"
    }
   },
   "outputs": [],
   "source": [
    "def affineGap(n, gp=-1, gn=-0.2):\n",
    "    return gp + (n - 1) * gn"
   ]
  },
  {
   "cell_type": "code",
   "execution_count": 14,
   "id": "891a102e",
   "metadata": {
    "pycharm": {
     "name": "#%%\n"
    }
   },
   "outputs": [
    {
     "name": "stdout",
     "output_type": "stream",
     "text": [
      "AAAGAATTCA\n",
      "AAA----TCA\n",
      "4.4\n"
     ]
    }
   ],
   "source": [
    "# Example\n",
    "s1 = \"AAAGAATTCA\"\n",
    "s2 = \"AAATCA\"\n",
    "r = showAlignmentG(s1, s2, affineGap, simpleMatch)"
   ]
  },
  {
   "cell_type": "markdown",
   "id": "12666f9d",
   "metadata": {
    "pycharm": {
     "name": "#%% md\n"
    }
   },
   "source": [
    "<div class=\"alert alert-success\">\n",
    "\n",
    "**Problem 1 (a).** Run the given algorithm to find a global sequence alignment for the OCA2 genes (a key gene for the production of melanin) for humans and mice with the following gap penalties (still using simpleMatch as the match score function):\n",
    "\n",
    "  a. `linearGap` penalty\n",
    "    \n",
    "  b. `affineGap` penalty, with $gp=-0.2$\n",
    "\n",
    "  c. `affineGap` penalty, with $gp=-0.1$\n",
    "    \n",
    "</div>\n"
   ]
  },
  {
   "cell_type": "code",
   "execution_count": 15,
   "id": "1446aa16",
   "metadata": {
    "pycharm": {
     "name": "#%%\n"
    }
   },
   "outputs": [],
   "source": [
    "human_oca2, mouse_oca2 = utils.load_oca2_sequences()"
   ]
  },
  {
   "cell_type": "code",
   "execution_count": 16,
   "id": "364b605b",
   "metadata": {
    "pycharm": {
     "name": "#%%\n"
    }
   },
   "outputs": [
    {
     "name": "stdout",
     "output_type": "stream",
     "text": [
      "-GTTCT--TACTTCGAAG-GCTGTGCTCCG----CTCACCATCCAGAGCGGAGGTGCGGACC-T-TA-AACTCA-CTCC--TGGA----GA-A--AGATCTGCAAGTGC-GCAGAGAGAAGACTGGCAGTGGAGCATGCATCTGGAGGGCAGAGACGGC-A-GGCGGTACCCCGGCGCGCCGGCG-GTGGAGCTCCTGCAGACGTCCGTGCC-CAGCGGACTCGCT-GAACTTGTGGC--CGGCA-AGC\n",
      "CccTCTGGggCTgC-AAGTGC-cTGCTgaGAAATCTtA-CA-CC--AG-GGttGTGC--tCCATCcACgACTCAGagCCTTTGGATCTGGACACTAGA-CTtC-AcTGCTG--GAGAG-AGA-T--CAG-cGAG--T-CATC---A-GaCAGA-tCaGCAACGG-GG-A--CatGCGC-CtaGaGAacaaAG-aCaT-CAG--G-CtG-GCCTCAGCcG--T-GCTGGAAgTaG-aGCTACacCAGA-C\n",
      "25\n",
      "---------G-T-----T-C-T--T---A---CTT-CGA--A-GG-CTGTGCTCC--GCTCAC--CATCCAGAG-C---GGAGGTGC-GGAC-CTTAA-AC-TCACT-CCTGGAGA-AAGATC-TGC-AAGTGC--GCAGA-GAGA--AG--ACTGGCAGTGGAGCAT--GCATCT-G-G-AGGGC-AGAGAC--GGCAGGC-GGTACCC-C-GGCGCG-CCGGCGGTGG-AGCTCCTGCAGACGTCCGTGCCCAGCGGACTCGCTGAACTTGTGGCCGGCAAGC\n",
      "CCCTCTGGGGCTGCAAGTGCCTGCTGAGAAATCTTAC-ACCAGGGT-TGTGCTCCAT-C-CACGAC-T-CAGAGCCTTTGGA--T-CTGGACACT--AGACTTCACTG-CTGGAGAG-AGATCA-GCG-AGT-CAT-CAGAC-AGATCAGCAAC-G---G-GGA-CATGCGC--CTAGAGAA---CAA-AGACAT--CAGGCTGG---CCTCA-GC-CGT---GC--TGGAAG----T--AGA-G--C-T----A-C--AC---C---A---------G---A-C\n",
      "112.1999999999998\n",
      "------G----T-----T--CT--T-A-----CTT-CGA--A-GG-CTGTGCTCC--GCTCAC--CATCCAGAG-C---GGAGGTGC-GGAC-CTTA-AAC-TCACT-CCTGGAGA-AAGATC-TGC-AAGTGC--GCAGA-GAGA--AG--ACTGGCAGTGGAGCAT--GCATCT-G-G-AGGGC-AGAGAC--GGCAGGC-GGTACC-C-CGGCGCG-CCGGCGGTGG-AGCTCCTGCAGACGTCCGTGCCCAGCGGACTCGCTGAACTTGTGGCCGGCAAGC\n",
      "CCCTCTGGGGCTGCAAGTGCCTGCTGAGAAATCTTAC-ACCAGGGT-TGTGCTCCAT-C-CACGAC-T-CAGAGCCTTTGGA--T-CTGGACAC-TAG-ACTTCACTG-CTGGAGAG-AGATCA-GCG-AGT-CAT-CAGAC-AGATCAGCAAC--G--G-GGA-CATGCGC--CTAGAGAA---CAA-AGACAT--CAGGCTGG--CCTCA--GC-CGT---GC--TGGAAG----T--AGA-G--C-T----A-C--A--C-C---A----------G--A-C\n",
      "126.10000000000025\n"
     ]
    }
   ],
   "source": [
    "# Your code here\n",
    "m, r = showAlignment(human_oca2, mouse_oca2, linearGap, simpleMatch)\n",
    "\n",
    "\n",
    "def affineGap(n, gp=-0.2, gn=-0.2):\n",
    "    return gp + (n - 1) * gn\n",
    "\n",
    "\n",
    "m1, r1 = showAlignmentG(human_oca2, mouse_oca2, affineGap, simpleMatch)\n",
    "\n",
    "\n",
    "def affineGap(n, gp=-0.1, gn=-0.2):\n",
    "    return gp + (n - 1) * gn\n",
    "\n",
    "\n",
    "m2, r2 = showAlignmentG(human_oca2, mouse_oca2, affineGap, simpleMatch)"
   ]
  },
  {
   "cell_type": "code",
   "execution_count": 17,
   "id": "25e4a67f",
   "metadata": {
    "pycharm": {
     "name": "#%%\n"
    }
   },
   "outputs": [],
   "source": [
    "# print(m, r)"
   ]
  },
  {
   "cell_type": "markdown",
   "id": "ece9c577",
   "metadata": {
    "pycharm": {
     "name": "#%% md\n"
    }
   },
   "source": [
    "<div class=\"alert alert-success\">\n",
    "\n",
    "**Problem 1 (b).** Use the given function to convert these sequences to their amino-acid sequences, and then re-run alignment for all sequences with the default parameters for `affineGap`.\n",
    "</div>\n"
   ]
  },
  {
   "cell_type": "code",
   "execution_count": 18,
   "id": "277f4270",
   "metadata": {
    "pycharm": {
     "name": "#%%\n"
    }
   },
   "outputs": [
    {
     "data": {
      "text/plain": [
       "'KCGV'"
      ]
     },
     "execution_count": 18,
     "metadata": {},
     "output_type": "execute_result"
    }
   ],
   "source": [
    "# Convert sequence of nucleotides to amino acids using codon table lookup\n",
    "# Example\n",
    "utils.convert_to_amino(\"AAATGCGGCGTA\")"
   ]
  },
  {
   "cell_type": "code",
   "execution_count": 19,
   "id": "67f22ec4",
   "metadata": {
    "pycharm": {
     "name": "#%%\n"
    }
   },
   "outputs": [
    {
     "name": "stdout",
     "output_type": "stream",
     "text": [
      "VLTSKAVLRS-----------PSRAEVRTLNSL----L-----E------KDLQVR----RE----------KTGSGACIWRAETAGGTPARRRWSSCRRPCPADSLNLWPAS\n",
      "--pSgA--aSAC_EILHQGCAPS-----TtqSLWIWTLDFTAGERSASHQtD-QqRGHAPREQRHQAGLSRA--GS-----RA-----TP--------------D--------\n",
      "-13.799999999999999\n"
     ]
    }
   ],
   "source": [
    "# Your code here\n",
    "seq1 = utils.convert_to_amino(human_oca2)\n",
    "# print(seq1)\n",
    "seq2 = utils.convert_to_amino(mouse_oca2)\n",
    "\n",
    "\n",
    "# print(seq2)\n",
    "\n",
    "def affineGap(n, gp=-1, gn=-0.2):\n",
    "    return gp + (n - 1) * gn\n",
    "\n",
    "\n",
    "ma, ra = showAlignmentG(seq1, seq2, affineGap, simpleMatch)"
   ]
  },
  {
   "cell_type": "markdown",
   "id": "94c2f74d",
   "metadata": {
    "pycharm": {
     "name": "#%% md\n"
    }
   },
   "source": [
    "## Part 2: Alignment with Amino-Acids"
   ]
  },
  {
   "cell_type": "markdown",
   "id": "dc72bebd",
   "metadata": {
    "pycharm": {
     "name": "#%% md\n"
    }
   },
   "source": [
    "\n",
    "The PAM<em>n</em> matrix (to be covered in [Class 6](https://computingbiology.github.io/class6/)) represents the likelihood of the occurrence of each tranformation during a time period where there are _n_ total mutation events per 100 amino acids."
   ]
  },
  {
   "cell_type": "markdown",
   "id": "38e96e8f",
   "metadata": {
    "pycharm": {
     "name": "#%% md\n"
    }
   },
   "source": [
    "<div class=\"alert alert-success\">\n",
    "\n",
    "**Problem 2 (a)** What would a negative value of an entry in a PAM 1 matrix $M$ indicate? Explain in terms of evolution and functionality of the proteins. Note that $M_{ij} = log(\\frac{q_{ij}}{p_ip_j})$ where $q_{ij}$ indicates the frequency of amino acids $i$ and $j$ observed to align in related sequences, and $p_i$ and $p_j$ represent the frequencies of occurrence of $i$ and $j$.\n",
    "</div>"
   ]
  },
  {
   "cell_type": "markdown",
   "id": "342d5b9e",
   "metadata": {
    "pycharm": {
     "name": "#%% md\n"
    }
   },
   "source": [
    "A negative entry in a PAM 1 matrix indicates that q_{i,j} / p_i * p_j is less than 1 (but greater than 0), which means that p_i * p_j is greater than q_{i,j}. This means that the alignment frequency is very low while the independent frequences of i and j are relatively higher. For this to mathematically work, the alignment frequency must be less than 1. This likely means that they are inversely correlated or actively harmful for each other. It likely means that when amino acid i gets replaced by amino acid j or vice versa, the organism no longer becomes viable and thus cannot spread its genes through evolution."
   ]
  },
  {
   "cell_type": "markdown",
   "id": "c8177735",
   "metadata": {
    "pycharm": {
     "name": "#%% md\n"
    }
   },
   "source": [
    "<div class=\"alert alert-success\">\n",
    "    \n",
    "**Problem 2 (b).** The BLOSUM<em>x</em> matices are created by clustering sequences with more than <em>x</em>% similarity into one single sequence and comparing sequences with more than <em>x</em>% divergence. Therefore, BLOSUM matrices are based on local alignments. Which of BLOSUM 50 and 60 contain more evoluationary divergence? \n",
    "    \n",
    "</div>"
   ]
  },
  {
   "cell_type": "markdown",
   "id": "6c2e62b5",
   "metadata": {
    "pycharm": {
     "name": "#%% md\n"
    }
   },
   "source": [
    "The percentage is a ceiling for pairwise identity. This means that BLOSUM 50 should be used for sequences with more evolutionary divergence. If X is too high there will be little sequences grouped together."
   ]
  },
  {
   "cell_type": "markdown",
   "id": "b992fc58",
   "metadata": {
    "pycharm": {
     "name": "#%% md\n"
    }
   },
   "source": [
    "<div class=\"alert alert-success\">\n",
    "\n",
    "**Problem 2 (c).** Use the BLOSUM62 matrix as your scoring function to perform global alignment on the amino-acid sequences using `linearGap` (default parameters).\n",
    "</div>"
   ]
  },
  {
   "cell_type": "code",
   "execution_count": 20,
   "id": "acd856ef",
   "metadata": {
    "pycharm": {
     "name": "#%%\n"
    }
   },
   "outputs": [],
   "source": [
    "blosum_matrix = bl.BLOSUM(62)"
   ]
  },
  {
   "cell_type": "code",
   "execution_count": 21,
   "id": "962e6014",
   "metadata": {
    "pycharm": {
     "name": "#%%\n"
    }
   },
   "outputs": [
    {
     "name": "stdout",
     "output_type": "stream",
     "text": [
      "---VLTSKA---VL-R--SPSRAEVRTLNSL----LEKDLQVRREKTGSGACIWR-A--ET---AGGTPAR-RR-WS--SCRRPCPADSLNLWPAS\n",
      "PSGa-aS-AC_EiLHqGCaPS---t-T-qSLWIWTL--Df------T-aGe---RSASHqTDQQrGhaP-REqRHqaGLS--R---AgS-ratP-d\n",
      "68.0\n"
     ]
    }
   ],
   "source": [
    "# Your code here\n",
    "\n",
    "def blossumMatch(a, b):\n",
    "    key = str(a).upper() + str(b).upper()\n",
    "    return blosum_matrix[key]\n",
    "\n",
    "\n",
    "# print(seq1) # human\n",
    "# print(seq2) # mouse\n",
    "\n",
    "ma1, ra1 = showAlignmentG(seq1, seq2, linearGap, blossumMatch)\n",
    "\n"
   ]
  },
  {
   "cell_type": "markdown",
   "id": "c5550d64",
   "metadata": {
    "pycharm": {
     "name": "#%% md\n"
    }
   },
   "source": [
    "_Type your answer here_"
   ]
  },
  {
   "cell_type": "markdown",
   "id": "31d9b6b3",
   "metadata": {
    "pycharm": {
     "name": "#%% md\n"
    }
   },
   "source": [
    "<div class=\"alert alert-success\">\n",
    "\n",
    "**Problem 2 (d).** How do your results for Problem 2c differ from the earlier ones of Problem 1a (with `linearGap`)? Which one would you say is more biologically plausible?\n",
    "</div>"
   ]
  },
  {
   "cell_type": "markdown",
   "id": "4a59c4d5",
   "metadata": {
    "pycharm": {
     "name": "#%% md\n"
    }
   },
   "source": [
    "The linear gap score for 2c was 68.0 while the linear gap score for 1a was 25, so the score is higher for the amino acids. This makes sense because amino acids have multiple encodings so even if two nucleotides are different they could encode for the same amino acid and thus be a match."
   ]
  },
  {
   "cell_type": "markdown",
   "id": "466e2c0d",
   "metadata": {
    "pycharm": {
     "name": "#%% md\n"
    }
   },
   "source": [
    "<div class=\"alert alert-success\">\n",
    "\n",
    "**Problem 2 (e).** We discussed in class that the PAM matrices follow the Markov property and a mismatch at any site depends only on the amino acid at that site and the transition probability. Is this a suitable representation of evolution? Think about if replacements are equaly likely to occur over entire sequences. It may help to consider the difference between PAM and BLOSUM matrices.\n",
    "</div>"
   ]
  },
  {
   "cell_type": "markdown",
   "id": "8a03bdba",
   "metadata": {
    "pycharm": {
     "name": "#%% md\n"
    }
   },
   "source": [
    "Replacements are not equally likely to occur over entire sequences. Due to the shape of chromosomes replacements are more likely to happen in the cross section where the chromosome is more tightly wound. In addition, certain genomes may be more critical than others, so these areas may be less resistant to change and thus have a different associated score. BLOSUM accounts for this by being based on local alignments, and is considered to have better performance than the PAM matrices."
   ]
  },
  {
   "cell_type": "markdown",
   "id": "ca2f5b18",
   "metadata": {
    "pycharm": {
     "name": "#%% md\n"
    }
   },
   "source": [
    "## Part 3: Local Sequence Alignment\n"
   ]
  },
  {
   "cell_type": "markdown",
   "id": "3c90c31d",
   "metadata": {
    "pycharm": {
     "name": "#%% md\n"
    }
   },
   "source": [
    "<div class=\"alert alert-success\">\n",
    "    \n",
    "<b>Problem 3 (a).</b> Implement local alignment (for both the normal and affine-gap penalties) using the Smith-Waterman algorithm. Feel free to re-use and modify the given Needleman–Wunsch algorithm. \n",
    "</div>"
   ]
  },
  {
   "cell_type": "code",
   "execution_count": 22,
   "id": "7bdbbceb",
   "metadata": {
    "pycharm": {
     "name": "#%%\n"
    }
   },
   "outputs": [],
   "source": [
    "def highestScore(matrix, n, m):\n",
    "    # n x m matrix\n",
    "    maxScore = -99\n",
    "    maxIndex = (0, 0)\n",
    "    for i in range(n):\n",
    "        for j in range(m):\n",
    "            if matrix[i, j] > maxScore:\n",
    "                maxScore = matrix[i, j]\n",
    "                maxIndex = (i, j)\n",
    "    return maxIndex\n",
    "\n",
    "\n",
    "def readLocalAlignmentG(s1, s2, m, gapPenalty, match):\n",
    "    maxIndex = highestScore(m, len(m), len(m[0]))\n",
    "    i = maxIndex[0]  #len(s1)\n",
    "    j = maxIndex[1]  #len(s2)\n",
    "    s1a = \"\"\n",
    "    s2a = \"\"\n",
    "    score = 0\n",
    "    while i > 0 or j > 0:\n",
    "        #condition about zero, stop the program\n",
    "\n",
    "        diagonal_score = m[i - 1, j - 1]\n",
    "        horizontal_score = m[i, j - 1]\n",
    "        vertical_score = m[i - 1, j]\n",
    "        #if all three are zero, end algorithm\n",
    "        if diagonal_score == 0 and horizontal_score == 0 and vertical_score == 0:\n",
    "            if i > 0 and j > 0 and m[i, j] == m[i - 1, j - 1] + match(s1[i - 1], s2[j - 1]):\n",
    "                i = i - 1\n",
    "                j = j - 1\n",
    "                s1a = s1[i] + s1a\n",
    "                s2a = (s2[j] if s1[i] == s2[j] else s2[j].lower()) + s2a  # todo, understand this line\n",
    "                score += match(s1[i], s2[j])\n",
    "\n",
    "            # i = i - 1\n",
    "            # j = j - 1\n",
    "            # s1a = s1[i] + s1a # in come cases, these next three lines are needed to make the algorithm work, in others no\n",
    "            # s2a = s2[j] + s2a\n",
    "            # score += match(s1[i], s2[j])\n",
    "            break\n",
    "        if i > 0 and j > 0 and m[i, j] == m[i - 1, j - 1] + match(s1[i - 1], s2[j - 1]):\n",
    "            i = i - 1\n",
    "            j = j - 1\n",
    "            s1a = s1[i] + s1a\n",
    "            s2a = (s2[j] if s1[i] == s2[j] else s2[j].lower()) + s2a  # todo, understand this line\n",
    "            score += match(s1[i], s2[j])\n",
    "        else:\n",
    "            foundit = False\n",
    "            for g in range(1, i + 1):\n",
    "                if m[i, j] == m[i - g, j] + gapPenalty(g):\n",
    "                    s1a = s1[i - g:i] + s1a\n",
    "                    s2a = ('-' * g) + s2a\n",
    "                    i = i - g\n",
    "                    score += gapPenalty(g)\n",
    "                    foundit = True\n",
    "                    break\n",
    "            if not foundit:\n",
    "                for g in range(1, j + 1):\n",
    "                    if m[i, j] == m[i, j - g] + gapPenalty(g):\n",
    "                        s1a = ('-' * g) + s1a\n",
    "                        s2a = s2[j - g:j] + s2a\n",
    "                        j = j - g\n",
    "                        score += gapPenalty(g)\n",
    "                        foundit = True\n",
    "                        break\n",
    "            assert foundit\n",
    "    return (s1a, s2a, score)\n",
    "\n",
    "\n",
    "def localAlignmentScoreDPG(s1, s2, gapPenalty, match):\n",
    "    m = np.zeros((len(s1) + 1, len(s2) + 1))\n",
    "    m[0, 0] = 0\n",
    "    for i in range(1, len(s1) + 1):\n",
    "        for j in range(1, len(s2) + 1):\n",
    "            m[i, j] = max(chain([0],\n",
    "                                (gapPenalty(g) + m[i, j - g] for g in range(1, j)),\n",
    "                                (gapPenalty(g) + m[i - g, j] for g in range(1, i)),\n",
    "                                [(match(s1[i - 1], s2[j - 1]) + m[i - 1, j - 1])]))\n",
    "    return m\n",
    "\n",
    "\n",
    "def showAlignmentLocal(s1, s2, gapPenalty, match):\n",
    "    # Although it is often useful to return all high scoring local alignments for an input pair, \n",
    "    # it is sufficient if your algorithm just returns the single highest-scoring local alignment \n",
    "    # (as shown in the examples below).\n",
    "    #k = alignmentScoreDPG(s1, s2, gapPenalty, match) # for comparison\n",
    "    #print(k)\n",
    "    m = localAlignmentScoreDPG(s1, s2, gapPenalty, match)\n",
    "    r = readLocalAlignmentG(s1, s2, m, gapPenalty, match)\n",
    "    print(r[0] + \"\\n\" + r[1] + \"\\n\" + str(r[2]))\n",
    "    return (m, r)"
   ]
  },
  {
   "cell_type": "markdown",
   "id": "cf15a933",
   "metadata": {
    "pycharm": {
     "name": "#%% md\n"
    }
   },
   "source": [
    "We've included some assert statements that can help you check the correctness of your algorithm. As with any algorithm, correctness on these test inputs does not guarantee algorithmic correcntess, but can be useful to debug."
   ]
  },
  {
   "cell_type": "code",
   "execution_count": 23,
   "id": "b47e4ed8",
   "metadata": {
    "pycharm": {
     "name": "#%%\n"
    }
   },
   "outputs": [
    {
     "name": "stdout",
     "output_type": "stream",
     "text": [
      "GG\n",
      "GG\n",
      "2\n"
     ]
    }
   ],
   "source": [
    "# Example expected output\n",
    "# Taken from https://en.wikipedia.org/wiki/Smith–Waterman_algorithm)\n",
    "r = showAlignmentLocal(\"GGACTTAAATAGA\", \"TGTTGGTGATCCACGTGG\", linearGap, simpleMatch)\n",
    "#r = showAlignmentLocal(\"GGTTGA\", \"TGTTA\", linearGap, simpleMatch)"
   ]
  },
  {
   "cell_type": "code",
   "execution_count": 24,
   "id": "56ab4c70",
   "metadata": {
    "pycharm": {
     "name": "#%%\n"
    }
   },
   "outputs": [
    {
     "name": "stdout",
     "output_type": "stream",
     "text": [
      "GTTGAC\n",
      "GTT-AC\n",
      "4\n",
      "GG\n",
      "GG\n",
      "2\n",
      "G\n",
      "G\n",
      "1\n",
      "TA-CGG\n",
      "TATCGG\n",
      "4\n"
     ]
    }
   ],
   "source": [
    "# First assert\n",
    "r = showAlignmentLocal(\"GGTTGACTA\", \"TGTTACGG\", linearGap, simpleMatch)\n",
    "assert (r[1][2] == 4 and \"GTTGAC\" in r[1] and \"GTT-AC\" in r[1])\n",
    "\n",
    "# Second assert\n",
    "r = showAlignmentLocal(\"GGACTTAAATAGA\", \"TGTTGGTGATCCACGTGG\", linearGap, simpleMatch)\n",
    "assert (r[1][2] == 2 and \"GG\" == r[1][0] and \"GG\" == r[1][1])\n",
    "\n",
    "# Third assert\n",
    "r = showAlignmentLocal(\"TTGA\", \"GGCC\", linearGap, simpleMatch)\n",
    "assert (r[1][2] == 1 and \"G\" == r[1][0] and \"G\" == r[1][1])\n",
    "\n",
    "# Fourth assert\n",
    "r = showAlignmentLocal(\"TACGGGCCCGCTAC\", \"TAGCCCTATCGGTCA\", linearGap, simpleMatch)\n",
    "\n",
    "assert (r[1][2] == 4 and \"TA-CGG\" in r[1] and \"TATCGG\" in r[1])"
   ]
  },
  {
   "cell_type": "markdown",
   "id": "ecc34a37",
   "metadata": {
    "pycharm": {
     "name": "#%% md\n"
    }
   },
   "source": [
    "<div class=\"alert alert-success\">\n",
    "    \n",
    "<b>Problem 3 (b).</b> Align the provided hemoglobin genes for:\n",
    "    <ol>\n",
    "        <li>`polar bears` & `black bears`,</li>\n",
    "        <li>`humans` & `chimps`,</li>\n",
    "        <li>`polar bears` & `humans`, and</li>\n",
    "        <li>`black bears` & `chimps`.</li>\n",
    "    </ol>\n",
    "\n",
    "Use `linearGap`.\n",
    "    \n",
    "Take note of the scores you get. What do you notice?\n",
    "</div>"
   ]
  },
  {
   "cell_type": "code",
   "execution_count": 25,
   "id": "7bf7dcfa",
   "metadata": {
    "pycharm": {
     "name": "#%%\n"
    }
   },
   "outputs": [
    {
     "name": "stdout",
     "output_type": "stream",
     "text": [
      "589\n"
     ]
    }
   ],
   "source": [
    "polar_bear, black_bear, human, chimp = utils.get_hemoglobin_sequences()\n",
    "print(len(black_bear))"
   ]
  },
  {
   "cell_type": "code",
   "execution_count": 26,
   "id": "00663f6a",
   "metadata": {
    "pycharm": {
     "name": "#%%\n"
    }
   },
   "outputs": [
    {
     "name": "stdout",
     "output_type": "stream",
     "text": [
      "[[  0.   0.   0. ...   0.   0.   0.]\n",
      " [  0.   0.   0. ...   1.   0.   0.]\n",
      " [  0.   0.   0. ...   1.   0.   0.]\n",
      " ...\n",
      " [  0.   0.   0. ... 323. 322. 321.]\n",
      " [  0.   0.   0. ... 322. 324. 323.]\n",
      " [  0.   1.   1. ... 321. 323. 325.]]\n"
     ]
    }
   ],
   "source": [
    "#polar_black_r = showAlignmentLocal(polar_bear, black_bear, linearGap, simpleMatch)\n",
    "polar_black_m = localAlignmentScoreDPG(polar_bear, black_bear, linearGap, simpleMatch)\n",
    "print(polar_black_m)"
   ]
  },
  {
   "cell_type": "code",
   "execution_count": 27,
   "id": "33f7d326",
   "metadata": {
    "pycharm": {
     "name": "#%%\n"
    }
   },
   "outputs": [
    {
     "name": "stdout",
     "output_type": "stream",
     "text": [
      "A\n"
     ]
    }
   ],
   "source": [
    "r = readLocalAlignmentG(polar_bear, black_bear, polar_black_m, linearGap, simpleMatch)  # 325\n",
    "print(r[1][2])\n"
   ]
  },
  {
   "cell_type": "code",
   "execution_count": null,
   "id": "d239c385",
   "metadata": {
    "pycharm": {
     "name": "#%%\n"
    }
   },
   "outputs": [],
   "source": [
    "print(len(human))"
   ]
  },
  {
   "cell_type": "code",
   "execution_count": null,
   "id": "208481f5",
   "metadata": {
    "pycharm": {
     "name": "#%%\n"
    }
   },
   "outputs": [],
   "source": [
    "r = showAlignmentLocal(human, chimp, linearGap, simpleMatch)  # 801\n",
    "r = showAlignmentLocal(polar_bear, human, linearGap, simpleMatch)  # 503\n",
    "r = showAlignmentLocal(black_bear, chimp, linearGap, simpleMatch)  # 209\n"
   ]
  },
  {
   "cell_type": "markdown",
   "id": "6a7b3dde",
   "metadata": {
    "pycharm": {
     "name": "#%% md\n"
    }
   },
   "source": [
    "The alignment score with humans and chimps is a lot higher than that of humans with polar bears or chimps with black bears. As humans and chimps are close ancestors of each other, this makes sense."
   ]
  },
  {
   "cell_type": "markdown",
   "id": "efe84140",
   "metadata": {
    "pycharm": {
     "name": "#%% md\n"
    }
   },
   "source": [
    "<div class=\"alert alert-success\">\n",
    "\n",
    "<b>Problem 3 (c).</b> Use <a href=\"https://blast.ncbi.nlm.nih.gov/\">BLAST</a> for the above pairs of sequences. Carefully inspect the returned results to see if they are similar to the alignments you obtained above.\n",
    "</div>"
   ]
  },
  {
   "cell_type": "markdown",
   "id": "0f39e6a1",
   "metadata": {
    "pycharm": {
     "name": "#%% md\n"
    }
   },
   "source": [
    "We used megablast with a match, mismatch score of 1, -1, a gap opening cost of 0 and a gap extensions cost of 2 for all the below results:\n",
    "                 BLAST, us\n",
    "Human/Chimp score: 919, 801\n",
    "black/polar score: 262, 325\n",
    "polar/human score: 495, 503\n",
    "black/chimp score: 189, 209\n",
    "\n",
    "As expected, we see differences in the scores of our alignments verses those found by BLAST. This could be due to different parameter values like the gap extension penalty, differences in how the algorithm is implemented, etc. BLAST returns several local alignments, not just the maximum score alignment. We can compare the outputs of the maximal score of a BLAST query with our own using a diff checker. What jumps out immedietly in the comparison is that BLAST's alignment contains no gaps. This is impressive given the 0 cost for a gap opening. The length of the alignment is also significantly shorter, BLAST does a much better job of honing in on specific sequences then our algorithm.\n",
    "- another difference is that our algorithm enters gaps into both sequences, not just the one we are comparing too"
   ]
  },
  {
   "cell_type": "markdown",
   "id": "7bb2ee79",
   "metadata": {
    "pycharm": {
     "name": "#%% md\n"
    }
   },
   "source": [
    "<div class=\"alert alert-success\">\n",
    "\n",
    "<b>Problem 3 (d).</b> Could you run an affine-gap-loss version of your local-alignment algorithm for the given sequences? How much time did BLAST take?\n",
    "Can you think of any optimizations you could make to make the affine-gap-loss version run faster- perhaps utilizing parallel processing or GPUs?\n",
    "</div>"
   ]
  },
  {
   "cell_type": "markdown",
   "id": "e7c29327",
   "metadata": {
    "pycharm": {
     "name": "#%% md\n"
    }
   },
   "source": [
    "Yes, we can run an affine-gap-loss version, an example is given in the cell below. BLAST was extremely fast, in all cases it took about a second to run. \n",
    "\n",
    "We generally think of arithmetic as a constant factor when desiging algorithms and this is something we tend to overlook. But with the size of genomic datasets, it's important to think of additional ways we can improve our algorithm, including working on those constant factors. But when we think about the differences in the architecture of a cpu vs a gpu, a gpu has significantly more ALUs, which are the logic gates that do arithmetic. We can split up our tasks into parallel tasks because of the fact that when building our scoring matrix, each node needs the value of the three scores adjecent to it. This means that we only need to wait for three values, not every value computed thus far. We can fill up our scoring matrix much faster by using hardware that favors arithmatic like GPUs, and using algorithms that do many of these computations at the same time.\n",
    "\n",
    "\n",
    "Of course, this is after our initial optimization. To avoid a large amount of recursive calls, we build a scoring matrix. This dynamic programming method provides a significant speed up on its own. "
   ]
  },
  {
   "cell_type": "code",
   "execution_count": null,
   "id": "70cbb0ec",
   "metadata": {
    "pycharm": {
     "name": "#%%\n"
    }
   },
   "outputs": [],
   "source": [
    "r = showAlignmentLocal(human, chimp, affineGap, simpleMatch)"
   ]
  },
  {
   "cell_type": "markdown",
   "id": "ac3da3b1",
   "metadata": {
    "pycharm": {
     "name": "#%% md\n"
    }
   },
   "source": [
    "## Part 4: Phylogenetic Tree Reconstruction"
   ]
  },
  {
   "cell_type": "markdown",
   "id": "0032e9db",
   "metadata": {
    "pycharm": {
     "name": "#%% md\n"
    }
   },
   "source": [
    "For this part, we'll briefly enter a fictional setup where you want to trace the evolution of Pokémon. The data is in the format of a two lists: one each for the sequences themselves, and names of the Pokémons."
   ]
  },
  {
   "cell_type": "markdown",
   "id": "cdb8f856",
   "metadata": {
    "pycharm": {
     "name": "#%% md\n"
    }
   },
   "source": [
    "<div class=\"alert alert-success\">\n",
    "    \n",
    "**Problem 4 (a).** Implement an algorithm for Phylogenetic Tree Reconstrution using the neighbor joining algorithm. Color intermediate nodes different from leaf nodes. Use given names as node labels in your visualization.\n",
    "    \n",
    "For computing the distances matrix, use affine-based gap-loss in your alignment score computations.\n",
    "    \n",
    "</div>"
   ]
  },
  {
   "cell_type": "markdown",
   "id": "c6d7f9a8",
   "metadata": {
    "pycharm": {
     "name": "#%% md\n"
    }
   },
   "source": [
    "You can either label intermediate nodes in the Phylogenetic tree such that they start with \"intermediate_\" and use the given functions below, or use your own nomenclature/way of handling those node, and modify the given helper functions accordingly."
   ]
  },
  {
   "cell_type": "code",
   "execution_count": 99,
   "id": "78dec444",
   "metadata": {
    "pycharm": {
     "name": "#%%\n"
    }
   },
   "outputs": [],
   "source": [
    "# Your code here\n",
    "def sum_k(index, adjmatrix):\n",
    "    sum = 0\n",
    "    for k in range(len(adjmatrix[index])):\n",
    "        if index != k:\n",
    "            sum += adjmatrix[index][k]\n",
    "    return sum\n",
    "\n",
    "\n",
    "def update_distance(adjmatrix, a, b):\n",
    "    u = max(a, b) - 1\n",
    "    #u = min(a,b) # index of u\n",
    "    # possibly check the matrix distance for fIndexError\n",
    "    new_matrix = np.delete(np.delete(adjmatrix, min(a, b), 0), min(a, b), 1)\n",
    "    # delete row/column a, row/column b becomes u\n",
    "    dist_a_b = adjmatrix[a][b]\n",
    "    for i in range(len(new_matrix)):\n",
    "        if i != u:  # we are indexing adjmatrix\n",
    "            if i >= u:\n",
    "                temp_i = i + 1  # this is to correct for the differences in the old and new matrix\n",
    "                new_distance = 0.5 * (adjmatrix[a][temp_i] + adjmatrix[b][temp_i] - dist_a_b)\n",
    "            else:\n",
    "                new_distance = 0.5 * (adjmatrix[a][i] + adjmatrix[b][i] - dist_a_b)\n",
    "            new_matrix[i][u] = new_distance\n",
    "            new_matrix[u][i] = new_distance\n",
    "    return new_matrix\n",
    "\n",
    "\n",
    "def calculate_Q(i, j, adjmatrix):\n",
    "    n = len(adjmatrix)\n",
    "    q = (n - 2) * adjmatrix[i][j]\n",
    "    sum1 = sum_k(i, adjmatrix)\n",
    "    q -= sum1\n",
    "    sum2 = sum_k(j, adjmatrix)\n",
    "    q -= sum2\n",
    "    return q\n",
    "\n",
    "\n",
    "import sys\n",
    "\n",
    "\n",
    "def generate_Q_matrix(adjmatrix):\n",
    "    Q_matrix = [[-1 for j in adjmatrix] for i in adjmatrix]\n",
    "    for i in range(len(adjmatrix)):\n",
    "        for j in range(len(adjmatrix[0])):\n",
    "            if i == j:  #we omit the diagonal values in our Q matrix\n",
    "                Q_matrix[i][j] = sys.maxsize\n",
    "            if Q_matrix[i][j] == -1:\n",
    "                Q_matrix[i][j] = calculate_Q(i, j, adjmatrix)\n",
    "                Q_matrix[j][i] = Q_matrix[i][j]\n",
    "    return Q_matrix\n",
    "\n",
    "\n",
    "def find_lowest_Q(adjmatrix):\n",
    "    # n x m matrix\n",
    "    n, m_ = len(adjmatrix), len(adjmatrix[0])\n",
    "    min_score = sys.maxsize\n",
    "    min_index = (0, 0)\n",
    "    for i in range(n):\n",
    "        for j in range(m_):\n",
    "            if adjmatrix[i][j] < min_score:\n",
    "                min_score = adjmatrix[i][j]\n",
    "                min_index = (i, j)\n",
    "    return min_index\n",
    "\n",
    "\n",
    "import copy\n",
    "\n",
    "\n",
    "def neighbor_join(adjm, nodes):  # this is one iteration of the algorithm and is called in construct_alignment\n",
    "    # print(\"before state of nodes\", nodes)\n",
    "    Q_matrix = generate_Q_matrix(adjm)  #these next 2 steps can be combined\n",
    "    lowest_Q = find_lowest_Q(Q_matrix)  #lowest_Q[0] = a, lowest_Q[1] = b\n",
    "    temp_list = copy.deepcopy(nodes)  #this is in order to keep the indexes of nodes intact with what we are removing\n",
    "    a_index = lowest_Q[0]\n",
    "    b_index = lowest_Q[1]\n",
    "    a_name = nodes.pop(a_index)\n",
    "    b_name = temp_list.pop(b_index)\n",
    "    temp = (2 * (len(adjm) - 2))\n",
    "    # denom = temp if temp != 0 else 1\n",
    "    new_distance_a = (sum_k(a_index, adjm) - sum_k(b_index, adjm)) / temp  # potential division by zero here\n",
    "    new_distance_a = new_distance_a + adjm[a_index][b_index] / 2\n",
    "    new_distance_b = adjm[a_index][b_index] - new_distance_a\n",
    "    nodes[max(a_index, b_index) - 1] = \"i_\" + a_name + b_name\n",
    "    adjm = update_distance(adjm, a_index, b_index)\n",
    "    # print(\"end state of nodes\", nodes)\n",
    "    return adjm, new_distance_a, new_distance_b, a_name, b_name, nodes\n",
    "\n",
    "# find i and j with lowest Q value\n",
    "# join i and j to an intermediate node u (closer to center)\n",
    "# calculate distance from i and j to u (based on alignment)\n",
    "# calculate distance from every other node to u\n",
    "# start the algorithm again, replacing i and j with u, until there remains only one intermediate node (SOURCE)\n"
   ]
  },
  {
   "cell_type": "markdown",
   "id": "1e4c6782",
   "metadata": {
    "pycharm": {
     "name": "#%% md\n"
    }
   },
   "source": [
    "We've provided a helper function to plot a given Phylogenetic tree"
   ]
  },
  {
   "cell_type": "code",
   "execution_count": 109,
   "id": "033c7e4c",
   "metadata": {
    "pycharm": {
     "name": "#%%\n"
    }
   },
   "outputs": [],
   "source": [
    "def construct_alignment(dist, names):\n",
    "    G = nx.Graph()\n",
    "    tree_vals = [dist, -1, -1, \"name1\", \"name2\", names]  # contains a matrix, and two computed distance vals\n",
    "    while len(\n",
    "            tree_vals[0]) > 2:  #todo needs to be > 2, take the distance values from the remaining distance matrix step\n",
    "        print(\"tREE VALS before\", tree_vals)\n",
    "        tree_vals = neighbor_join(tree_vals[0], names)\n",
    "        arg = \"i_\" + tree_vals[3] + tree_vals[4]\n",
    "        G.add_edge(tree_vals[3], arg, weight=tree_vals[1])\n",
    "        G.add_edge(tree_vals[4], arg, weight=tree_vals[2])\n",
    "        names = tree_vals[5]\n",
    "        print(\"tREE VALS after\", tree_vals)\n",
    "    #todo need connect last intermediate node\n",
    "    # I added dummy values for visualization\n",
    "    # G.add_edge(\"pikachu\", \"weedle\")\n",
    "    # G.add_edge(\"weedle\", \"intermediate_\", weight=0.9)\n",
    "    return G"
   ]
  },
  {
   "cell_type": "code",
   "execution_count": 17,
   "id": "c41c2900",
   "metadata": {
    "pycharm": {
     "name": "#%%\n"
    }
   },
   "outputs": [],
   "source": [
    "def draw_graph_nice(G):\n",
    "    \"\"\"\n",
    "        Helper function to plot a given Phylogenetic tree.\n",
    "        Assumes intermediate node names start with 'intermediate_'\n",
    "    \"\"\"\n",
    "    nodes = list(G.nodes)\n",
    "    # Plot i nodes smaller\n",
    "    sizes = [10 if \"i_\" in x else 2000 for x in nodes]\n",
    "    labels = {}\n",
    "    for node in nodes:\n",
    "        if not node.startswith(\"i_\"):\n",
    "            labels[node] = node\n",
    "    fig, ax = plt.subplots(figsize=(15, 15))\n",
    "    nx.draw_planar(G, node_size=sizes, with_labels=True, node_color=\"#ADD8E6\")"
   ]
  },
  {
   "cell_type": "markdown",
   "id": "a968394d",
   "metadata": {
    "pycharm": {
     "name": "#%% md\n"
    }
   },
   "source": [
    "Here's the visualization for the given example on Wikipedia to get a sense of what the output should look like. We use `networkx` for creating and managing the graphs."
   ]
  },
  {
   "cell_type": "code",
   "execution_count": 111,
   "id": "6793b3fe",
   "metadata": {
    "pycharm": {
     "name": "#%%\n"
    }
   },
   "outputs": [
    {
     "name": "stdout",
     "output_type": "stream",
     "text": [
      "tREE VALS before [array([[ 0.,  5.,  9.,  9.,  8.],\n",
      "       [ 5.,  0., 10., 10.,  9.],\n",
      "       [ 9., 10.,  0.,  8.,  7.],\n",
      "       [ 9., 10.,  8.,  0.,  3.],\n",
      "       [ 8.,  9.,  7.,  3.,  0.]]), -1, -1, 'name1', 'name2', ['a', 'b', 'c', 'd', 'e']]\n",
      "tREE VALS after (array([[0., 7., 7., 6.],\n",
      "       [7., 0., 8., 7.],\n",
      "       [7., 8., 0., 3.],\n",
      "       [6., 7., 3., 0.]]), 2.0, 3.0, 'a', 'b', ['i_ab', 'c', 'd', 'e'])\n",
      "tREE VALS before (array([[0., 7., 7., 6.],\n",
      "       [7., 0., 8., 7.],\n",
      "       [7., 8., 0., 3.],\n",
      "       [6., 7., 3., 0.]]), 2.0, 3.0, 'a', 'b', ['i_ab', 'c', 'd', 'e'])\n",
      "tREE VALS after (array([[0., 4., 3.],\n",
      "       [4., 0., 3.],\n",
      "       [3., 3., 0.]]), 3.0, 4.0, 'i_ab', 'c', ['i_i_abc', 'd', 'e'])\n",
      "tREE VALS before (array([[0., 4., 3.],\n",
      "       [4., 0., 3.],\n",
      "       [3., 3., 0.]]), 3.0, 4.0, 'i_ab', 'c', ['i_i_abc', 'd', 'e'])\n",
      "tREE VALS after (array([[0., 1.],\n",
      "       [1., 0.]]), 2.0, 2.0, 'i_i_abc', 'd', ['i_i_i_abcd', 'e'])\n"
     ]
    }
   ],
   "source": [
    "# Wikipedia example: https://en.wikipedia.org/wiki/Neighbor_joining\n",
    "distances = np.array([\n",
    "    [0, 5, 9, 9, 8],\n",
    "    [5, 0, 10, 10, 9],\n",
    "    [9, 10, 0, 8, 7],\n",
    "    [9, 10, 8, 0, 3],\n",
    "    [8, 9, 7, 3, 0]\n",
    "], dtype=float)\n",
    "\n",
    "seq_names = [\"a\", \"b\", \"c\", \"d\", \"e\"]\n",
    "G = construct_alignment(distances, seq_names)"
   ]
  },
  {
   "cell_type": "code",
   "execution_count": 112,
   "id": "c9cdf2ae",
   "metadata": {
    "pycharm": {
     "name": "#%%\n"
    }
   },
   "outputs": [
    {
     "data": {
      "image/png": "[encoded data removed]",
      "text/plain": [
       "<Figure size 1500x1500 with 1 Axes>"
      ]
     },
     "metadata": {},
     "output_type": "display_data"
    }
   ],
   "source": [
    "draw_graph_nice(G)"
   ]
  },
  {
   "cell_type": "code",
   "execution_count": null,
   "id": "1b13d06b",
   "metadata": {
    "pycharm": {
     "name": "#%%\n"
    }
   },
   "outputs": [],
   "source": [
    "G.edges.data()\n"
   ]
  },
  {
   "cell_type": "code",
   "execution_count": 132,
   "id": "499ea40c",
   "metadata": {
    "pycharm": {
     "name": "#%%\n"
    }
   },
   "outputs": [
    {
     "name": "stdout",
     "output_type": "stream",
     "text": [
      "['TGCACTCTCAGATCCTCATCTCGTTTCCATAGTTC', 'GGCGCTTCGTTCGCGTAAAGTCCCCCACCTACCGG', 'ACAATATCTCGGAACCACCACAGTGCTCTAGATAC', 'TTGCGTGGCAGAACCTAACCCGACAGTAGGCACTA', 'TCAGCGTCCGCTAGGCTAAGGCGTGAAGAGTAGCC', 'TCCGACCGACTAGCTTCGTACACTGCCAACCGCAT', 'TGACGCATGCTAATGCCCCAAAGTCTCGACAAGTC', 'TTGACGTAGATCCCCGTTGCATCGACAAGCATCAA', 'AGTTCAGGGATTGTAATTCGTCTGTAGAGTTGGGC', 'ACAATGAATGGTTGAATTGCCATACACGCGCTTAA', 'TGTGGTTCCTACCTGTCGCGTCTTTAAGGAAAGTC', 'TGTGTTGTAGCCAAAGCCGAATAATCTAATTAACG', 'TACAACCAAGCAAGCTGCAGGTGTAACGCGGTTGA', 'AGCAACTAGGTAATAAATTGCATGCAGGGCGTTCC', 'CACGCATGTTATTATGGCCCTCTATTGTATGCCCT']\n",
      "['Ho-Oh', 'Toucannon', 'Stantler', 'Drapion', 'Vaporeon', 'Grumpig', 'Beheeyem', 'Snorlax', 'Doduo', 'Shaymin', 'Grovyle', 'Sawsbuck', 'Dunsparce', 'Slurpuff', 'Raichu']\n",
      "TGCACTCTCAGATCCTCATCTCGTTTCCATAGTTC\n",
      "TGCACTCTCAGATCCTCATCTCGTTTCCATAGTTC\n",
      "35\n",
      "TGCACTCTCAGATC-C-TCA--TCTCGTTTCCA--TA---GTTC\n",
      "gGCgCT-TC-GtTCGCGTaAAGTCcC----CCACCTACCGG---\n",
      "5.2\n",
      "TGCAC----TCTCAGATCCTCATCTC-GT-TTCCATAG-TTC\n",
      "---ACAATATCTCgGAaC--CAcCaCAGTGcTC--TAGATaC\n",
      "7.6\n",
      "-TGCACTCT--CAGATCCTCATCTCGTTTCCATAGT------TC\n",
      "TTGC---gTGGCAGAaCCT-AaCcCG-----AcAGTAGGCACTa\n",
      "5.6\n",
      "TGCA-CTCTCAGATCCTCAT---CT----CGTTTCCA----TAGTTC\n",
      "T-CAGC-----G-TCCgC-TAGGCTAAGGCGT---gAAGAGTAG-cC\n",
      "4.2\n",
      "TGC-ACTCTCAGATCCTCATC-TCGT----TTCCATA--G--TTC\n",
      "TcCGAC---C-GA--CT-AgCTTCGTACACTgCCA-ACCGCAT--\n",
      "6.199999999999999\n",
      "T---GCACT-CTCAGAT-CCTCA---TCTCGTTTCCATAGTTC\n",
      "TGACGCA-TGCT-A-ATGCCcCAAAGTCTCG---aCA-AG-TC\n",
      "11.799999999999999\n",
      "-TGCAC-TCTCAGATCCTCATCTCGTT---TC--CATAG-TTC--\n",
      "TTG-ACGT---AGATCC----C-CGTTGCATCGACA-AGCaTCAA\n",
      "10.2\n",
      "TGCACTCTCA--GATCCTCATCTCGT-T-TCCATAGTT---C\n",
      "---AgT-TCAGGGATtgTaAT-TCGTCTGT--AgAGTTGGGC\n",
      "8.799999999999999\n",
      "TGCAC--TCTCAGATCCTCATCTCGTT---T--CCATA---G---TT-C\n",
      "---ACAAT----GA-----A--TgGTTGAATTGCCATACACGCGCTTAa\n",
      "3.4\n",
      "TGCACTCTCAGATCCTCA----TCTCGT-TTCCAT------AGTTC\n",
      "TG---T---gGtTCCT-ACCTGTCgCGTCTT---TAAGGAAAG-TC\n",
      "7.199999999999999\n",
      "TGCACTCT------CAGATCC---TCATCTCGTTTCCATAGTT--C-\n",
      "TG---TgTTGTAGCCAaAgCCGAATaATCT-------A-A-TTAACG\n",
      "3.7999999999999994\n",
      "TGC-ACTCTCAGATC---CT-CA--TCTCGTTTCCATA----GTT-C\n",
      "TaCAAC---CA-AgCAAGCTGCAGGT---GT----A-ACGCGGTTGa\n",
      "3.4000000000000004\n",
      "TGC-ACTCTCAG---ATCCTC--ATCTCGTTTCCAT--A----GTT-C\n",
      "aGCAACT---AGGTAAT----AAAT-T-G----CATGCAGGGCGTTCC\n",
      "6.0\n",
      "TGCACTC-TCAG--AT------CCTC-ATCTCGT-TTCCATAGTTC\n",
      "--CACgCAT--GTTATTATGGCCCTCTAT-T-GTATgCCcT-----\n",
      "5.6\n",
      "GGCGCTTCGTTCGCGTAAAGTCCCCCACCTACCGG\n",
      "GGCGCTTCGTTCGCGTAAAGTCCCCCACCTACCGG\n",
      "35\n",
      "GGCGC--T-TCGTTCGCGTAAAGTCCCCCAC----C------TACCGG\n",
      "---aCAATATC--TCG-G--AA--CCaCCACAGTGCTCTAGATAC---\n",
      "4.799999999999999\n",
      "GGCGCTT-CGTTCGC-G----TAAAGTCCC--C------CACCTACCGG\n",
      "-----TTGCGT-gGCAGAACCTAA---CCCGACAGTAGGCA-CTA----\n",
      "5.400000000000001\n",
      "--GGCGCTTCGTT---C----GCGT-AA-AGTCCCCCA-CCTACCGG\n",
      "TCaGCG-TcCGcTAGGCTAAGGCGTGAAGAGT-----AGCC------\n",
      "4.999999999999999\n",
      "---G---G-C--GCTTCGTTCGCGTAAAGTCCCCCACCTACCG--G\n",
      "TCCGACCGACTAGCTTCGTaCaC-T---G----CCA---ACCGCAt\n",
      "6.399999999999999\n",
      "-GGCGCTTCGTTCGCGTAAAGTCCCCCA----C-CTAC----CGG\n",
      "TGaCGCaT-----GC-TAA--TgCCCCAAAGTCTCgACAAGTC--\n",
      "6.6\n",
      "GGCGCTTCGTTCG-CGTAAAGTCCCC----CACCTAC------CGG\n",
      "---------TT-GACGTAgA-TCCCCGTTGCAtCgACAAGCATCaa\n",
      "4.800000000000001\n",
      "------GGCGCTTCG---TTCG-C-GTAAAGTCCCCCACCTACCGG--\n",
      "AGTTCAGG-GaTT-GTAATTCGTCTGTAgAGT--------T---GGGC\n",
      "5.6\n",
      "GGCGC--T---TCGTTCGCGTAAA--GTCCCCCACCTAC-CG-G-----\n",
      "---aCAATGAATgGTT---G--AATTG----CCA--TACACGCGCTTAA\n",
      "2.599999999999999\n",
      "---GG--CGCTTCGT-TCGCGT--------AAAGTCCCCCACCTACCGG\n",
      "TGTGGTTC-CTaCcTGTCGCGTCTTTAAGGAAAGTC-------------\n",
      "6.6\n",
      "GGCGCTTCGTTCGCGT----AAAGTCCCCC-----ACCT-----ACCGG\n",
      "tG---T--GTT---GTAGCCAAAG----CCGAATAAtCTAATTAAC--G\n",
      "5.0\n",
      "--------GGC--GCTTCGTTCGC--GTAAAGTCCCCCACCTAC-CGG----\n",
      "TACAACCAaGCAAGCT------GCAGGT---GT-----A---ACGCGGTTGA\n",
      "2.0\n",
      "GGC-GCTTCGT--TCGCGTAAA--GTCCCC---CA---CCTACCGG\n",
      "aGCAaCTagGTAA-----TAAATTG----CATGCAGGGCgTtCC--\n",
      "1.2000000000000002\n",
      "GGCGCTTCGTTCGCGTA--AAGTCCCCC------A---CCTACCGG\n",
      "caCGCaT-GT-----TATTAtGgCCCtCTATTGTATGCCCT-----\n",
      "2.8\n",
      "ACAATATCTCGGAACCACCACAGTGCTCTAGATAC\n",
      "ACAATATCTCGGAACCACCACAGTGCTCTAGATAC\n",
      "35\n",
      "ACAATAT-C-T--CGGAACC--ACC--ACAGT--GCTCTAGATAC\n",
      "----T-TGCGTGGCaGAACCTAACCCGACAGTAGGCaCTA-----\n",
      "9.8\n",
      "ACA---ATATCTCGGAACCACCAC-AGTGCT----C-T--AGA-TA--C\n",
      "tCAGCG---TC-CG---------CTAG-GCTAAGGCGTGAAGAGTAGCC\n",
      "4.6\n",
      "ACAATATCTCGGAACC-AC------C--ACAGTGCTCTA--G-ATAC\n",
      "------TC-CG--ACCGACTAGCTTCGTACAcTGC-CaACCGCAT--\n",
      "6.199999999999999\n",
      "--A--CAATAT-CTCGGAA--CCACCACAGTGCTCTAGATA---C\n",
      "TGACGC---ATGCT---AATGCC-CCAaAGT-CTC--GAcAAGTC\n",
      "9.0\n",
      "---ACAATATCTCGGAACCACCACAG-TGC-TCT---AG-AT-AC\n",
      "TTGAC-gTA-----GAtCC-CC---GTTGCATCgACAAGCATCAa\n",
      "5.0\n",
      "A---CA---ATATCTCGGAA--CCACCACAGTGCTCTAGA--T--AC\n",
      "AGTTCAGGGAT---T-GtAATTC-------GT-CTgTAGAGTTGGgC\n",
      "4.999999999999998\n",
      "ACAAT--ATCTCG---GAA---CCA-CCACAGTGCTCTAGATAC\n",
      "ACAATGAAT---GGTTGAATTGCCATaCAC-GcGCT-TA---A-\n",
      "11.2\n",
      "ACAATATCTCGGAACC-ACCACAGT-GC-TCT---A-GATA--C\n",
      "------TgT-GGttCCTAC--CtGTCGCGTCTTTAAGGAaAGTC\n",
      "5.2\n",
      "ACAATATCTCGGAACCA---CC-ACAGTGCTCTAGAT--AC-\n",
      "----TgTgTtGtAgCCAAAGCCGA-A-TaaTCTA-ATTAACG\n",
      "4.800000000000001\n",
      "-ACAATATCTCGGAACCACCACAG-TGC---TCTA-----GAT-AC\n",
      "TACAA---C-C--AAgCA----AGCTGCAGGTgTAACGCGGtTGA-\n",
      "5.6\n",
      "A-CAATATCTCGG----AACCA--CCA--CAGTGC--TCTAGATAC\n",
      "AGCAA---CTaGGTAATAA--ATTgCATGCAGgGCGTTC------C\n",
      "7.199999999999999\n",
      "-A--CA----A-TATCTCGGAACCACCACAGTGCTCTA--G-ATAC---\n",
      "CACGCATGTTATTAT---GG--CC---------CTCTATTGTATgCCCT\n",
      "5.400000000000001\n",
      "TTGCGTGGCAGAACCTAACCCGACAGTAGGCACTA\n",
      "TTGCGTGGCAGAACCTAACCCGACAGTAGGCACTA\n",
      "35\n",
      "T-TGCGT-GGC-AGAACCTAACCCG---ACAGTAGGCACTA\n",
      "TCaGCGTCcGCTAGg--CTAAggCGTGAAgAGTA-GC-C--\n",
      "8.2\n",
      "TTGCGTGGCAGAACCTAACCCGAC-A-----GTAGGCACT---------A-\n",
      "T--C----C-GA-------CCGACTAGCTTCGTA--CACTGCCAACCGCAT\n",
      "5.3999999999999995\n",
      "TTG-CGTGGCA-G--AA----CCTAA--CCCGACAGTAGGCACTA\n",
      "-TGAC---GCATGCTAATGCCCCaAAGTCtCGACA--AG----Tc\n",
      "7.799999999999999\n",
      "TTG-CGTGGCAGAACCTAACC-------CGACAGTAGGCA-CTA\n",
      "TTGACGT---AGAtCC---CCGTTGCATCGACA--A-GCATCaA\n",
      "12.799999999999999\n",
      "--TTGC-GTGGCA--GAACCTAACCCGACAGTA------GGCACTA\n",
      "AGTT-CAG-GG-ATTG----TAAttCGtCtGTAGAGTTGGGC----\n",
      "4.4\n",
      "----TTGCG--TGGCAGAA---CC-TAACCCGACAGTAGGCACT--A\n",
      "ACAAT---GAATGGttGAATTGCCATA---C-AC-----GCgCTTAA\n",
      "5.0\n",
      "TTGCGTGG--CAGAACCTAACC---CGACAGT-----AGGCACTA---\n",
      "T---GTGGTT-----CCT-ACCTGTCG-C-GTCTTTAAGGaA--AGTC\n",
      "6.800000000000001\n",
      "TTGCGTG--GCAGAACCTAACCCGACAGTAGGCA-CTA-------\n",
      "T---GTGTTGtAG--CCaAAgCCGA-A-TA---ATCTAATTAACG\n",
      "8.6\n",
      "TTGCGTGGCAGAACCTAA-C---CCGACA---GTAGGCAC-----T-A\n",
      "T--------AcAACC-AAGCAAGCtG-CAGGTGTA---ACGCGGTTGA\n",
      "5.6\n",
      "------TTGCGTGGCAGAACCTAACCCGA---CA-GTAGG-----CACTA\n",
      "AGCAACTaG-GT-----AA--TAA----ATTGCATGcAGGGCGTTC-C--\n",
      "2.0\n",
      "-----------TTGCGTGGCAGAACCTAACCCGAC-A--GTAGGCACTA\n",
      "CACGCATGTTATT--aTGGC----CCT-------CTATTGTAtGCcCT-\n",
      "3.8\n",
      "TCAGCGTCCGCTAGGCTAAGGCGTGAAGAGTAGCC\n",
      "TCAGCGTCCGCTAGGCTAAGGCGTGAAGAGTAGCC\n",
      "35\n",
      "TCAGCGTCCG-CTAGGCTAAGGCGTGAAGAGTAGCC--------\n",
      "TC--CGaCCGACTA-GCT---tCGT--AcAcT-GCCAACCGCAT\n",
      "8.8\n",
      "TCAGCGTCCGCTAGGCTAAGGC------GT---GA-AGAGTAGCC\n",
      "TgA-----CGC-AtGCTAAtGCCCCAAAGTCTCGACA-AGT---C\n",
      "9.399999999999999\n",
      "-TCAGCGT------CCGCTAGGC-TAAGGCGTGAAGAGTAGC--C--\n",
      "TTgA-CGTAGATCCCCGtT--GCAT----CG---AcA--AGCATCAA\n",
      "4.2\n",
      "---TCAGCGTCCGCTAGGCTAAGGCG--TGAAGAGT-AGCC\n",
      "AGTTCAG-G---GaTtG--TAAttCGTCTGtAGAGTTgGgC\n",
      "7.799999999999999\n",
      "TCAGCGTCCGCTAGGCTAA-GGCGTGAA--G--AGTA---GC-C----\n",
      "aCA---------AtG--AATGG-tTGAATTGCCA-TACACGCGCTTAA\n",
      "2.7999999999999994\n",
      "TCAGCG--TCCGCTA---G--GC-----TAAGGCGTGAAGAGTAGCC\n",
      "T--GtGGTTC--CTACCTGTCGCGTCTTTAAG----GAA-AGT---C\n",
      "9.0\n",
      "TCAGCGTCCGCTAGGCTAAGGCG--TGAA---GAGTAGCC\n",
      "T--GtGT-tG-TAGcCaAAGcCGAAT-AATCTaAtTAaCg\n",
      "5.2\n",
      "T-----C-AGC--GTCCGCTAGG-CTAAGGCG--TGAAGAGTAGCC\n",
      "TACAACCAAGCAAG-CtGC-AGGTgTAAcGCGGTTGA---------\n",
      "7.2\n",
      "TCAGC--GTCCGCTAGGCTAA-----GGCGTGAAGAG---TAGCC\n",
      "--AGCAA-----CTAGG-TAATAAATtGCaTGcAGgGCGTT--CC\n",
      "7.400000000000001\n",
      "TCA-GC--GTCCGCTA----GG--CTAAGGCGTGAAGA--GTA-GCC--\n",
      "-CACGCATGT----TATTATGGCCCT----C-T----ATTGTATGCCCT\n",
      "5.8\n",
      "TCCGACCGACTAGCTTCGTACACTGCCAACCGCAT\n",
      "TCCGACCGACTAGCTTCGTACACTGCCAACCGCAT\n",
      "35\n",
      "TCCGAC-CGACTAGCTTCGTACACTG--CCAA---C-CG-CA--T-\n",
      "T--GACGC-A-T-GC----TA-A-TGCCCCAAAGTCTCGACAAGTC\n",
      "8.399999999999999\n",
      "TCCGACCGACTAG----CTTCGTACACTGC-----CAACCGCAT---\n",
      "T-tGA-CG--TAGATCCC--CGT----TGCATCGACAA--GCATCAA\n",
      "9.0\n",
      "---TCCGACCGACT---AGCTTCGTACACTGCCA-A-----CCGCAT\n",
      "AGTTC--AggGAtTGTAA--TTCGT---CTG-tAGAGTTGG--GC--\n",
      "2.2000000000000006\n",
      "TCCGAC--CGACTAGCTTCGTACACTGCCA---AC-CGC--AT\n",
      "----ACAAtGAaT-GgTT-G-A-AtTGCCATACACGCGCTTAa\n",
      "6.6\n",
      "TCCGACCGACTAGCTTCGTACACT---GC--C---AACCGCA---T-\n",
      "T------G--T-GgTTCcTAC-CTGTCGCGTCTTTAA--GgAAAGTC\n",
      "4.2\n",
      "TCCGACCGACTAGCTTCGTACACTGCCAA--CCG------C--AT-----\n",
      "T------G--T-G-TT-GTA----GCCAAAGCCGAATAATCTAATTAACG\n",
      "5.999999999999999\n",
      "TCCGACCGA-CTAGCTTCGTACA-CTGCCAACCGC-----AT\n",
      "TaCaACCaAGCaAGCT--G--CAGgTG-tAA-CGCGGTTGA-\n",
      "6.8\n",
      "TCCGACCGACTAGCTTCGTA--------CACTGCCAACCGCAT---\n",
      "----AgCaACTAG----GTAATAAATTGCA-TGC--AggGCgTTCC\n",
      "4.800000000000001\n",
      "TC-CGACC--G--ACTA--GC------TTCGTACACTGCCAACCGCAT\n",
      "-CACG--CATGTTAtTATGGCCCTCTATT-GTA---TGCC-----C-T\n",
      "6.0\n",
      "TGACGCATGCTAATGCCCCAAAGTCTCGACAAGTC\n",
      "TGACGCATGCTAATGCCCCAAAGTCTCGACAAGTC\n",
      "35\n",
      "-TGACGCATGCTA-ATGCCCCAAAGT--C-TCGACAAG--TC--\n",
      "TTGACG-----TAGAT-CCCC---GTTGCATCGACAAGCATCAA\n",
      "15.199999999999996\n",
      "TGACG--CA-----TGCTAATGCCCCAAAGTCTCG-ACAAGT----C\n",
      "--A-GTTCAGGGATTG-TAATtC------GTCT-GTA-gAGTTGGGC\n",
      "6.2\n",
      "----TGACGCATGCT--AA-TGCCCCA-A-AGTCTCGAC--AAGTC\n",
      "ACAATGA---ATGgTTGAATTG--CCATACA--CgCG-CTTAA---\n",
      "6.800000000000001\n",
      "TGACGCATG----CTAATGCC---C-CAAAGTCT----CGACAAGTC\n",
      "TG-----TGGTTCCTA---CCTGTCGC---GTCTTTAAgGA-AAGTC\n",
      "9.8\n",
      "TGACGCATG--CTAATGCCCCAAAGTCTCGA-----C-AAGT--C-\n",
      "TG-----TGTTgTA--G--CCAAAG-C-CGAATAATCTAAtTAACG\n",
      "7.6\n",
      "TGAC------GCA---TGC-----TAATGCCCCAAAGTCTCGACAAGTC\n",
      "T-ACAACCAAGCAAGCTGCAGGTGTAAcGC-----gGT-T-GA------\n",
      "5.0\n",
      "TGACGCA--T-GCTAATGCCCCAAAGTCTCGACA---AG-----T-C\n",
      "--A-GCAACTAGgTAAT-----AAA-T-T-G-CATGCAGGGCGTTCC\n",
      "6.6\n",
      "TGACGCATGCTA--ATGCCCCAAAGTCTCGACAA--GT----C--\n",
      "-cACGCATGtTATTATGgCCC----TCT-----ATTGTATGCCCT\n",
      "9.399999999999999\n",
      "TTGACGTAGATCCCCGTTGCATCGACAAGCATCAA\n",
      "TTGACGTAGATCCCCGTTGCATCGACAAGCATCAA\n",
      "35\n",
      "----------TTG--A-----C-GTAGATCCCCGTTGCATCGACAAGCATCAA\n",
      "AGTTCAGGGATTGTAATTCGTCTGTAGA-----GTTG----G----GC-----\n",
      "3.4000000000000004\n",
      "----T---TGACGTAGATCCCCGTTG-CATCGACAAGC-ATCAA\n",
      "ACAATGAATG--GTtGA-----aTTGCCAT--ACAcGCGcTtAA\n",
      "6.800000000000001\n",
      "T-TGACGTAGATCC--CC-GTTGCATC------GACAAGCATCAA\n",
      "TGTG--GT---TCCTACCTGTcGCgTCTTTAAGGA-AAG--TC--\n",
      "9.799999999999997\n",
      "T-TGACGTAGATCC----CCG--TTGCATCGACAAGCATCAA--\n",
      "TGTGttGTAG--CCAAAGCCGAAT--aATCtA-----ATtAACG\n",
      "6.8\n",
      "TTGACGTAGATCCC---C--GTTGCA--TCG--ACAAGC-ATCAA\n",
      "T--AC--A-A--CCAAGCAAGcTGCAGGT-GTAAC--GCGgTtgA\n",
      "4.2\n",
      "TTG--AC---GTAGAT---CCCCGTTGCATCGACA-AGCAT--CAA\n",
      "-aGCAACTAGGTA-ATAAA-----TTGCAT-G-CAGgGCgTTCC--\n",
      "4.8\n",
      "TTGACG-----TA-GAT--CCC-C-GTTGCATCGACAAGCATCAA\n",
      "--cACGCATGTTATtATGGCCCTCTaTTGtAT-G-C---CcT---\n",
      "3.0\n",
      "AGTTCAGGGATTGTAATTCGTCTGTAGAGTTGGGC\n",
      "AGTTCAGGGATTGTAATTCGTCTGTAGAGTTGGGC\n",
      "35\n",
      "AGTTCA--G---GGATTGTAATT----------CGTCTGTAGAGTTGGGC\n",
      "A---CAATGAATGG-TTG-AATTGCCATACACGCG-CT-TA-A-------\n",
      "6.0\n",
      "AGTTCAGGGATT-GTA-AT-T--CGTCTGT-AG---AGTTGGGC\n",
      "tGT---GG--TTCcTACcTGTCGCGTCTtTAAGGAAAGT----C\n",
      "7.199999999999999\n",
      "AGTTCAGGGATTGT-----AATTCG-----TCTGTAGAGTT---GGGC\n",
      "tGT---G---TTGTAGCCAAAgcCGAATAATC--TA-A-TTAACG---\n",
      "3.5999999999999996\n",
      "------------AG-TTCAGGGATTGTAATTCGTCTGTAGAGTTGGGC\n",
      "TACAACCAAGCAAGCTgCAGG---TGTAA--CG-C----G-GTT--Ga\n",
      "6.3999999999999995\n",
      "AGTTCAGGGATT--GTAAT---TCGTC-TGTAGAGTTGG-G---C\n",
      "AG--CA---AcTAGGTAATAAATtG-CATGcAG----GGCGTTCC\n",
      "7.8\n"
     ]
    },
    {
     "name": "stdout",
     "output_type": "stream",
     "text": [
      "AGTTCAGGGATTGTAATT-----CGTC---TGTAGAGTTGGGC---\n",
      "----CAcGcA-TGTtATTATGGCCcTCTATTGTA----T--GCCCT\n",
      "6.0\n",
      "ACAATGAATGGTTGAATTGCCATACACGCGCTTAA\n",
      "ACAATGAATGGTTGAATTGCCATACACGCGCTTAA\n",
      "35\n",
      "ACAATGAATGGTTGAATTGCCATAC---ACGCG-CTT------AA---\n",
      "----TG--TGGTT------CC-TACCTGtCGCGTCTTTAAGGAAAGTC\n",
      "8.4\n",
      "ACAATGAATGGTTG------AATTGCC--ATA--C--ACGCGCTTAA--\n",
      "----TG--T-GTTGTAGCCAAA--GCCGAATAATCTAA-----TTAACG\n",
      "7.4\n",
      "-ACAATGAATGGTTG-AATTGC--CA----TACACGCGCTTAA\n",
      "TACAAccAA-----GCAA--GCTGCAGGTGTA-ACGCGgTTgA\n",
      "10.2\n",
      "A-CAA-TGAATGGT--TGAATTGCCATACA-CGCGCTTAA\n",
      "AGCAACT-A--GGTAATaAATTG-CATgCAGgGCG-TTcc\n",
      "11.600000000000001\n",
      "ACA---ATG--A--ATGG---T-TGAATTGCCATACACGCGCTTAA\n",
      "-CACGCATGTTATTATGGCCCTCT--ATTG---T--AtGCcCT---\n",
      "7.6\n",
      "TGTGGTTCCTACCTGTCGCGTCTTTAAGGAAAGTC\n",
      "TGTGGTTCCTACCTGTCGCGTCTTTAAGGAAAGTC\n",
      "35\n",
      "TGTGGTTCCTA-CC--TGTCGCG-----TCT--TTAAGGAAAGTC\n",
      "TGT-GTT-gTAGCCAAaG-C-CGAATAATCTAATTAAcG------\n",
      "7.8\n",
      "TGTGGTTCCTACC--------------TGT--CGCGTCTTTAAGGAAAGTC\n",
      "------TaCaACCAAGCAAGCTGCAGGTGTAACGCGg--TT---GA-----\n",
      "1.8000000000000003\n",
      "TG----T-GGT------TCCTACCTGTC---GCG-TCTTTAAGGAAAGTC\n",
      "aGCAACTAGGTAATAAAT--TgCaTG-CAGGGCGTTC------------C\n",
      "1.6\n",
      "------TGTGGT-TCCTACCTGTCGCGTCT-TTAAGGAAAGTC--\n",
      "CACGCATGT--TAT--TA--TGgC-CcTCTATT---GtAtGcCCT\n",
      "3.8\n",
      "TGTGTTGTAGCCAAAGCCGAATAATCTAATTAACG\n",
      "TGTGTTGTAGCCAAAGCCGAATAATCTAATTAACG\n",
      "35\n",
      "TGTGTTGTAGCCA---AAGCCGAATAATCT--A-AT-TAACG-------\n",
      "-------TA--CAACCAAGC-----AAgCTGCAGgTGTAACGCGGTTGA\n",
      "5.0\n",
      "TGTGTTGTAGCCAA--AGCCG-AATAATCTAATT--A---A---CG----\n",
      "--------AG-CAACTAG--GTAATA----AATTGCATGCAGGGCGTTCC\n",
      "6.0\n",
      "------TGTGT-TGTA--GCCAAAGCCGAATAATCTAAT-TAA---CG\n",
      "CACGCATGT-TAT-TATGGC-----CC------TCTAtTGTAtGCCCt\n",
      "3.5999999999999996\n",
      "TACAACCAAGCAAGCTGCAGGTGTAACGCGGTTGA\n",
      "TACAACCAAGCAAGCTGCAGGTGTAACGCGGTTGA\n",
      "35\n",
      "TA-CAACCAAGCAA------GC-TGCAGGTGTAACGCGGTTGA\n",
      "-AGCAACtAgGtAATAAATTGCATGCAGG------GC-GTTcc\n",
      "9.0\n",
      "TACAACCAAGCAAGCTGCA----GG---TGTAACGCGGTTG-A------\n",
      "--CA--C--GCAtGtT--ATTATGGCCCTcTA------TTGTATGCCCT\n",
      "2.1999999999999993\n",
      "AGCAACTAGGTAATAAATTGCATGCAGGGCGTTCC\n",
      "AGCAACTAGGTAATAAATTGCATGCAGGGCGTTCC\n",
      "35\n",
      "-A-GCAACTAGGTAATAA---------ATTGCATGCAGGGCGTTCC-\n",
      "CACGCA--T--GTtATtATGGCCCTCTATTGtATGC--------CCT\n",
      "6.6\n",
      "CACGCATGTTATTATGGCCCTCTATTGTATGCCCT\n",
      "CACGCATGTTATTATGGCCCTCTATTGTATGCCCT\n",
      "35\n",
      "35 5 7 5 4 6 11 10 8 3 7 3 3 6 5 \n",
      "5 35 4 5 4 6 6 4 5 2 6 5 2 1 2 \n",
      "7 4 35 9 4 6 9 5 4 11 5 4 5 7 5 \n",
      "5 5 9 35 8 5 7 12 4 5 6 8 5 2 3 \n",
      "4 4 4 8 35 8 9 4 7 2 9 5 7 7 5 \n",
      "6 6 6 5 8 35 8 9 2 6 4 5 6 4 6 \n",
      "11 6 9 7 9 8 35 15 6 6 9 7 5 6 9 \n",
      "10 4 5 12 4 9 15 35 3 6 9 6 4 4 3 \n",
      "8 5 4 4 7 2 6 3 35 6 7 3 6 7 6 \n",
      "3 2 11 5 2 6 6 6 6 35 8 7 10 11 7 \n",
      "7 6 5 6 9 4 9 9 7 8 35 7 1 1 3 \n",
      "3 5 4 8 5 5 7 6 3 7 7 35 5 6 3 \n",
      "3 2 5 5 7 6 5 4 6 10 1 5 35 9 2 \n",
      "6 1 7 2 7 4 6 4 7 11 1 6 9 35 6 \n",
      "5 2 5 3 5 6 9 3 6 7 3 3 2 6 35 \n"
     ]
    }
   ],
   "source": [
    "# Get sequences\n",
    "sequences, seq_names = utils.get_sequences_for_ancestry()\n",
    "print(sequences)\n",
    "print(seq_names)\n",
    "\n",
    "adjm = [[-1 for p in sequences] for i in sequences]\n",
    "for i in range(len(adjm)):\n",
    "    for j in range(len(adjm[0])):\n",
    "        if adjm[j][i] == -1:\n",
    "            # if i == j:\n",
    "            #     adjm[i][j] = 0\n",
    "            # else:\n",
    "            m, a = showAlignmentG(sequences[i], sequences[j], affineGap, simpleMatch)\n",
    "            adjm[i][j] = a[2]\n",
    "            adjm[j][i] = adjm[i][j]\n",
    "\n",
    "import math\n",
    "\n",
    "for i in adjm:\n",
    "    for j in i:\n",
    "        print(math.floor(j), end=\" \")\n",
    "    print()"
   ]
  },
  {
   "cell_type": "code",
   "execution_count": 133,
   "id": "db89dcdc",
   "metadata": {
    "pycharm": {
     "name": "#%%\n"
    }
   },
   "outputs": [
    {
     "name": "stdout",
     "output_type": "stream",
     "text": [
      "tREE VALS before [[[35, 5.2, 7.6, 5.6, 4.2, 6.199999999999999, 11.799999999999999, 10.2, 8.799999999999999, 3.4, 7.199999999999999, 3.7999999999999994, 3.4000000000000004, 6.0, 5.6], [5.2, 35, 4.799999999999999, 5.400000000000001, 4.999999999999999, 6.399999999999999, 6.6, 4.800000000000001, 5.6, 2.599999999999999, 6.6, 5.0, 2.0, 1.2000000000000002, 2.8], [7.6, 4.799999999999999, 35, 9.8, 4.6, 6.199999999999999, 9.0, 5.0, 4.999999999999998, 11.2, 5.2, 4.800000000000001, 5.6, 7.199999999999999, 5.400000000000001], [5.6, 5.400000000000001, 9.8, 35, 8.2, 5.3999999999999995, 7.799999999999999, 12.799999999999999, 4.4, 5.0, 6.800000000000001, 8.6, 5.6, 2.0, 3.8], [4.2, 4.999999999999999, 4.6, 8.2, 35, 8.8, 9.399999999999999, 4.2, 7.799999999999999, 2.7999999999999994, 9.0, 5.2, 7.2, 7.400000000000001, 5.8], [6.199999999999999, 6.399999999999999, 6.199999999999999, 5.3999999999999995, 8.8, 35, 8.399999999999999, 9.0, 2.2000000000000006, 6.6, 4.2, 5.999999999999999, 6.8, 4.800000000000001, 6.0], [11.799999999999999, 6.6, 9.0, 7.799999999999999, 9.399999999999999, 8.399999999999999, 35, 15.199999999999996, 6.2, 6.800000000000001, 9.8, 7.6, 5.0, 6.6, 9.399999999999999], [10.2, 4.800000000000001, 5.0, 12.799999999999999, 4.2, 9.0, 15.199999999999996, 35, 3.4000000000000004, 6.800000000000001, 9.799999999999997, 6.8, 4.2, 4.8, 3.0], [8.799999999999999, 5.6, 4.999999999999998, 4.4, 7.799999999999999, 2.2000000000000006, 6.2, 3.4000000000000004, 35, 6.0, 7.199999999999999, 3.5999999999999996, 6.3999999999999995, 7.8, 6.0], [3.4, 2.599999999999999, 11.2, 5.0, 2.7999999999999994, 6.6, 6.800000000000001, 6.800000000000001, 6.0, 35, 8.4, 7.4, 10.2, 11.600000000000001, 7.6], [7.199999999999999, 6.6, 5.2, 6.800000000000001, 9.0, 4.2, 9.8, 9.799999999999997, 7.199999999999999, 8.4, 35, 7.8, 1.8000000000000003, 1.6, 3.8], [3.7999999999999994, 5.0, 4.800000000000001, 8.6, 5.2, 5.999999999999999, 7.6, 6.8, 3.5999999999999996, 7.4, 7.8, 35, 5.0, 6.0, 3.5999999999999996], [3.4000000000000004, 2.0, 5.6, 5.6, 7.2, 6.8, 5.0, 4.2, 6.3999999999999995, 10.2, 1.8000000000000003, 5.0, 35, 9.0, 2.1999999999999993], [6.0, 1.2000000000000002, 7.199999999999999, 2.0, 7.400000000000001, 4.800000000000001, 6.6, 4.8, 7.8, 11.600000000000001, 1.6, 6.0, 9.0, 35, 6.6], [5.6, 2.8, 5.400000000000001, 3.8, 5.8, 6.0, 9.399999999999999, 3.0, 6.0, 7.6, 3.8, 3.5999999999999996, 2.1999999999999993, 6.6, 35]], -1, -1, 'name1', 'name2', ['Ho-Oh', 'Toucannon', 'Stantler', 'Drapion', 'Vaporeon', 'Grumpig', 'Beheeyem', 'Snorlax', 'Doduo', 'Shaymin', 'Grovyle', 'Sawsbuck', 'Dunsparce', 'Slurpuff', 'Raichu']]\n",
      "tREE VALS after (array([[35. ,  5.2,  7.6,  5.6,  4.2,  6.2, 11.8, 10.2,  8.8,  3.4,  3.8,\n",
      "         3.4,  5.8,  5.6],\n",
      "       [ 5.2, 35. ,  4.8,  5.4,  5. ,  6.4,  6.6,  4.8,  5.6,  2.6,  5. ,\n",
      "         2. ,  3.1,  2.8],\n",
      "       [ 7.6,  4.8, 35. ,  9.8,  4.6,  6.2,  9. ,  5. ,  5. , 11.2,  4.8,\n",
      "         5.6,  5.4,  5.4],\n",
      "       [ 5.6,  5.4,  9.8, 35. ,  8.2,  5.4,  7.8, 12.8,  4.4,  5. ,  8.6,\n",
      "         5.6,  3.6,  3.8],\n",
      "       [ 4.2,  5. ,  4.6,  8.2, 35. ,  8.8,  9.4,  4.2,  7.8,  2.8,  5.2,\n",
      "         7.2,  7.4,  5.8],\n",
      "       [ 6.2,  6.4,  6.2,  5.4,  8.8, 35. ,  8.4,  9. ,  2.2,  6.6,  6. ,\n",
      "         6.8,  3.7,  6. ],\n",
      "       [11.8,  6.6,  9. ,  7.8,  9.4,  8.4, 35. , 15.2,  6.2,  6.8,  7.6,\n",
      "         5. ,  7.4,  9.4],\n",
      "       [10.2,  4.8,  5. , 12.8,  4.2,  9. , 15.2, 35. ,  3.4,  6.8,  6.8,\n",
      "         4.2,  6.5,  3. ],\n",
      "       [ 8.8,  5.6,  5. ,  4.4,  7.8,  2.2,  6.2,  3.4, 35. ,  6. ,  3.6,\n",
      "         6.4,  6.7,  6. ],\n",
      "       [ 3.4,  2.6, 11.2,  5. ,  2.8,  6.6,  6.8,  6.8,  6. , 35. ,  7.4,\n",
      "        10.2,  9.2,  7.6],\n",
      "       [ 3.8,  5. ,  4.8,  8.6,  5.2,  6. ,  7.6,  6.8,  3.6,  7.4, 35. ,\n",
      "         5. , 17.5,  3.6],\n",
      "       [ 3.4,  2. ,  5.6,  5.6,  7.2,  6.8,  5. ,  4.2,  6.4, 10.2,  5. ,\n",
      "        35. ,  6.1,  2.2],\n",
      "       [ 5.8,  3.1,  5.4,  3.6,  7.4,  3.7,  7.4,  6.5,  6.7,  9.2, 17.5,\n",
      "         6.1, 35. ,  4.4],\n",
      "       [ 5.6,  2.8,  5.4,  3.8,  5.8,  6. ,  9.4,  3. ,  6. ,  7.6,  3.6,\n",
      "         2.2,  4.4, 35. ]]), 1.0538461538461537, 0.5461538461538464, 'Grovyle', 'Slurpuff', ['Ho-Oh', 'Toucannon', 'Stantler', 'Drapion', 'Vaporeon', 'Grumpig', 'Beheeyem', 'Snorlax', 'Doduo', 'Shaymin', 'Sawsbuck', 'Dunsparce', 'i_GrovyleSlurpuff', 'Raichu'])\n",
      "tREE VALS before (array([[35. ,  5.2,  7.6,  5.6,  4.2,  6.2, 11.8, 10.2,  8.8,  3.4,  3.8,\n",
      "         3.4,  5.8,  5.6],\n",
      "       [ 5.2, 35. ,  4.8,  5.4,  5. ,  6.4,  6.6,  4.8,  5.6,  2.6,  5. ,\n",
      "         2. ,  3.1,  2.8],\n",
      "       [ 7.6,  4.8, 35. ,  9.8,  4.6,  6.2,  9. ,  5. ,  5. , 11.2,  4.8,\n",
      "         5.6,  5.4,  5.4],\n",
      "       [ 5.6,  5.4,  9.8, 35. ,  8.2,  5.4,  7.8, 12.8,  4.4,  5. ,  8.6,\n",
      "         5.6,  3.6,  3.8],\n",
      "       [ 4.2,  5. ,  4.6,  8.2, 35. ,  8.8,  9.4,  4.2,  7.8,  2.8,  5.2,\n",
      "         7.2,  7.4,  5.8],\n",
      "       [ 6.2,  6.4,  6.2,  5.4,  8.8, 35. ,  8.4,  9. ,  2.2,  6.6,  6. ,\n",
      "         6.8,  3.7,  6. ],\n",
      "       [11.8,  6.6,  9. ,  7.8,  9.4,  8.4, 35. , 15.2,  6.2,  6.8,  7.6,\n",
      "         5. ,  7.4,  9.4],\n",
      "       [10.2,  4.8,  5. , 12.8,  4.2,  9. , 15.2, 35. ,  3.4,  6.8,  6.8,\n",
      "         4.2,  6.5,  3. ],\n",
      "       [ 8.8,  5.6,  5. ,  4.4,  7.8,  2.2,  6.2,  3.4, 35. ,  6. ,  3.6,\n",
      "         6.4,  6.7,  6. ],\n",
      "       [ 3.4,  2.6, 11.2,  5. ,  2.8,  6.6,  6.8,  6.8,  6. , 35. ,  7.4,\n",
      "        10.2,  9.2,  7.6],\n",
      "       [ 3.8,  5. ,  4.8,  8.6,  5.2,  6. ,  7.6,  6.8,  3.6,  7.4, 35. ,\n",
      "         5. , 17.5,  3.6],\n",
      "       [ 3.4,  2. ,  5.6,  5.6,  7.2,  6.8,  5. ,  4.2,  6.4, 10.2,  5. ,\n",
      "        35. ,  6.1,  2.2],\n",
      "       [ 5.8,  3.1,  5.4,  3.6,  7.4,  3.7,  7.4,  6.5,  6.7,  9.2, 17.5,\n",
      "         6.1, 35. ,  4.4],\n",
      "       [ 5.6,  2.8,  5.4,  3.8,  5.8,  6. ,  9.4,  3. ,  6. ,  7.6,  3.6,\n",
      "         2.2,  4.4, 35. ]]), 1.0538461538461537, 0.5461538461538464, 'Grovyle', 'Slurpuff', ['Ho-Oh', 'Toucannon', 'Stantler', 'Drapion', 'Vaporeon', 'Grumpig', 'Beheeyem', 'Snorlax', 'Doduo', 'Shaymin', 'Sawsbuck', 'Dunsparce', 'i_GrovyleSlurpuff', 'Raichu'])\n",
      "tREE VALS after (array([[35. ,  5.2,  7.6,  5.6,  6.2, 11.8, 10.2,  8.8,  2.4,  3.8,  3.4,\n",
      "         5.8,  5.6],\n",
      "       [ 5.2, 35. ,  4.8,  5.4,  6.4,  6.6,  4.8,  5.6,  2.4,  5. ,  2. ,\n",
      "         3.1,  2.8],\n",
      "       [ 7.6,  4.8, 35. ,  9.8,  6.2,  9. ,  5. ,  5. ,  6.5,  4.8,  5.6,\n",
      "         5.4,  5.4],\n",
      "       [ 5.6,  5.4,  9.8, 35. ,  5.4,  7.8, 12.8,  4.4,  5.2,  8.6,  5.6,\n",
      "         3.6,  3.8],\n",
      "       [ 6.2,  6.4,  6.2,  5.4, 35. ,  8.4,  9. ,  2.2, 17.5,  6. ,  6.8,\n",
      "         3.7,  6. ],\n",
      "       [11.8,  6.6,  9. ,  7.8,  8.4, 35. , 15.2,  6.2,  6.3,  7.6,  5. ,\n",
      "         7.4,  9.4],\n",
      "       [10.2,  4.8,  5. , 12.8,  9. , 15.2, 35. ,  3.4,  6.7,  6.8,  4.2,\n",
      "         6.5,  3. ],\n",
      "       [ 8.8,  5.6,  5. ,  4.4,  2.2,  6.2,  3.4, 35. ,  4.1,  3.6,  6.4,\n",
      "         6.7,  6. ],\n",
      "       [ 2.4,  2.4,  6.5,  5.2, 17.5,  6.3,  6.7,  4.1, 35. ,  4.9,  7.3,\n",
      "         6.9,  5.3],\n",
      "       [ 3.8,  5. ,  4.8,  8.6,  6. ,  7.6,  6.8,  3.6,  4.9, 35. ,  5. ,\n",
      "        17.5,  3.6],\n",
      "       [ 3.4,  2. ,  5.6,  5.6,  6.8,  5. ,  4.2,  6.4,  7.3,  5. , 35. ,\n",
      "         6.1,  2.2],\n",
      "       [ 5.8,  3.1,  5.4,  3.6,  3.7,  7.4,  6.5,  6.7,  6.9, 17.5,  6.1,\n",
      "        35. ,  4.4],\n",
      "       [ 5.6,  2.8,  5.4,  3.8,  6. ,  9.4,  3. ,  6. ,  5.3,  3.6,  2.2,\n",
      "         4.4, 35. ]]), 1.1916666666666669, 1.6083333333333325, 'Vaporeon', 'Shaymin', ['Ho-Oh', 'Toucannon', 'Stantler', 'Drapion', 'Grumpig', 'Beheeyem', 'Snorlax', 'Doduo', 'i_VaporeonShaymin', 'Sawsbuck', 'Dunsparce', 'i_GrovyleSlurpuff', 'Raichu'])\n",
      "tREE VALS before (array([[35. ,  5.2,  7.6,  5.6,  6.2, 11.8, 10.2,  8.8,  2.4,  3.8,  3.4,\n",
      "         5.8,  5.6],\n",
      "       [ 5.2, 35. ,  4.8,  5.4,  6.4,  6.6,  4.8,  5.6,  2.4,  5. ,  2. ,\n",
      "         3.1,  2.8],\n",
      "       [ 7.6,  4.8, 35. ,  9.8,  6.2,  9. ,  5. ,  5. ,  6.5,  4.8,  5.6,\n",
      "         5.4,  5.4],\n",
      "       [ 5.6,  5.4,  9.8, 35. ,  5.4,  7.8, 12.8,  4.4,  5.2,  8.6,  5.6,\n",
      "         3.6,  3.8],\n",
      "       [ 6.2,  6.4,  6.2,  5.4, 35. ,  8.4,  9. ,  2.2, 17.5,  6. ,  6.8,\n",
      "         3.7,  6. ],\n",
      "       [11.8,  6.6,  9. ,  7.8,  8.4, 35. , 15.2,  6.2,  6.3,  7.6,  5. ,\n",
      "         7.4,  9.4],\n",
      "       [10.2,  4.8,  5. , 12.8,  9. , 15.2, 35. ,  3.4,  6.7,  6.8,  4.2,\n",
      "         6.5,  3. ],\n",
      "       [ 8.8,  5.6,  5. ,  4.4,  2.2,  6.2,  3.4, 35. ,  4.1,  3.6,  6.4,\n",
      "         6.7,  6. ],\n",
      "       [ 2.4,  2.4,  6.5,  5.2, 17.5,  6.3,  6.7,  4.1, 35. ,  4.9,  7.3,\n",
      "         6.9,  5.3],\n",
      "       [ 3.8,  5. ,  4.8,  8.6,  6. ,  7.6,  6.8,  3.6,  4.9, 35. ,  5. ,\n",
      "        17.5,  3.6],\n",
      "       [ 3.4,  2. ,  5.6,  5.6,  6.8,  5. ,  4.2,  6.4,  7.3,  5. , 35. ,\n",
      "         6.1,  2.2],\n",
      "       [ 5.8,  3.1,  5.4,  3.6,  3.7,  7.4,  6.5,  6.7,  6.9, 17.5,  6.1,\n",
      "        35. ,  4.4],\n",
      "       [ 5.6,  2.8,  5.4,  3.8,  6. ,  9.4,  3. ,  6. ,  5.3,  3.6,  2.2,\n",
      "         4.4, 35. ]]), 1.1916666666666669, 1.6083333333333325, 'Vaporeon', 'Shaymin', ['Ho-Oh', 'Toucannon', 'Stantler', 'Drapion', 'Grumpig', 'Beheeyem', 'Snorlax', 'Doduo', 'i_VaporeonShaymin', 'Sawsbuck', 'Dunsparce', 'i_GrovyleSlurpuff', 'Raichu'])\n",
      "tREE VALS after (array([[35.  ,  4.8 ,  5.4 ,  6.4 ,  6.6 ,  4.8 ,  5.6 , 17.5 ,  5.  ,\n",
      "         2.  ,  3.1 ,  2.8 ],\n",
      "       [ 4.8 , 35.  ,  9.8 ,  6.2 ,  9.  ,  5.  ,  5.  ,  2.6 ,  4.8 ,\n",
      "         5.6 ,  5.4 ,  5.4 ],\n",
      "       [ 5.4 ,  9.8 , 35.  ,  5.4 ,  7.8 , 12.8 ,  4.4 ,  5.85,  8.6 ,\n",
      "         5.6 ,  3.6 ,  3.8 ],\n",
      "       [ 6.4 ,  6.2 ,  5.4 , 35.  ,  8.4 ,  9.  ,  2.2 ,  4.2 ,  6.  ,\n",
      "         6.8 ,  3.7 ,  6.  ],\n",
      "       [ 6.6 ,  9.  ,  7.8 ,  8.4 , 35.  , 15.2 ,  6.2 , 10.65,  7.6 ,\n",
      "         5.  ,  7.4 ,  9.4 ],\n",
      "       [ 4.8 ,  5.  , 12.8 ,  9.  , 15.2 , 35.  ,  3.4 ,  7.85,  6.8 ,\n",
      "         4.2 ,  6.5 ,  3.  ],\n",
      "       [ 5.6 ,  5.  ,  4.4 ,  2.2 ,  6.2 ,  3.4 , 35.  ,  7.25,  3.6 ,\n",
      "         6.4 ,  6.7 ,  6.  ],\n",
      "       [17.5 ,  2.6 ,  5.85,  4.2 , 10.65,  7.85,  7.25, 35.  ,  3.15,\n",
      "         4.15,  5.15,  4.25],\n",
      "       [ 5.  ,  4.8 ,  8.6 ,  6.  ,  7.6 ,  6.8 ,  3.6 ,  3.15, 35.  ,\n",
      "         5.  , 17.5 ,  3.6 ],\n",
      "       [ 2.  ,  5.6 ,  5.6 ,  6.8 ,  5.  ,  4.2 ,  6.4 ,  4.15,  5.  ,\n",
      "        35.  ,  6.1 ,  2.2 ],\n",
      "       [ 3.1 ,  5.4 ,  3.6 ,  3.7 ,  7.4 ,  6.5 ,  6.7 ,  5.15, 17.5 ,\n",
      "         6.1 , 35.  ,  4.4 ],\n",
      "       [ 2.8 ,  5.4 ,  3.8 ,  6.  ,  9.4 ,  3.  ,  6.  ,  4.25,  3.6 ,\n",
      "         2.2 ,  4.4 , 35.  ]]), 1.24090909090909, 1.1590909090909103, 'Ho-Oh', 'i_VaporeonShaymin', ['Toucannon', 'Stantler', 'Drapion', 'Grumpig', 'Beheeyem', 'Snorlax', 'Doduo', 'i_Ho-Ohi_VaporeonShaymin', 'Sawsbuck', 'Dunsparce', 'i_GrovyleSlurpuff', 'Raichu'])\n",
      "tREE VALS before (array([[35.  ,  4.8 ,  5.4 ,  6.4 ,  6.6 ,  4.8 ,  5.6 , 17.5 ,  5.  ,\n",
      "         2.  ,  3.1 ,  2.8 ],\n",
      "       [ 4.8 , 35.  ,  9.8 ,  6.2 ,  9.  ,  5.  ,  5.  ,  2.6 ,  4.8 ,\n",
      "         5.6 ,  5.4 ,  5.4 ],\n",
      "       [ 5.4 ,  9.8 , 35.  ,  5.4 ,  7.8 , 12.8 ,  4.4 ,  5.85,  8.6 ,\n",
      "         5.6 ,  3.6 ,  3.8 ],\n",
      "       [ 6.4 ,  6.2 ,  5.4 , 35.  ,  8.4 ,  9.  ,  2.2 ,  4.2 ,  6.  ,\n",
      "         6.8 ,  3.7 ,  6.  ],\n",
      "       [ 6.6 ,  9.  ,  7.8 ,  8.4 , 35.  , 15.2 ,  6.2 , 10.65,  7.6 ,\n",
      "         5.  ,  7.4 ,  9.4 ],\n",
      "       [ 4.8 ,  5.  , 12.8 ,  9.  , 15.2 , 35.  ,  3.4 ,  7.85,  6.8 ,\n",
      "         4.2 ,  6.5 ,  3.  ],\n",
      "       [ 5.6 ,  5.  ,  4.4 ,  2.2 ,  6.2 ,  3.4 , 35.  ,  7.25,  3.6 ,\n",
      "         6.4 ,  6.7 ,  6.  ],\n",
      "       [17.5 ,  2.6 ,  5.85,  4.2 , 10.65,  7.85,  7.25, 35.  ,  3.15,\n",
      "         4.15,  5.15,  4.25],\n",
      "       [ 5.  ,  4.8 ,  8.6 ,  6.  ,  7.6 ,  6.8 ,  3.6 ,  3.15, 35.  ,\n",
      "         5.  , 17.5 ,  3.6 ],\n",
      "       [ 2.  ,  5.6 ,  5.6 ,  6.8 ,  5.  ,  4.2 ,  6.4 ,  4.15,  5.  ,\n",
      "        35.  ,  6.1 ,  2.2 ],\n",
      "       [ 3.1 ,  5.4 ,  3.6 ,  3.7 ,  7.4 ,  6.5 ,  6.7 ,  5.15, 17.5 ,\n",
      "         6.1 , 35.  ,  4.4 ],\n",
      "       [ 2.8 ,  5.4 ,  3.8 ,  6.  ,  9.4 ,  3.  ,  6.  ,  4.25,  3.6 ,\n",
      "         2.2 ,  4.4 , 35.  ]]), 1.24090909090909, 1.1590909090909103, 'Ho-Oh', 'i_VaporeonShaymin', ['Toucannon', 'Stantler', 'Drapion', 'Grumpig', 'Beheeyem', 'Snorlax', 'Doduo', 'i_Ho-Ohi_VaporeonShaymin', 'Sawsbuck', 'Dunsparce', 'i_GrovyleSlurpuff', 'Raichu'])\n",
      "tREE VALS after (array([[35.   ,  4.8  ,  5.4  ,  6.4  ,  6.6  ,  4.8  ,  5.6  ,  9.675,\n",
      "         2.   ,  3.1  ,  2.8  ],\n",
      "       [ 4.8  , 35.   ,  9.8  ,  6.2  ,  9.   ,  5.   ,  5.   ,  2.125,\n",
      "         5.6  ,  5.4  ,  5.4  ],\n",
      "       [ 5.4  ,  9.8  , 35.   ,  5.4  ,  7.8  , 12.8  ,  4.4  ,  5.65 ,\n",
      "         5.6  ,  3.6  ,  3.8  ],\n",
      "       [ 6.4  ,  6.2  ,  5.4  , 35.   ,  8.4  ,  9.   ,  2.2  ,  3.525,\n",
      "         6.8  ,  3.7  ,  6.   ],\n",
      "       [ 6.6  ,  9.   ,  7.8  ,  8.4  , 35.   , 15.2  ,  6.2  ,  7.55 ,\n",
      "         5.   ,  7.4  ,  9.4  ],\n",
      "       [ 4.8  ,  5.   , 12.8  ,  9.   , 15.2  , 35.   ,  3.4  ,  5.75 ,\n",
      "         4.2  ,  6.5  ,  3.   ],\n",
      "       [ 5.6  ,  5.   ,  4.4  ,  2.2  ,  6.2  ,  3.4  , 35.   ,  3.85 ,\n",
      "         6.4  ,  6.7  ,  6.   ],\n",
      "       [ 9.675,  2.125,  5.65 ,  3.525,  7.55 ,  5.75 ,  3.85 , 35.   ,\n",
      "         3.   ,  9.75 ,  2.35 ],\n",
      "       [ 2.   ,  5.6  ,  5.6  ,  6.8  ,  5.   ,  4.2  ,  6.4  ,  3.   ,\n",
      "        35.   ,  6.1  ,  2.2  ],\n",
      "       [ 3.1  ,  5.4  ,  3.6  ,  3.7  ,  7.4  ,  6.5  ,  6.7  ,  9.75 ,\n",
      "         6.1  , 35.   ,  4.4  ],\n",
      "       [ 2.8  ,  5.4  ,  3.8  ,  6.   ,  9.4  ,  3.   ,  6.   ,  2.35 ,\n",
      "         2.2  ,  4.4  , 35.   ]]), 1.6225000000000003, 1.5275, 'i_Ho-Ohi_VaporeonShaymin', 'Sawsbuck', ['Toucannon', 'Stantler', 'Drapion', 'Grumpig', 'Beheeyem', 'Snorlax', 'Doduo', 'i_i_Ho-Ohi_VaporeonShayminSawsbuck', 'Dunsparce', 'i_GrovyleSlurpuff', 'Raichu'])\n",
      "tREE VALS before (array([[35.   ,  4.8  ,  5.4  ,  6.4  ,  6.6  ,  4.8  ,  5.6  ,  9.675,\n",
      "         2.   ,  3.1  ,  2.8  ],\n",
      "       [ 4.8  , 35.   ,  9.8  ,  6.2  ,  9.   ,  5.   ,  5.   ,  2.125,\n",
      "         5.6  ,  5.4  ,  5.4  ],\n",
      "       [ 5.4  ,  9.8  , 35.   ,  5.4  ,  7.8  , 12.8  ,  4.4  ,  5.65 ,\n",
      "         5.6  ,  3.6  ,  3.8  ],\n",
      "       [ 6.4  ,  6.2  ,  5.4  , 35.   ,  8.4  ,  9.   ,  2.2  ,  3.525,\n",
      "         6.8  ,  3.7  ,  6.   ],\n",
      "       [ 6.6  ,  9.   ,  7.8  ,  8.4  , 35.   , 15.2  ,  6.2  ,  7.55 ,\n",
      "         5.   ,  7.4  ,  9.4  ],\n",
      "       [ 4.8  ,  5.   , 12.8  ,  9.   , 15.2  , 35.   ,  3.4  ,  5.75 ,\n",
      "         4.2  ,  6.5  ,  3.   ],\n",
      "       [ 5.6  ,  5.   ,  4.4  ,  2.2  ,  6.2  ,  3.4  , 35.   ,  3.85 ,\n",
      "         6.4  ,  6.7  ,  6.   ],\n",
      "       [ 9.675,  2.125,  5.65 ,  3.525,  7.55 ,  5.75 ,  3.85 , 35.   ,\n",
      "         3.   ,  9.75 ,  2.35 ],\n",
      "       [ 2.   ,  5.6  ,  5.6  ,  6.8  ,  5.   ,  4.2  ,  6.4  ,  3.   ,\n",
      "        35.   ,  6.1  ,  2.2  ],\n",
      "       [ 3.1  ,  5.4  ,  3.6  ,  3.7  ,  7.4  ,  6.5  ,  6.7  ,  9.75 ,\n",
      "         6.1  , 35.   ,  4.4  ],\n",
      "       [ 2.8  ,  5.4  ,  3.8  ,  6.   ,  9.4  ,  3.   ,  6.   ,  2.35 ,\n",
      "         2.2  ,  4.4  , 35.   ]]), 1.6225000000000003, 1.5275, 'i_Ho-Ohi_VaporeonShaymin', 'Sawsbuck', ['Toucannon', 'Stantler', 'Drapion', 'Grumpig', 'Beheeyem', 'Snorlax', 'Doduo', 'i_i_Ho-Ohi_VaporeonShayminSawsbuck', 'Dunsparce', 'i_GrovyleSlurpuff', 'Raichu'])\n",
      "tREE VALS after (array([[35.    ,  5.4   ,  6.4   ,  6.6   ,  4.8   ,  5.6   ,  6.175 ,\n",
      "         2.    ,  3.1   ,  2.8   ],\n",
      "       [ 5.4   , 35.    ,  5.4   ,  7.8   , 12.8   ,  4.4   , 17.5   ,\n",
      "         5.6   ,  3.6   ,  3.8   ],\n",
      "       [ 6.4   ,  5.4   , 35.    ,  8.4   ,  9.    ,  2.2   ,  6.6625,\n",
      "         6.8   ,  3.7   ,  6.    ],\n",
      "       [ 6.6   ,  7.8   ,  8.4   , 35.    , 15.2   ,  6.2   ,  3.8   ,\n",
      "         5.    ,  7.4   ,  9.4   ],\n",
      "       [ 4.8   , 12.8   ,  9.    , 15.2   , 35.    ,  3.4   ,  7.2125,\n",
      "         4.2   ,  6.5   ,  3.    ],\n",
      "       [ 5.6   ,  4.4   ,  2.2   ,  6.2   ,  3.4   , 35.    ,  4.3125,\n",
      "         6.4   ,  6.7   ,  6.    ],\n",
      "       [ 6.175 , 17.5   ,  6.6625,  3.8   ,  7.2125,  4.3125, 35.    ,\n",
      "         3.2375,  6.5125,  2.8125],\n",
      "       [ 2.    ,  5.6   ,  6.8   ,  5.    ,  4.2   ,  6.4   ,  3.2375,\n",
      "        35.    ,  6.1   ,  2.2   ],\n",
      "       [ 3.1   ,  3.6   ,  3.7   ,  7.4   ,  6.5   ,  6.7   ,  6.5125,\n",
      "         6.1   , 35.    ,  4.4   ],\n",
      "       [ 2.8   ,  3.8   ,  6.    ,  9.4   ,  3.    ,  6.    ,  2.8125,\n",
      "         2.2   ,  4.4   , 35.    ]]), 1.345833333333333, 0.779166666666667, 'Stantler', 'i_i_Ho-Ohi_VaporeonShayminSawsbuck', ['Toucannon', 'Drapion', 'Grumpig', 'Beheeyem', 'Snorlax', 'Doduo', 'i_Stantleri_i_Ho-Ohi_VaporeonShayminSawsbuck', 'Dunsparce', 'i_GrovyleSlurpuff', 'Raichu'])\n",
      "tREE VALS before (array([[35.    ,  5.4   ,  6.4   ,  6.6   ,  4.8   ,  5.6   ,  6.175 ,\n",
      "         2.    ,  3.1   ,  2.8   ],\n",
      "       [ 5.4   , 35.    ,  5.4   ,  7.8   , 12.8   ,  4.4   , 17.5   ,\n",
      "         5.6   ,  3.6   ,  3.8   ],\n",
      "       [ 6.4   ,  5.4   , 35.    ,  8.4   ,  9.    ,  2.2   ,  6.6625,\n",
      "         6.8   ,  3.7   ,  6.    ],\n",
      "       [ 6.6   ,  7.8   ,  8.4   , 35.    , 15.2   ,  6.2   ,  3.8   ,\n",
      "         5.    ,  7.4   ,  9.4   ],\n",
      "       [ 4.8   , 12.8   ,  9.    , 15.2   , 35.    ,  3.4   ,  7.2125,\n",
      "         4.2   ,  6.5   ,  3.    ],\n",
      "       [ 5.6   ,  4.4   ,  2.2   ,  6.2   ,  3.4   , 35.    ,  4.3125,\n",
      "         6.4   ,  6.7   ,  6.    ],\n",
      "       [ 6.175 , 17.5   ,  6.6625,  3.8   ,  7.2125,  4.3125, 35.    ,\n",
      "         3.2375,  6.5125,  2.8125],\n",
      "       [ 2.    ,  5.6   ,  6.8   ,  5.    ,  4.2   ,  6.4   ,  3.2375,\n",
      "        35.    ,  6.1   ,  2.2   ],\n",
      "       [ 3.1   ,  3.6   ,  3.7   ,  7.4   ,  6.5   ,  6.7   ,  6.5125,\n",
      "         6.1   , 35.    ,  4.4   ],\n",
      "       [ 2.8   ,  3.8   ,  6.    ,  9.4   ,  3.    ,  6.    ,  2.8125,\n",
      "         2.2   ,  4.4   , 35.    ]]), 1.345833333333333, 0.779166666666667, 'Stantler', 'i_i_Ho-Ohi_VaporeonShayminSawsbuck', ['Toucannon', 'Drapion', 'Grumpig', 'Beheeyem', 'Snorlax', 'Doduo', 'i_Stantleri_i_Ho-Ohi_VaporeonShayminSawsbuck', 'Dunsparce', 'i_GrovyleSlurpuff', 'Raichu'])\n",
      "tREE VALS after (array([[35.     ,  5.4    ,  6.4    ,  4.8    ,  5.6    ,  4.4875 ,\n",
      "         2.     ,  3.1    ,  2.8    ],\n",
      "       [ 5.4    , 35.     ,  5.4    , 12.8    ,  4.4    , 10.75   ,\n",
      "         5.6    ,  3.6    ,  3.8    ],\n",
      "       [ 6.4    ,  5.4    , 35.     ,  9.     ,  2.2    ,  5.63125,\n",
      "         6.8    ,  3.7    ,  6.     ],\n",
      "       [ 4.8    , 12.8    ,  9.     , 35.     ,  3.4    , 17.5    ,\n",
      "         4.2    ,  6.5    ,  3.     ],\n",
      "       [ 5.6    ,  4.4    ,  2.2    ,  3.4    , 35.     ,  9.30625,\n",
      "         6.4    ,  6.7    ,  6.     ],\n",
      "       [ 4.4875 , 10.75   ,  5.63125, 17.5    ,  9.30625, 35.     ,\n",
      "         2.21875,  5.05625,  4.20625],\n",
      "       [ 2.     ,  5.6    ,  6.8    ,  4.2    ,  6.4    ,  2.21875,\n",
      "        35.     ,  6.1    ,  2.2    ],\n",
      "       [ 3.1    ,  3.6    ,  3.7    ,  6.5    ,  6.7    ,  5.05625,\n",
      "         6.1    , 35.     ,  4.4    ],\n",
      "       [ 2.8    ,  3.8    ,  6.     ,  3.     ,  6.     ,  4.20625,\n",
      "         2.2    ,  4.4    , 35.     ]]), 2.6234374999999988, 1.1765625000000002, 'Beheeyem', 'i_Stantleri_i_Ho-Ohi_VaporeonShayminSawsbuck', ['Toucannon', 'Drapion', 'Grumpig', 'Snorlax', 'Doduo', 'i_Beheeyemi_Stantleri_i_Ho-Ohi_VaporeonShayminSawsbuck', 'Dunsparce', 'i_GrovyleSlurpuff', 'Raichu'])\n",
      "tREE VALS before (array([[35.     ,  5.4    ,  6.4    ,  4.8    ,  5.6    ,  4.4875 ,\n",
      "         2.     ,  3.1    ,  2.8    ],\n",
      "       [ 5.4    , 35.     ,  5.4    , 12.8    ,  4.4    , 10.75   ,\n",
      "         5.6    ,  3.6    ,  3.8    ],\n",
      "       [ 6.4    ,  5.4    , 35.     ,  9.     ,  2.2    ,  5.63125,\n",
      "         6.8    ,  3.7    ,  6.     ],\n",
      "       [ 4.8    , 12.8    ,  9.     , 35.     ,  3.4    , 17.5    ,\n",
      "         4.2    ,  6.5    ,  3.     ],\n",
      "       [ 5.6    ,  4.4    ,  2.2    ,  3.4    , 35.     ,  9.30625,\n",
      "         6.4    ,  6.7    ,  6.     ],\n",
      "       [ 4.4875 , 10.75   ,  5.63125, 17.5    ,  9.30625, 35.     ,\n",
      "         2.21875,  5.05625,  4.20625],\n",
      "       [ 2.     ,  5.6    ,  6.8    ,  4.2    ,  6.4    ,  2.21875,\n",
      "        35.     ,  6.1    ,  2.2    ],\n",
      "       [ 3.1    ,  3.6    ,  3.7    ,  6.5    ,  6.7    ,  5.05625,\n",
      "         6.1    , 35.     ,  4.4    ],\n",
      "       [ 2.8    ,  3.8    ,  6.     ,  3.     ,  6.     ,  4.20625,\n",
      "         2.2    ,  4.4    , 35.     ]]), 2.6234374999999988, 1.1765625000000002, 'Beheeyem', 'i_Stantleri_i_Ho-Ohi_VaporeonShayminSawsbuck', ['Toucannon', 'Drapion', 'Grumpig', 'Snorlax', 'Doduo', 'i_Beheeyemi_Stantleri_i_Ho-Ohi_VaporeonShayminSawsbuck', 'Dunsparce', 'i_GrovyleSlurpuff', 'Raichu'])\n",
      "tREE VALS after (array([[35.      ,  5.4     ,  6.4     ,  3.5     ,  4.4875  ,  2.      ,\n",
      "         3.1     ,  2.8     ],\n",
      "       [ 5.4     , 35.      ,  5.4     ,  6.9     , 10.75    ,  5.6     ,\n",
      "         3.6     ,  3.8     ],\n",
      "       [ 6.4     ,  5.4     , 35.      ,  3.9     ,  5.63125 ,  6.8     ,\n",
      "         3.7     ,  6.      ],\n",
      "       [ 3.5     ,  6.9     ,  3.9     , 35.      , 11.703125,  3.6     ,\n",
      "         4.9     ,  2.8     ],\n",
      "       [ 4.4875  , 10.75    ,  5.63125 , 11.703125, 35.      ,  2.21875 ,\n",
      "         5.05625 ,  4.20625 ],\n",
      "       [ 2.      ,  5.6     ,  6.8     ,  3.6     ,  2.21875 , 35.      ,\n",
      "         6.1     ,  2.2     ],\n",
      "       [ 3.1     ,  3.6     ,  3.7     ,  4.9     ,  5.05625 ,  6.1     ,\n",
      "        35.      ,  4.4     ],\n",
      "       [ 2.8     ,  3.8     ,  6.      ,  2.8     ,  4.20625 ,  2.2     ,\n",
      "         4.4     , 35.      ]]), 2.9281250000000005, 0.4718749999999998, 'Snorlax', 'Doduo', ['Toucannon', 'Drapion', 'Grumpig', 'i_SnorlaxDoduo', 'i_Beheeyemi_Stantleri_i_Ho-Ohi_VaporeonShayminSawsbuck', 'Dunsparce', 'i_GrovyleSlurpuff', 'Raichu'])\n",
      "tREE VALS before (array([[35.      ,  5.4     ,  6.4     ,  3.5     ,  4.4875  ,  2.      ,\n",
      "         3.1     ,  2.8     ],\n",
      "       [ 5.4     , 35.      ,  5.4     ,  6.9     , 10.75    ,  5.6     ,\n",
      "         3.6     ,  3.8     ],\n",
      "       [ 6.4     ,  5.4     , 35.      ,  3.9     ,  5.63125 ,  6.8     ,\n",
      "         3.7     ,  6.      ],\n",
      "       [ 3.5     ,  6.9     ,  3.9     , 35.      , 11.703125,  3.6     ,\n",
      "         4.9     ,  2.8     ],\n",
      "       [ 4.4875  , 10.75    ,  5.63125 , 11.703125, 35.      ,  2.21875 ,\n",
      "         5.05625 ,  4.20625 ],\n",
      "       [ 2.      ,  5.6     ,  6.8     ,  3.6     ,  2.21875 , 35.      ,\n",
      "         6.1     ,  2.2     ],\n",
      "       [ 3.1     ,  3.6     ,  3.7     ,  4.9     ,  5.05625 ,  6.1     ,\n",
      "        35.      ,  4.4     ],\n",
      "       [ 2.8     ,  3.8     ,  6.      ,  2.8     ,  4.20625 ,  2.2     ,\n",
      "         4.4     , 35.      ]]), 2.9281250000000005, 0.4718749999999998, 'Snorlax', 'Doduo', ['Toucannon', 'Drapion', 'Grumpig', 'i_SnorlaxDoduo', 'i_Beheeyemi_Stantleri_i_Ho-Ohi_VaporeonShayminSawsbuck', 'Dunsparce', 'i_GrovyleSlurpuff', 'Raichu'])\n",
      "tREE VALS after (array([[35.       ,  5.4      ,  6.4      ,  3.5      ,  2.134375 ,\n",
      "         3.1      ,  2.8      ],\n",
      "       [ 5.4      , 35.       ,  5.4      ,  6.9      ,  7.065625 ,\n",
      "         3.6      ,  3.8      ],\n",
      "       [ 6.4      ,  5.4      , 35.       ,  3.9      ,  5.10625  ,\n",
      "         3.7      ,  6.       ],\n",
      "       [ 3.5      ,  6.9      ,  3.9      , 35.       ,  6.5421875,\n",
      "         4.9      ,  2.8      ],\n",
      "       [ 2.134375 ,  7.065625 ,  5.10625  ,  6.5421875, 35.       ,\n",
      "         4.46875  ,  2.09375  ],\n",
      "       [ 3.1      ,  3.6      ,  3.7      ,  4.9      ,  4.46875  ,\n",
      "        35.       ,  4.4      ],\n",
      "       [ 2.8      ,  3.8      ,  6.       ,  2.8      ,  2.09375  ,\n",
      "         4.4      , 35.       ]]), 2.4039062499999995, -0.18515624999999947, 'i_Beheeyemi_Stantleri_i_Ho-Ohi_VaporeonShayminSawsbuck', 'Dunsparce', ['Toucannon', 'Drapion', 'Grumpig', 'i_SnorlaxDoduo', 'i_i_Beheeyemi_Stantleri_i_Ho-Ohi_VaporeonShayminSawsbuckDunsparce', 'i_GrovyleSlurpuff', 'Raichu'])\n",
      "tREE VALS before (array([[35.       ,  5.4      ,  6.4      ,  3.5      ,  2.134375 ,\n",
      "         3.1      ,  2.8      ],\n",
      "       [ 5.4      , 35.       ,  5.4      ,  6.9      ,  7.065625 ,\n",
      "         3.6      ,  3.8      ],\n",
      "       [ 6.4      ,  5.4      , 35.       ,  3.9      ,  5.10625  ,\n",
      "         3.7      ,  6.       ],\n",
      "       [ 3.5      ,  6.9      ,  3.9      , 35.       ,  6.5421875,\n",
      "         4.9      ,  2.8      ],\n",
      "       [ 2.134375 ,  7.065625 ,  5.10625  ,  6.5421875, 35.       ,\n",
      "         4.46875  ,  2.09375  ],\n",
      "       [ 3.1      ,  3.6      ,  3.7      ,  4.9      ,  4.46875  ,\n",
      "        35.       ,  4.4      ],\n",
      "       [ 2.8      ,  3.8      ,  6.       ,  2.8      ,  2.09375  ,\n",
      "         4.4      , 35.       ]]), 2.4039062499999995, -0.18515624999999947, 'i_Beheeyemi_Stantleri_i_Ho-Ohi_VaporeonShayminSawsbuck', 'Dunsparce', ['Toucannon', 'Drapion', 'Grumpig', 'i_SnorlaxDoduo', 'i_i_Beheeyemi_Stantleri_i_Ho-Ohi_VaporeonShayminSawsbuckDunsparce', 'i_GrovyleSlurpuff', 'Raichu'])\n",
      "tREE VALS after (array([[35.       ,  5.4      ,  6.9      , 17.5      ,  3.6      ,\n",
      "         3.8      ],\n",
      "       [ 5.4      , 35.       ,  3.9      ,  5.165625 ,  3.7      ,\n",
      "         6.       ],\n",
      "       [ 6.9      ,  3.9      , 35.       ,  4.6859375,  4.9      ,\n",
      "         2.8      ],\n",
      "       [17.5      ,  5.165625 ,  4.6859375, 35.       ,  2.7171875,\n",
      "         1.3796875],\n",
      "       [ 3.6      ,  3.7      ,  4.9      ,  2.7171875, 35.       ,\n",
      "         4.4      ],\n",
      "       [ 3.8      ,  6.       ,  2.8      ,  1.3796875,  4.4      ,\n",
      "        35.       ]]), 0.6595312499999998, 1.4748437500000002, 'Toucannon', 'i_i_Beheeyemi_Stantleri_i_Ho-Ohi_VaporeonShayminSawsbuckDunsparce', ['Drapion', 'Grumpig', 'i_SnorlaxDoduo', 'i_Toucannoni_i_Beheeyemi_Stantleri_i_Ho-Ohi_VaporeonShayminSawsbuckDunsparce', 'i_GrovyleSlurpuff', 'Raichu'])\n",
      "tREE VALS before (array([[35.       ,  5.4      ,  6.9      , 17.5      ,  3.6      ,\n",
      "         3.8      ],\n",
      "       [ 5.4      , 35.       ,  3.9      ,  5.165625 ,  3.7      ,\n",
      "         6.       ],\n",
      "       [ 6.9      ,  3.9      , 35.       ,  4.6859375,  4.9      ,\n",
      "         2.8      ],\n",
      "       [17.5      ,  5.165625 ,  4.6859375, 35.       ,  2.7171875,\n",
      "         1.3796875],\n",
      "       [ 3.6      ,  3.7      ,  4.9      ,  2.7171875, 35.       ,\n",
      "         4.4      ],\n",
      "       [ 3.8      ,  6.       ,  2.8      ,  1.3796875,  4.4      ,\n",
      "        35.       ]]), 0.6595312499999998, 1.4748437500000002, 'Toucannon', 'i_i_Beheeyemi_Stantleri_i_Ho-Ohi_VaporeonShayminSawsbuckDunsparce', ['Drapion', 'Grumpig', 'i_SnorlaxDoduo', 'i_Toucannoni_i_Beheeyemi_Stantleri_i_Ho-Ohi_VaporeonShayminSawsbuckDunsparce', 'i_GrovyleSlurpuff', 'Raichu'])\n",
      "tREE VALS after (array([[35.        ,  5.4       ,  6.9       ,  3.6       ,  9.96015625],\n",
      "       [ 5.4       , 35.        ,  3.9       ,  3.7       ,  4.89296875],\n",
      "       [ 6.9       ,  3.9       , 35.        ,  4.9       ,  3.053125  ],\n",
      "       [ 3.6       ,  3.7       ,  4.9       , 35.        , 17.5       ],\n",
      "       [ 9.96015625,  4.89296875,  3.053125  , 17.5       , 35.        ]]), 2.3234375, -0.9437500000000003, 'i_Toucannoni_i_Beheeyemi_Stantleri_i_Ho-Ohi_VaporeonShayminSawsbuckDunsparce', 'Raichu', ['Drapion', 'Grumpig', 'i_SnorlaxDoduo', 'i_GrovyleSlurpuff', 'i_i_Toucannoni_i_Beheeyemi_Stantleri_i_Ho-Ohi_VaporeonShayminSawsbuckDunsparceRaichu'])\n",
      "tREE VALS before (array([[35.        ,  5.4       ,  6.9       ,  3.6       ,  9.96015625],\n",
      "       [ 5.4       , 35.        ,  3.9       ,  3.7       ,  4.89296875],\n",
      "       [ 6.9       ,  3.9       , 35.        ,  4.9       ,  3.053125  ],\n",
      "       [ 3.6       ,  3.7       ,  4.9       , 35.        , 17.5       ],\n",
      "       [ 9.96015625,  4.89296875,  3.053125  , 17.5       , 35.        ]]), 2.3234375, -0.9437500000000003, 'i_Toucannoni_i_Beheeyemi_Stantleri_i_Ho-Ohi_VaporeonShayminSawsbuckDunsparce', 'Raichu', ['Drapion', 'Grumpig', 'i_SnorlaxDoduo', 'i_GrovyleSlurpuff', 'i_i_Toucannoni_i_Beheeyemi_Stantleri_i_Ho-Ohi_VaporeonShayminSawsbuckDunsparceRaichu'])\n",
      "tREE VALS after (array([[35.        ,  5.4       ,  3.6       ,  6.90351562],\n",
      "       [ 5.4       , 35.        ,  3.7       ,  2.86992188],\n",
      "       [ 3.6       ,  3.7       , 35.        , 17.5       ],\n",
      "       [ 6.90351562,  2.86992188, 17.5       , 35.        ]]), -1.2489583333333338, 4.302083333333334, 'i_SnorlaxDoduo', 'i_i_Toucannoni_i_Beheeyemi_Stantleri_i_Ho-Ohi_VaporeonShayminSawsbuckDunsparceRaichu', ['Drapion', 'Grumpig', 'i_GrovyleSlurpuff', 'i_i_SnorlaxDoduoi_i_Toucannoni_i_Beheeyemi_Stantleri_i_Ho-Ohi_VaporeonShayminSawsbuckDunsparceRaichu'])\n",
      "tREE VALS before (array([[35.        ,  5.4       ,  3.6       ,  6.90351562],\n",
      "       [ 5.4       , 35.        ,  3.7       ,  2.86992188],\n",
      "       [ 3.6       ,  3.7       , 35.        , 17.5       ],\n",
      "       [ 6.90351562,  2.86992188, 17.5       , 35.        ]]), -1.2489583333333338, 4.302083333333334, 'i_SnorlaxDoduo', 'i_i_Toucannoni_i_Beheeyemi_Stantleri_i_Ho-Ohi_VaporeonShayminSawsbuckDunsparceRaichu', ['Drapion', 'Grumpig', 'i_GrovyleSlurpuff', 'i_i_SnorlaxDoduoi_i_Toucannoni_i_Beheeyemi_Stantleri_i_Ho-Ohi_VaporeonShayminSawsbuckDunsparceRaichu'])\n",
      "tREE VALS after (array([[35.        , 17.5       ,  2.86992188],\n",
      "       [17.5       , 35.        , 10.40175781],\n",
      "       [ 2.86992188, 10.40175781, 35.        ]]), -0.42412109374999973, 4.024121093750001, 'Drapion', 'i_GrovyleSlurpuff', ['Grumpig', 'i_Drapioni_GrovyleSlurpuff', 'i_i_SnorlaxDoduoi_i_Toucannoni_i_Beheeyemi_Stantleri_i_Ho-Ohi_VaporeonShayminSawsbuckDunsparceRaichu'])\n",
      "tREE VALS before (array([[35.        , 17.5       ,  2.86992188],\n",
      "       [17.5       , 35.        , 10.40175781],\n",
      "       [ 2.86992188, 10.40175781, 35.        ]]), -0.42412109374999973, 4.024121093750001, 'Drapion', 'i_GrovyleSlurpuff', ['Grumpig', 'i_Drapioni_GrovyleSlurpuff', 'i_i_SnorlaxDoduoi_i_Toucannoni_i_Beheeyemi_Stantleri_i_Ho-Ohi_VaporeonShayminSawsbuckDunsparceRaichu'])\n",
      "tREE VALS after (array([[35.        , -2.11416016],\n",
      "       [-2.11416016, 35.        ]]), 4.984082031250001, 12.51591796875, 'Grumpig', 'i_Drapioni_GrovyleSlurpuff', ['i_Grumpigi_Drapioni_GrovyleSlurpuff', 'i_i_SnorlaxDoduoi_i_Toucannoni_i_Beheeyemi_Stantleri_i_Ho-Ohi_VaporeonShayminSawsbuckDunsparceRaichu'])\n"
     ]
    },
    {
     "data": {
      "image/png": "[encoded data removed]",
      "text/plain": [
       "<Figure size 1500x1500 with 1 Axes>"
      ]
     },
     "metadata": {},
     "output_type": "display_data"
    }
   ],
   "source": [
    "# Your code here\n",
    "G = construct_alignment(adjm, seq_names)\n",
    "draw_graph_nice(G)\n"
   ]
  },
  {
   "cell_type": "markdown",
   "id": "408f632b",
   "metadata": {
    "pycharm": {
     "name": "#%% md\n"
    }
   },
   "source": [
    "<div class=\"alert alert-success\">\n",
    "    \n",
    "**Problem 4 (b).** Given $n$ sequences each of roughly the same length $m$, what would the time complexity be for constructing such a phylogenetic tree? Can you think of any algorithms or heuristics that might make the process faster? \n",
    "    \n",
    "</div>"
   ]
  },
  {
   "cell_type": "code",
   "execution_count": null,
   "outputs": [],
   "source": [
    "#G.edges.data()\n",
    "print(list(nx.connected_components(G)))\n",
    "#print(G.adj[\"Slurpuff\"])\n",
    "#print(G.adj['i_GrovyleSlurpuff'])\n"
   ],
   "metadata": {
    "collapsed": false,
    "pycharm": {
     "name": "#%%\n"
    }
   }
  },
  {
   "cell_type": "markdown",
   "source": [
    "\n",
    "Upon analyzing the complexity of our algorithm, we discovered that we could do the generate_Q and find_min_Q step in one go, so instead of 2 passes through the n x n Q matrix, we generate and store the lowest value at the same time. This doesn't change the asymptotic complexity, but it does lower our pass from $O(2n^{2})$ to $O(n^{2})$, a subtle way to make the algorithm faster. The rest of our neighboor-join algorithm doesn't do more than $O(n^{2})$ work, so we drop these terms. Finally, we need to do the above-mentioned steps n times, each time with our Q matrix shrinking to size (n-1). This leads to a runtime of $O(n^{3})$. This could be potentially dwarfed by the first step in building a phylogenetic tree. We first need to construct the distance matrix using Needleman-Wunsch. This runtime is $O(m^{2})$ to align 2 sequences of length m. We call this algorithm $O(n^{2})$ to fill the n x n distance matrix we will need for our neighbor-joining algorithm. If n = m, we now have a complexity of $O(n^{4})$, which has a higher degree then Neighboor-Join and becomes the complexity of our entire algorithm. For a tighter bound for our distance matrix, we can say $\\theta(n^{2}m^{2})$, but this means then that we must stick with the neighboor-joining complexity of $O(n^{3})$"
   ],
   "metadata": {
    "collapsed": false,
    "pycharm": {
     "name": "#%% md\n"
    }
   }
  },
  {
   "cell_type": "markdown",
   "source": [
    "<div class=\"alert alert-success\">\n",
    "\n",
    "**Problem 4 (c).** Assume a direct correlation between the distance between any two nodes and the number of years (in millions) between their evolution. Assuming `Grumpig` was the first Pokémon to evolve, when did life first come to be in the fictional scenario?\n",
    "</div>"
   ],
   "metadata": {
    "collapsed": false,
    "pycharm": {
     "name": "#%% md\n"
    }
   }
  },
  {
   "cell_type": "markdown",
   "source": [
    "<div class=\"alert alert-warning\">\n",
    "\n",
    "For this part, feel free to use any of `networkx`'s in-built functions (or any graph-specific library you may have chosen for Problem 4).\n",
    "</div>"
   ],
   "metadata": {
    "collapsed": false,
    "pycharm": {
     "name": "#%% md\n"
    }
   }
  },
  {
   "cell_type": "code",
   "execution_count": null,
   "outputs": [],
   "source": [
    "# Your code here"
   ],
   "metadata": {
    "collapsed": false,
    "pycharm": {
     "name": "#%%\n"
    }
   }
  },
  {
   "cell_type": "code",
   "execution_count": null,
   "outputs": [],
   "source": [
    "how_long_ago = \"???\"  # Replace with your answer\n",
    "print(f\"Life evolved {how_long_ago} million years ago in the Pokémon world\")"
   ],
   "metadata": {
    "collapsed": false,
    "pycharm": {
     "name": "#%%\n"
    }
   }
  },
  {
   "cell_type": "markdown",
   "source": [
    "One way to test the robustness of such a tree reconstruction algorithm is to consider collection of nodes independently and see if the recontructed sub-trees match the bigger tree.\n",
    "\n",
    "<div class=\"alert alert-success\">\n",
    "    \n",
    "**Problem 4 (d).** Find an  edge between intermediate nodes with the largest weight in the phylogenetic tree and remove that edge- this will produce two disjoint cluster of nodes. Re-run your tree reconstruction algorithm on these two sets of Pokémons. Do your reconstructed tree match the larger phylogenetic tree?\n",
    "</div>"
   ],
   "metadata": {
    "collapsed": false,
    "pycharm": {
     "name": "#%% md\n"
    }
   }
  },
  {
   "cell_type": "markdown",
   "source": [
    "<div class=\"alert alert-warning\">\n",
    "\n",
    "For this part, feel free to use any of `networkx`'s in-built functions (or any graph-specific library you may have chosen for Problem 4).\n",
    "</div>"
   ],
   "metadata": {
    "collapsed": false,
    "pycharm": {
     "name": "#%% md\n"
    }
   }
  },
  {
   "cell_type": "code",
   "execution_count": null,
   "outputs": [],
   "source": [
    "#find the maximum weighted edge\n",
    "nodes = list(G.edges.data()) \n",
    "max_weighted_node = (\"null\", \"null\", {'weight': -99})\n",
    "max_weight = -99\n",
    "for node in nodes:\n",
    "    node_weight = node[2]\n",
    "    if node_weight['weight'] > max_weighted_node[2]['weight']:\n",
    "        max_weight = node_weight['weight']\n",
    "        max_weighted_node = node\n",
    "print(\"First try\", max_weighted_node)\n",
    "\n",
    "\n",
    "#def check_intermediate():\n",
    "    \n",
    "#remove the maximum weighted node\n",
    "#G.remove_edge(max_weighted_node[0], max_weighted_node[1])\n",
    "\n",
    "#split the two graphs\n",
    "newgraphs =  list(nx.connected_components(G))\n",
    "\n",
    "\n",
    "#seq1 \n",
    "draw_graph_nice(G)"
   ],
   "metadata": {
    "collapsed": false,
    "pycharm": {
     "name": "#%%\n"
    }
   }
  },
  {
   "cell_type": "markdown",
   "source": [
    "We can see visually that the two graphs we have created are in fact subgraphs of the original alignment we made. "
   ],
   "metadata": {
    "collapsed": false,
    "pycharm": {
     "name": "#%% md\n"
    }
   }
  },
  {
   "cell_type": "markdown",
   "source": [
    "<div class=\"alert alert-success\">\n",
    "\n",
    "**Problem 4 (d).** Can you inspect the matrix of distances between the Pokémons and predict whether the reconstructed trees would always be unique? Why/why not?\n",
    "</div>"
   ],
   "metadata": {
    "collapsed": false,
    "pycharm": {
     "name": "#%% md\n"
    }
   }
  },
  {
   "cell_type": "markdown",
   "source": [
    "Yes, if in our distance matrix we have strictly unique distances between each sequence pair i and j such that i != j, then we know that our reconstructed tree will be unique. We cannot make this guarantee if there are multiple identical distances in our matrix. Which pairing the algorithm chooses will depend on the it's implementation."
   ],
   "metadata": {
    "collapsed": false,
    "pycharm": {
     "name": "#%% md\n"
    }
   }
  },
  {
   "cell_type": "markdown",
   "id": "4184aac4",
   "metadata": {
    "pycharm": {
     "name": "#%% md\n"
    }
   },
   "source": [
    "## Part 5: Tracing Evolution"
   ]
  },
  {
   "cell_type": "markdown",
   "id": "d1ab2c5f",
   "metadata": {
    "pycharm": {
     "name": "#%% md\n"
    }
   },
   "source": [
    "<div class=\"alert alert-warning\">\n",
    "    This problem is a \"Challenge Problem\". This means it is a problem of unknown difficulty that might be quite challenging (unlike the earlier problems, we don't have a reference solution for this one, or a clear idea how hard it might be). We do hope all students will at least attempt this and that more ambitious students will work hard to solve it and learn interesting things by the attempt (whether or not it is successful), but not get frustrated if you can't get to the desired answer.  As a \"Challenge Problem\" it means that you shouldn't be worried if you are not able to solve this, though, and you can get full expected credit on this assignment without answering it.\n",
    "</div>\n",
    "\n",
    "\n",
    "Now that we can construct Phylogenetic trees using sequence alignment, we can attempt to construct these trees for different organisms and trace their evolution through time. You're given reads processed from a FASTA file for Hemoglobin Beta Proteins, which can be used to then trace evolution based on how similar their sequences are across organisms from different kingdoms. Each record has the following relevant information in Tuple format:\n",
    "\n",
    "`((uniprot identifier, full name, shortened name, group), (sequence))`\n",
    "\n",
    "As you may notice, running our nearest-neighbor reconstruction algorithm on this data will give a Phylogenetic tree that does not fully correspond to what we know about the evolution of these species."
   ]
  },
  {
   "cell_type": "markdown",
   "id": "9b457735",
   "metadata": {
    "pycharm": {
     "name": "#%% md\n"
    }
   },
   "source": [
    "<div class=\"alert alert-success\">\n",
    "    \n",
    "**Problem 8 (Challenge).** Construct a Phylogenetic Tree using the given sequences. Implement and use any tree-reconstruction method of your choice, and see if it works better than the nearest-neighbor method with a linear-gap penalty.\n",
    "    \n",
    "For visualization, use the short name to display in the evolution tree.\n",
    "    \n",
    "</div>\n",
    "    \n",
    "This is an open-ended question, and is inspired by https://www.mimuw.edu.pl/~lukaskoz/teaching/sad2/lab6/readme.html. You are free to use any approach to deal with the issue. Make sure you provide your code, along with any assumptions you may have."
   ]
  },
  {
   "cell_type": "code",
   "execution_count": 111,
   "id": "cab1a6b1",
   "metadata": {
    "pycharm": {
     "name": "#%%\n"
    }
   },
   "outputs": [
    {
     "name": "stdout",
     "output_type": "stream",
     "text": [
      "(('P01941.1', 'Tupaia glis', 'Tgli', 'Mammalia'), 'VLSPGDKSNIKAAWGKIGGQAPQYGAEALERMFLSFPTTKTYFPHFDMSHGSAQIQAHGKKVADALSTAVGHLDDLPTALSALSDLHAHKLRVDPANFKLLSHCILVTLACHHPGDFTPEIHASLDKFLANVSTVLTSKYR')\n",
      "(('P11755.1', 'Tadarida brasiliensis', 'Tbra', 'Mammalia'), 'VLSPEDKNNVKAAWSKVGGQAGDYGAEALERMFLSFPTTKTYFPHFDLSHGSAQVKGHGKKVGEALTTAVNHMDDLPGALSTLSDLHAYKLRVDPVNFKLLSHCLLVTLACHNPGEFTPAVHASLDKFLASVSTVLTSKYR')\n",
      "False\n"
     ]
    }
   ],
   "source": [
    "sequences = utils.get_sequences_for_tree()\n",
    "print(sequences[0])\n",
    "print(sequences[1])\n",
    "print(sequences[0][1] == sequences[1][1])"
   ]
  },
  {
   "cell_type": "code",
   "execution_count": 112,
   "id": "1891358b",
   "metadata": {},
   "outputs": [
    {
     "name": "stdout",
     "output_type": "stream",
     "text": [
      "True\n",
      "115\n"
     ]
    }
   ],
   "source": [
    "# Your code here\n",
    "\n",
    "# all sequences are length 141\n",
    "print(len(sequences[0][1]) == len(sequences[5][1]) == 141)\n",
    "\n",
    "def oneToOneScore(s1, s2):\n",
    "    # assumes they are the same length\n",
    "    if len(s1) != len(s2):\n",
    "        return False\n",
    "    numMatches = 0\n",
    "    for s in range(len(s1)):\n",
    "#         print(s)\n",
    "        if s1[s] == s2[s]:\n",
    "#             print(s1[s], s2[s])\n",
    "            numMatches += 1\n",
    "    return numMatches\n",
    "\n",
    "print(oneToOneScore(sequences[0][1], sequences[1][1]))"
   ]
  },
  {
   "cell_type": "code",
   "execution_count": 113,
   "id": "5a87e093",
   "metadata": {
    "pycharm": {
     "name": "#%%\n"
    }
   },
   "outputs": [],
   "source": [
    "matrix = [[0 for i in sequences] for j in sequences]\n",
    "\n",
    "for i in range(len(matrix)):\n",
    "    for j in range(len(matrix[i])):\n",
    "        r = oneToOneScore(sequences[i][1], sequences[j][1])\n",
    "        matrix[i][j] = 141-r\n",
    "#         print(i, j, r[1][2])"
   ]
  },
  {
   "cell_type": "code",
   "execution_count": 114,
   "id": "6e9e5c22",
   "metadata": {},
   "outputs": [
    {
     "name": "stdout",
     "output_type": "stream",
     "text": [
      "0 26 25 24 30 30 61 26 31 29 \n",
      "26 0 16 24 22 23 53 14 25 16 \n",
      "25 16 0 19 20 21 53 12 22 6 \n",
      "24 24 19 0 24 27 57 27 24 23 \n",
      "30 22 20 24 0 5 55 19 9 20 \n",
      "30 23 21 27 5 0 54 20 10 21 \n",
      "61 53 53 57 55 54 0 50 57 55 \n",
      "26 14 12 27 19 20 50 0 25 14 \n",
      "31 25 22 24 9 10 57 25 0 20 \n",
      "29 16 6 23 20 21 55 14 20 0 \n",
      "[3, 3, 3, 3, 3, 3, 3, 3, 3, 3]\n"
     ]
    }
   ],
   "source": [
    "# number of mismatches\n",
    "for i in matrix:\n",
    "    for j in i:\n",
    "        print(j, end=\" \")\n",
    "    print(\"\")\n",
    "    \n",
    "# Kruskal's on the nodes\n",
    "import heapq\n",
    "pq = []\n",
    "\n",
    "G = nx.Graph()\n",
    "# G.add_edge(\"pikachu\", \"weedle\")\n",
    "\n",
    "for i in range(len(matrix)):\n",
    "    for j in range(0, i):\n",
    "        heapq.heappush(pq, (matrix[i][j], i, j))\n",
    "#         print(matrix[i][j], end=\" \")\n",
    "#     print()\n",
    "    \n",
    "pp = len(pq)\n",
    "edges = []\n",
    "\n",
    "sets = [i for i in range(len(matrix))]\n",
    "\n",
    "while pq:\n",
    "    node = heapq.heappop(pq)\n",
    "    score = node[0]\n",
    "    i = node[1]\n",
    "    j = node[2]\n",
    "\n",
    "    if sets[i] != sets[j]:\n",
    "        G.add_edge(sequences[i][0][2], sequences[j][0][2])\n",
    "        edges.append([sequences[i][0][2], sequences[j][0][2], score])\n",
    "#         print(sequences[i][0][1], sequences[j][0][1])\n",
    "        \n",
    "        x1 = sets[j]\n",
    "        for x in range(len(sets)):\n",
    "            if sets[x] == x1:\n",
    "                sets[x] = sets[i]\n",
    "        sets[j] = sets[i]\n",
    "\n",
    "\n",
    "print(sets)"
   ]
  },
  {
   "cell_type": "code",
   "execution_count": 115,
   "id": "41f29248",
   "metadata": {},
   "outputs": [],
   "source": [
    "def score_tree(edges):\n",
    "    # count number of character-state changes\n",
    "    changes = 0\n",
    "    for edge in edges:\n",
    "        changes += edge[2]\n",
    "    return changes"
   ]
  },
  {
   "cell_type": "code",
   "execution_count": 116,
   "id": "95b25528",
   "metadata": {},
   "outputs": [
    {
     "name": "stdout",
     "output_type": "stream",
     "text": [
      "158\n"
     ]
    },
    {
     "data": {
      "image/png": "[encoded data removed]",
      "text/plain": [
       "<Figure size 1500x1500 with 1 Axes>"
      ]
     },
     "metadata": {},
     "output_type": "display_data"
    }
   ],
   "source": [
    "draw_graph_nice(G)\n",
    "score = score_tree(edges)\n",
    "print(score)"
   ]
  },
  {
   "cell_type": "markdown",
   "id": "4c4e5dbe",
   "metadata": {
    "pycharm": {
     "name": "#%% md\n"
    }
   },
   "source": [
    "We attempted to use Kruskal's simply to link the genomes together in a minimum spanning tree. Unlike minimum neighbors it does not create intermediate notes but only links the given nodes together. From the spanning tree produced, it seems that Mvel may be a common ancestor for the other genes since it's at the center."
   ]
  },
  {
   "cell_type": "markdown",
   "id": "f8bd7643",
   "metadata": {
    "pycharm": {
     "name": "#%% md\n"
    }
   },
   "source": [
    "This implementation was based on the idea of maximum parsimony, or the simplest tree, or the minimum homoplasy. It links together similar genomes together, but leaf siblings may not be similar to each other, only the parent."
   ]
  },
  {
   "cell_type": "markdown",
   "id": "02bbbec3",
   "metadata": {
    "pycharm": {
     "name": "#%% md\n"
    }
   },
   "source": [
    "<div class=\"alert alert-success\">\n",
    "    \n",
    "Is this (using Hemoglobin proteins) the best way to trace and visualize evolution? Why do you think it is useful, and what could the possible downsides of this be?\n",
    "    \n",
    "</div>"
   ]
  },
  {
   "cell_type": "markdown",
   "id": "7e6ad932",
   "metadata": {
    "pycharm": {
     "name": "#%% md\n"
    }
   },
   "source": [
    "This assumes that the ancestors are given alongside the modern genomes, which is typically not the case. It's useful for when we know a group of organisms and want to find out the relationship. Also, the \"distance\" between nodes was just a one-to-one gap so a very rudimentary global alignment, which was useful in this case since each sequence was 141 characters long and very similar to each other.\n",
    "Lastly, it was rather lucky that the tree generated looked like a rooted tree, which might be based on the data provided. Maybe due to the nature of the hemoglobin sequences, Kruskal's may not be a bad solution. However, for other genomes, this algorithm would perform very badly, and most of the times not even give a rooted tree."
   ]
  },
  {
   "cell_type": "markdown",
   "id": "3a315dd6",
   "metadata": {
    "pycharm": {
     "name": "#%% md\n"
    }
   },
   "source": [
    "   <div class=\"alert alert-block alert-danger\">\n",
    "    <center>\n",
    "      \n",
    "**End of Project 2!**\n",
    "        \n",
    "Remember to follow the submission directions above to submit your assignment.\n",
    "    \n",
    " </center>\n",
    " </div>"
   ]
  }
 ],
 "metadata": {
  "kernelspec": {
   "display_name": "Python 3 (ipykernel)",
   "language": "python",
   "name": "python3"
  },
  "language_info": {
   "codemirror_mode": {
    "name": "ipython",
    "version": 3
   },
   "file_extension": ".py",
   "mimetype": "text/x-python",
   "name": "python",
   "nbconvert_exporter": "python",
   "pygments_lexer": "ipython3",
   "version": "3.8.9"
  }
 },
 "nbformat": 4,
 "nbformat_minor": 5
}