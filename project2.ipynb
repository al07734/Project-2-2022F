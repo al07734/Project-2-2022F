{
 "cells": [
  {
   "cell_type": "markdown",
   "id": "282ede71",
   "metadata": {},
   "source": [
    "# Project 2: Sequence Alignment and Phylogeny"
   ]
  },
  {
   "cell_type": "markdown",
   "id": "bdda77c7",
   "metadata": {},
   "source": [
    "\n",
    "   <div class=\"alert alert-block alert-danger\">\n",
    "    <center>Due: <b>Wednesday, 21 September, 8:59pm</b>.</center> \n",
    "   </div>\n",
    "   \n",
    "   <div class=\"alert alert-block alert-warning\">\n",
    "   <center>\n",
    "       <b>Collaboration and Resource Policy</b>\n",
    "    </center>\n",
    "    For this assignment, you are encouraged to work with one other person. Your team must satisfy these constraints:\n",
    "    \n",
    "   1. You **did not work together on Project 1**.\n",
    "   2. You and your partner have a **total number of siblings that is divisible by two** (e.g., if you have one sibling, you need to find a partner with 1, 3, 5, or 7 siblings. If anyone has more than 7 siblings, they can partner with anyone!)\n",
    "    \n",
    "We expect most students will have the best learning experience on this assignment by working with a partner, but if you prefer to work alone it is permissible to do this assignment on your own.\n",
    "    \n",
    "You are encouraged to discuss these problems with anyone you want, including other students in the class. If you do discuss the specific questions in the assignment with anyone other than your assignment partner and the course staff, though, you should list them in the _External resources used_ section below.\n",
    "    \n",
    "You are welcome to use any resources you want for this assignment, other than ones that would defeat the purpose of the assignment. This means you should not look at answers or code from any other students in the class (other than your collaboration with your partner) or from previous offerings of this course, and if you find code that implements the problem you are being asked to do for the assignment, you should not use that code. \n",
    "\n",
    "You should document all external resource you use that are not part of the course materials in the _External resources used_ section below.\n",
    "    </div>"
   ]
  },
  {
   "cell_type": "markdown",
   "id": "93a2f3d1",
   "metadata": {},
   "source": [
    "**Team submitting this assignment:**  \n",
    "<div class=\"alert alert-success\">\n",
    "    <b><em>list each member of your team here, including both your name and UVA computing id</em></b>\n",
    "    Alison Lu (atl9rn)\n",
    "</div>\n",
    "\n",
    "**External resources used:** \n",
    "<div class=\"alert alert-success\">\n",
    "<em>It is not necessary to list the course materials, but if you used any other resources, including discussing problems with students not on your team, list them here.</em>\n",
    "</div>"
   ]
  },
  {
   "cell_type": "markdown",
   "id": "ba6b308b",
   "metadata": {},
   "source": [
    " <div class=\"alert alert-block alert-warning\">\n",
    "    \n",
    "<b>Submission</b>: Please submit the code you wrote to generate your answers for all parts using this form: https://forms.gle/gv144kv3KRo67uUX7. Your answers should be in the Jupyter Notebook, along with your code. Before submission, you should make a copy of your notebook file with the name uvaid1\\_uvaid2.ipynb (where uvaidn is each teammates UVA id) so the submitted file identifies you. You and your partner should submit a single file once together. Submission is due 8:59 pm on Wednesday, 21 September."
   ]
  },
  {
   "cell_type": "markdown",
   "id": "cc49b0d6",
   "metadata": {},
   "source": [
    "## Getting Started"
   ]
  },
  {
   "cell_type": "markdown",
   "id": "e74af112",
   "metadata": {},
   "source": [
    "Install basic required packages, should be run only once. You may need to restart the jupyter python kernel (under the Kernel menu) after this. (You can execute this directly in the notebook but running the command below.)"
   ]
  },
  {
   "cell_type": "code",
   "execution_count": 1,
   "id": "c83b82c9",
   "metadata": {},
   "outputs": [
    {
     "name": "stdout",
     "output_type": "stream",
     "text": [
      "Collecting git+https://github.com/iamgroot42/blosum.git (from -r requirements.txt (line 1))\n",
      "  Cloning https://github.com/iamgroot42/blosum.git to c:\\users\\owner\\appdata\\local\\temp\\pip-req-build-q0c4h2q7\n",
      "  Resolved https://github.com/iamgroot42/blosum.git to commit 433ed2f1b55fa010ad1b4b2a84158c1f38ddeaf6\n",
      "  Installing build dependencies: started\n",
      "  Installing build dependencies: finished with status 'done'\n",
      "  Getting requirements to build wheel: started\n",
      "  Getting requirements to build wheel: finished with status 'done'\n",
      "  Preparing metadata (pyproject.toml): started\n",
      "  Preparing metadata (pyproject.toml): finished with status 'done'\n",
      "Requirement already satisfied: biopython in c:\\users\\owner\\appdata\\local\\programs\\python\\python310\\lib\\site-packages (from -r requirements.txt (line 2)) (1.79)\n",
      "Requirement already satisfied: tqdm in c:\\users\\owner\\appdata\\local\\programs\\python\\python310\\lib\\site-packages (from -r requirements.txt (line 3)) (4.64.0)\n",
      "Requirement already satisfied: networkx in c:\\users\\owner\\appdata\\local\\programs\\python\\python310\\lib\\site-packages (from -r requirements.txt (line 4)) (2.8.6)\n",
      "Requirement already satisfied: pokemons in c:\\users\\owner\\appdata\\local\\programs\\python\\python310\\lib\\site-packages (from -r requirements.txt (line 5)) (1.0.3)\n",
      "Requirement already satisfied: numpy in c:\\users\\owner\\appdata\\local\\programs\\python\\python310\\lib\\site-packages (from biopython->-r requirements.txt (line 2)) (1.23.2)\n",
      "Requirement already satisfied: colorama in c:\\users\\owner\\appdata\\local\\programs\\python\\python310\\lib\\site-packages (from tqdm->-r requirements.txt (line 3)) (0.4.5)\n",
      "Note: you may need to restart the kernel to use updated packages.\n"
     ]
    },
    {
     "name": "stderr",
     "output_type": "stream",
     "text": [
      "  Running command git clone --filter=blob:none --quiet https://github.com/iamgroot42/blosum.git 'C:\\Users\\OWNER\\AppData\\Local\\Temp\\pip-req-build-q0c4h2q7'\n"
     ]
    }
   ],
   "source": [
    "%pip install -r requirements.txt"
   ]
  },
  {
   "cell_type": "code",
   "execution_count": 2,
   "id": "4783a611",
   "metadata": {},
   "outputs": [],
   "source": [
    "import numpy as np\n",
    "import blosum as bl\n",
    "import networkx as nx\n",
    "import matplotlib.pyplot as plt\n",
    "import utils\n",
    "from itertools import chain"
   ]
  },
  {
   "cell_type": "markdown",
   "id": "0d72fa0c",
   "metadata": {},
   "source": [
    "## Part 1: Global Sequence Alignment"
   ]
  },
  {
   "cell_type": "markdown",
   "id": "aeeed9ab",
   "metadata": {},
   "source": [
    "Below we provide the sequence alignment code from [Class 6](https://computingbiology.github.io/class6/). You are welcome to use and modify this code however you want in your solution, but should answer the questions below based on this provided code."
   ]
  },
  {
   "cell_type": "code",
   "execution_count": 3,
   "id": "1d86246d",
   "metadata": {},
   "outputs": [],
   "source": [
    "def simpleMatch(a, b):\n",
    "    return 1 if a == b else -1\n",
    "\n",
    "def distanceMatch(a, b):\n",
    "    return 0 if a == b else -1\n",
    "\n",
    "def linearGap(n):\n",
    "    return -1 * n\n",
    "\n",
    "def alignmentScore(s1, s2, gapPenalty, match):\n",
    "    if not s1 or not s2:\n",
    "        return gapPenalty(len(s1)) + gapPenalty(len(s2))\n",
    "    else:\n",
    "        return max(gapPenalty(1) + alignmentScore(s1, s2[1:], gapPenalty, match), \n",
    "                   gapPenalty(1) + alignmentScore(s1[1:], s2, gapPenalty, match),\n",
    "                   match(s1[0], s2[0]) + alignmentScore(s1[1:], s2[1:], gapPenalty, match)) "
   ]
  },
  {
   "cell_type": "code",
   "execution_count": 4,
   "id": "dbea0b6d",
   "metadata": {},
   "outputs": [],
   "source": [
    "def alignmentScoreDP(s1, s2, gapPenalty, match):\n",
    "    m = np.zeros((len(s1) + 1, len(s2) + 1))\n",
    "    m[0, 0] = 0\n",
    "    for i in range(1, len(s1) + 1):\n",
    "        m[i, 0] = gapPenalty(i)\n",
    "    for j in range(1, len(s2) + 1):\n",
    "        m[0, j] = gapPenalty(j)\n",
    "    for i in range(1, len(s1) + 1):\n",
    "        for j in range(1, len(s2) + 1):\n",
    "            m[i, j] = max(gapPenalty(1) + m[i, j - 1],  \n",
    "                          gapPenalty(1) + m[i - 1, j],    \n",
    "                          match(s1[i - 1], s2[j - 1]) + m[i - 1, j - 1]) \n",
    "    return m\n",
    "    \n",
    "def readAlignment(s1, s2, m, gapPenalty, match):\n",
    "    i = len(s1)\n",
    "    j = len(s2)\n",
    "    s1a = \"\"\n",
    "    s2a = \"\" \n",
    "    score = 0\n",
    "    while i > 0 or j > 0:\n",
    "        if i > 0 and j > 0 and m[i, j] == m[i - 1, j - 1] + match(s1[i - 1], s2[j - 1]):\n",
    "            i = i - 1\n",
    "            j = j - 1\n",
    "            score += match(s1[i], s2[j])\n",
    "            s1a = s1[i] + s1a\n",
    "            if s1[i] == s2[j]:\n",
    "                s2a = s2[j] + s2a\n",
    "            else:\n",
    "                s2a = s2[j].lower() + s2a\n",
    "        elif i > 0 and m[i, j] == m[i - 1, j] + gapPenalty(1):\n",
    "            i = i - 1\n",
    "            score += gapPenalty(1)\n",
    "            s1a = s1[i] + s1a\n",
    "            s2a = '-' + s2a\n",
    "        elif j > 0 and m[i, j] == m[i, j - 1] + gapPenalty(1):\n",
    "            j = j - 1\n",
    "            score += gapPenalty(1)\n",
    "            s1a = '-' + s1a\n",
    "            s2a = s2[j] + s2a\n",
    "        else:\n",
    "            assert False\n",
    "    return (s1a, s2a, score)\n",
    "\n",
    "def showAlignment(s1, s2, gapPenalty, match):\n",
    "    m = alignmentScoreDP(s1, s2, gapPenalty, match)\n",
    "    r = readAlignment(s1, s2, m, gapPenalty, match)\n",
    "    print (r[0] + \"\\n\" + r[1] + \"\\n\" + str(r[2]))\n",
    "    return (m, r)"
   ]
  },
  {
   "cell_type": "code",
   "execution_count": 5,
   "id": "2283b870",
   "metadata": {},
   "outputs": [
    {
     "name": "stdout",
     "output_type": "stream",
     "text": [
      "G-ATT\n",
      "GCA-T\n",
      "1\n"
     ]
    }
   ],
   "source": [
    "# Example\n",
    "r = showAlignment(\"GATT\", \"GCAT\", linearGap, simpleMatch)"
   ]
  },
  {
   "cell_type": "markdown",
   "id": "fe5d161a",
   "metadata": {},
   "source": [
    "Here's the version that supports affine gap penalties (from Class 6):"
   ]
  },
  {
   "cell_type": "code",
   "execution_count": 6,
   "id": "6baa66cb",
   "metadata": {},
   "outputs": [],
   "source": [
    "def alignmentScoreDPG(s1, s2, gapPenalty, match):\n",
    "    m = np.zeros((len(s1) + 1, len(s2) + 1))\n",
    "    m[0, 0] = 0\n",
    "    for i in range(1, len(s1) + 1):\n",
    "        m[i, 0] = gapPenalty(i)\n",
    "    for j in range(1, len(s2) + 1):\n",
    "        m[0, j] = gapPenalty(j)\n",
    "    for i in range(1, len(s1) + 1):\n",
    "        for j in range(1, len(s2) + 1):         \n",
    "            m[i, j] = max(chain((gapPenalty(g) + m[i, j - g] for g in range(1, j)),\n",
    "                                (gapPenalty(g) + m[i - g, j] for g in range(1, i)),   \n",
    "                                [(match(s1[i - 1], s2[j - 1]) + m[i - 1, j - 1])]))\n",
    "    return m\n",
    "    \n",
    "def readAlignmentG(s1, s2, m, gapPenalty, match):\n",
    "    i = len(s1)\n",
    "    j = len(s2)\n",
    "    s1a = \"\"\n",
    "    s2a = \"\"\n",
    "    score = 0\n",
    "    while i > 0 or j > 0:\n",
    "        if i > 0 and j > 0 and m[i, j] == m[i - 1, j - 1] + match(s1[i - 1], s2[j - 1]):\n",
    "            i = i - 1\n",
    "            j = j - 1\n",
    "            s1a = s1[i] + s1a\n",
    "            s2a = (s2[j] if s1[i] == s2[j] else s2[j].lower()) + s2a\n",
    "            score += match(s1[i], s2[j])\n",
    "        else:\n",
    "            foundit = False\n",
    "            for g in range(1, i + 1):\n",
    "                if m[i, j] == m[i - g, j] + gapPenalty(g):\n",
    "                    s1a = s1[i - g:i] + s1a\n",
    "                    s2a = ('-' * g) + s2a\n",
    "                    i = i - g\n",
    "                    score += gapPenalty(g)\n",
    "                    foundit = True\n",
    "                    break\n",
    "            if not foundit:\n",
    "                for g in range(1, j + 1):\n",
    "                    if m[i, j] == m[i, j - g] + gapPenalty(g):\n",
    "                        s1a = ('-' * g) + s1a\n",
    "                        s2a = s2[j - g:j] + s2a\n",
    "                        j = j - g\n",
    "                        score += gapPenalty(g)\n",
    "                        foundit = True\n",
    "                        break\n",
    "            assert foundit\n",
    "    return (s1a, s2a, score)\n",
    "\n",
    "def showAlignmentG(s1, s2, gapPenalty, match):\n",
    "    m = alignmentScoreDPG(s1, s2, gapPenalty, match)\n",
    "    r = readAlignmentG(s1, s2, m, gapPenalty, match)\n",
    "    print (r[0] + \"\\n\" + r[1] + \"\\n\" + str(r[2]))\n",
    "    return (m, r)"
   ]
  },
  {
   "cell_type": "code",
   "execution_count": 7,
   "id": "74e61e6b",
   "metadata": {},
   "outputs": [],
   "source": [
    "def affineGap(n, gp = -1, gn = -0.2):\n",
    "    return gp + (n - 1) * gn"
   ]
  },
  {
   "cell_type": "code",
   "execution_count": 8,
   "id": "7e866e8b",
   "metadata": {},
   "outputs": [
    {
     "name": "stdout",
     "output_type": "stream",
     "text": [
      "AAAGAATTCA\n",
      "AAA----TCA\n",
      "4.4\n"
     ]
    }
   ],
   "source": [
    "# Example\n",
    "s1 = \"AAAGAATTCA\"\n",
    "s2 = \"AAATCA\"\n",
    "r = showAlignmentG(s1, s2, affineGap, simpleMatch)"
   ]
  },
  {
   "cell_type": "markdown",
   "id": "cbb7eeec",
   "metadata": {},
   "source": [
    "<div class=\"alert alert-success\">\n",
    "\n",
    "**Problem 1 (a).** Run the given algorithm to find a global sequence alignment for the OCA2 genes (a key gene for the production of melanin) for humans and mice with the following gap penalties (still using simpleMatch as the match score function):\n",
    "\n",
    "  a. `linearGap` penalty\n",
    "    \n",
    "  b. `affineGap` penalty, with $gp=-0.2$\n",
    "\n",
    "  c. `affineGap` penalty, with $gp=-0.1$\n",
    "    \n",
    "</div>\n"
   ]
  },
  {
   "cell_type": "code",
   "execution_count": 9,
   "id": "dbd27358",
   "metadata": {},
   "outputs": [],
   "source": [
    "human_oca2, mouse_oca2 = utils.load_oca2_sequences()"
   ]
  },
  {
   "cell_type": "code",
   "execution_count": 10,
   "id": "c0163d8a",
   "metadata": {},
   "outputs": [
    {
     "name": "stdout",
     "output_type": "stream",
     "text": [
      "-GTTCT--TACTTCGAAG-GCTGTGCTCCG----CTCACCATCCAGAGCGGAGGTGCGGACC-T-TA-AACTCA-CTCC--TGGA----GA-A--AGATCTGCAAGTGC-GCAGAGAGAAGACTGGCAGTGGAGCATGCATCTGGAGGGCAGAGACGGC-A-GGCGGTACCCCGGCGCGCCGGCG-GTGGAGCTCCTGCAGACGTCCGTGCC-CAGCGGACTCGCT-GAACTTGTGGC--CGGCA-AGC\n",
      "CccTCTGGggCTgC-AAGTGC-cTGCTgaGAAATCTtA-CA-CC--AG-GGttGTGC--tCCATCcACgACTCAGagCCTTTGGATCTGGACACTAGA-CTtC-AcTGCTG--GAGAG-AGA-T--CAG-cGAG--T-CATC---A-GaCAGA-tCaGCAACGG-GG-A--CatGCGC-CtaGaGAacaaAG-aCaT-CAG--G-CtG-GCCTCAGCcG--T-GCTGGAAgTaG-aGCTACacCAGA-C\n",
      "25\n",
      "---------G-T-----T-C-T--T---A---CTT-CGA--A-GG-CTGTGCTCC--GCTCAC--CATCCAGAG-C---GGAGGTGC-GGAC-CTTAA-AC-TCACT-CCTGGAGA-AAGATC-TGC-AAGTGC--GCAGA-GAGA--AG--ACTGGCAGTGGAGCAT--GCATCT-G-G-AGGGC-AGAGAC--GGCAGGC-GGTACCC-C-GGCGCG-CCGGCGGTGG-AGCTCCTGCAGACGTCCGTGCCCAGCGGACTCGCTGAACTTGTGGCCGGCAAGC\n",
      "CCCTCTGGGGCTGCAAGTGCCTGCTGAGAAATCTTAC-ACCAGGGT-TGTGCTCCAT-C-CACGAC-T-CAGAGCCTTTGGA--T-CTGGACACT--AGACTTCACTG-CTGGAGAG-AGATCA-GCG-AGT-CAT-CAGAC-AGATCAGCAAC-G---G-GGA-CATGCGC--CTAGAGAA---CAA-AGACAT--CAGGCTGG---CCTCA-GC-CGT---GC--TGGAAG----T--AGA-G--C-T----A-C--AC---C---A---------G---A-C\n",
      "112.1999999999998\n",
      "------G----T-----T--CT--T-A-----CTT-CGA--A-GG-CTGTGCTCC--GCTCAC--CATCCAGAG-C---GGAGGTGC-GGAC-CTTA-AAC-TCACT-CCTGGAGA-AAGATC-TGC-AAGTGC--GCAGA-GAGA--AG--ACTGGCAGTGGAGCAT--GCATCT-G-G-AGGGC-AGAGAC--GGCAGGC-GGTACC-C-CGGCGCG-CCGGCGGTGG-AGCTCCTGCAGACGTCCGTGCCCAGCGGACTCGCTGAACTTGTGGCCGGCAAGC\n",
      "CCCTCTGGGGCTGCAAGTGCCTGCTGAGAAATCTTAC-ACCAGGGT-TGTGCTCCAT-C-CACGAC-T-CAGAGCCTTTGGA--T-CTGGACAC-TAG-ACTTCACTG-CTGGAGAG-AGATCA-GCG-AGT-CAT-CAGAC-AGATCAGCAAC--G--G-GGA-CATGCGC--CTAGAGAA---CAA-AGACAT--CAGGCTGG--CCTCA--GC-CGT---GC--TGGAAG----T--AGA-G--C-T----A-C--A--C-C---A----------G--A-C\n",
      "126.10000000000025\n"
     ]
    }
   ],
   "source": [
    "# Your code here\n",
    "m, r = showAlignment(human_oca2, mouse_oca2, linearGap, simpleMatch)\n",
    "def affineGap(n, gp = -0.2, gn = -0.2):\n",
    "    return gp + (n - 1) * gn\n",
    "m1, r1 = showAlignmentG(human_oca2, mouse_oca2, affineGap, simpleMatch)\n",
    "def affineGap(n, gp = -0.1, gn = -0.2):\n",
    "    return gp + (n - 1) * gn\n",
    "m2, r2 = showAlignmentG(human_oca2, mouse_oca2, affineGap, simpleMatch)"
   ]
  },
  {
   "cell_type": "code",
   "execution_count": 11,
   "id": "8ac40ad3",
   "metadata": {},
   "outputs": [
    {
     "name": "stdout",
     "output_type": "stream",
     "text": [
      "[[   0.   -1.   -2. ... -205. -206. -207.]\n",
      " [  -1.   -1.   -2. ... -203. -204. -205.]\n",
      " [  -2.   -2.   -2. ... -201. -202. -203.]\n",
      " ...\n",
      " [-217. -215. -213. ...   24.   25.   24.]\n",
      " [-218. -216. -214. ...   25.   24.   24.]\n",
      " [-219. -217. -215. ...   24.   24.   25.]] ('-GTTCT--TACTTCGAAG-GCTGTGCTCCG----CTCACCATCCAGAGCGGAGGTGCGGACC-T-TA-AACTCA-CTCC--TGGA----GA-A--AGATCTGCAAGTGC-GCAGAGAGAAGACTGGCAGTGGAGCATGCATCTGGAGGGCAGAGACGGC-A-GGCGGTACCCCGGCGCGCCGGCG-GTGGAGCTCCTGCAGACGTCCGTGCC-CAGCGGACTCGCT-GAACTTGTGGC--CGGCA-AGC', 'CccTCTGGggCTgC-AAGTGC-cTGCTgaGAAATCTtA-CA-CC--AG-GGttGTGC--tCCATCcACgACTCAGagCCTTTGGATCTGGACACTAGA-CTtC-AcTGCTG--GAGAG-AGA-T--CAG-cGAG--T-CATC---A-GaCAGA-tCaGCAACGG-GG-A--CatGCGC-CtaGaGAacaaAG-aCaT-CAG--G-CtG-GCCTCAGCcG--T-GCTGGAAgTaG-aGCTACacCAGA-C', 25)\n"
     ]
    }
   ],
   "source": [
    "print(m, r)"
   ]
  },
  {
   "cell_type": "markdown",
   "id": "fdd3c150",
   "metadata": {},
   "source": [
    "<div class=\"alert alert-success\">\n",
    "\n",
    "**Problem 1 (b).** Use the given function to convert these sequences to their amino-acid sequences, and then re-run alignment for all sequences with the default parameters for `affineGap`.\n",
    "</div>\n"
   ]
  },
  {
   "cell_type": "code",
   "execution_count": 12,
   "id": "dfa960b8",
   "metadata": {},
   "outputs": [
    {
     "data": {
      "text/plain": [
       "'KCGV'"
      ]
     },
     "execution_count": 12,
     "metadata": {},
     "output_type": "execute_result"
    }
   ],
   "source": [
    "# Convert sequence of nucleotides to amino acids using codon table lookup\n",
    "# Example\n",
    "utils.convert_to_amino(\"AAATGCGGCGTA\")"
   ]
  },
  {
   "cell_type": "code",
   "execution_count": 13,
   "id": "51e94543",
   "metadata": {},
   "outputs": [
    {
     "name": "stdout",
     "output_type": "stream",
     "text": [
      "RSGTSKCCAPKSHHPERRCGPSTTQLLWIWTLDLQVLQREDWQWSMHLEGRDGNGGTPARRRVELLQTSVPQRTRWNLWLRQS\n",
      "PSGAASAC_EILRPGSVLHAHDIQSLWRCWTLKTSLPGEKIMRSACRRDQQLAVEHAHLEKGKRHGRLVPSGASGGGSSCRRPCPADSLNLWPAS\n",
      "PSGAASAC_EILRPGSVLHAHDIQSLWRCWTLRTSLPGEKIMRSACRRDQQLAVEHAHLEKGKRHGRLVPHGASGGGSSCRRPCPADSLNLWPAS\n"
     ]
    }
   ],
   "source": [
    "# Your code here\n",
    "def fill_in(str1, str2):\n",
    "    seq = \"\"\n",
    "    for s in range(len(str1)):\n",
    "        if str1[s] == '-':\n",
    "            seq += str2[s]\n",
    "        else:\n",
    "            seq += str1[s]\n",
    "    return seq\n",
    "seq1 = fill_in(r[0],r[1])\n",
    "print(utils.convert_to_amino(seq1))\n",
    "seq2 = fill_in(r1[0],r1[1])\n",
    "print(utils.convert_to_amino(seq2))\n",
    "seq3 = fill_in(r2[0],r2[1])\n",
    "print(utils.convert_to_amino(seq3))\n",
    "# print(seq2 == seq3)"
   ]
  },
  {
   "cell_type": "markdown",
   "id": "ff22569b",
   "metadata": {},
   "source": [
    "## Part 2: Alignment with Amino-Acids"
   ]
  },
  {
   "cell_type": "markdown",
   "id": "eb39942e",
   "metadata": {},
   "source": [
    "\n",
    "The PAM<em>n</em> matrix (to be covered in [Class 6](https://computingbiology.github.io/class6/)) represents the likelihood of the occurrence of each tranformation during a time period where there are _n_ total mutation events per 100 amino acids."
   ]
  },
  {
   "cell_type": "markdown",
   "id": "6d04711a",
   "metadata": {},
   "source": [
    "<div class=\"alert alert-success\">\n",
    "\n",
    "**Problem 2 (a)** What would a negative value of an entry in a PAM 1 matrix $M$ indicate? Explain in terms of evolution and functionality of the proteins. Note that $M_{ij} = log(\\frac{q_{ij}}{p_ip_j})$ where $q_{ij}$ indicates the frequency of amino acids $i$ and $j$ observed to align in related sequences, and $p_i$ and $p_j$ represent the frequencies of occurrence of $i$ and $j$.\n",
    "</div>"
   ]
  },
  {
   "cell_type": "markdown",
   "id": "1bf71f7a",
   "metadata": {},
   "source": [
    "A negative entry in a PAM 1 matrix indicates that q_{i,j} / p_i * p_j is less than 1 (but greater than 0), which means that p_i * p_j is greater than q_{i,j}. This means that the alignment frequency is very low while the independent frequences of i and j are relatively higher. For this to mathematically work, the alignment frequency must be less than 1. This likely means that they are inversely correlated or actively harmful for each other. It likely means that when amino acid i gets replaced by amino acid j or vice versa, the organism no longer becomes viable and thus cannot spread its genes through evolution."
   ]
  },
  {
   "cell_type": "markdown",
   "id": "f96cc1a8",
   "metadata": {},
   "source": [
    "<div class=\"alert alert-success\">\n",
    "    \n",
    "**Problem 2 (b).** The BLOSUM<em>x</em> matices are created by clustering sequences with more than <em>x</em>% similarity into one single sequence and comparing sequences with more than <em>x</em>% divergence. Therefore, BLOSUM matrices are based on local alignments. Which of BLOSUM 50 and 60 contain more evoluationary divergence? \n",
    "    \n",
    "</div>"
   ]
  },
  {
   "cell_type": "markdown",
   "id": "dc4e8971",
   "metadata": {},
   "source": [
    "The percentage is a ceiling for pairwise identity. This means that BLOSUM 50 should be used for sequences with more evolutionary divergence. If X is too high there will be little sequences grouped together."
   ]
  },
  {
   "cell_type": "markdown",
   "id": "de8c62f1",
   "metadata": {},
   "source": [
    "<div class=\"alert alert-success\">\n",
    "\n",
    "**Problem 2 (c).** Use the BLOSUM62 matrix as your scoring function to perform global alignment on the amino-acid sequences using `linearGap` (default parameters).\n",
    "</div>"
   ]
  },
  {
   "cell_type": "code",
   "execution_count": 14,
   "id": "8b5f928a",
   "metadata": {},
   "outputs": [],
   "source": [
    "blosum_matrix = bl.BLOSUM(62)"
   ]
  },
  {
   "cell_type": "code",
   "execution_count": 15,
   "id": "d42cd73c",
   "metadata": {},
   "outputs": [
    {
     "name": "stdout",
     "output_type": "stream",
     "text": [
      "BLOSUM 62\n",
      "{'AA': 4.0, 'AR': -1.0, 'AN': -2.0, 'AD': -2.0, 'AC': 0.0, 'AQ': -1.0, 'AE': -1.0, 'AG': 0.0, 'AH': -2.0, 'AI': -1.0, 'AL': -1.0, 'AK': -1.0, 'AM': -1.0, 'AF': -2.0, 'AP': -1.0, 'AS': 1.0, 'AT': 0.0, 'AW': -3.0, 'AY': -2.0, 'AV': 0.0, 'AB': -2.0, 'AJ': -1.0, 'AZ': -1.0, 'AX': -1.0, 'A*': -4.0, 'RA': -1.0, 'RR': 5.0, 'RN': 0.0, 'RD': -2.0, 'RC': -3.0, 'RQ': 1.0, 'RE': 0.0, 'RG': -2.0, 'RH': 0.0, 'RI': -3.0, 'RL': -2.0, 'RK': 2.0, 'RM': -1.0, 'RF': -3.0, 'RP': -2.0, 'RS': -1.0, 'RT': -1.0, 'RW': -3.0, 'RY': -2.0, 'RV': -3.0, 'RB': -1.0, 'RJ': -2.0, 'RZ': 0.0, 'RX': -1.0, 'R*': -4.0, 'NA': -2.0, 'NR': 0.0, 'NN': 6.0, 'ND': 1.0, 'NC': -3.0, 'NQ': 0.0, 'NE': 0.0, 'NG': 0.0, 'NH': 1.0, 'NI': -3.0, 'NL': -3.0, 'NK': 0.0, 'NM': -2.0, 'NF': -3.0, 'NP': -2.0, 'NS': 1.0, 'NT': 0.0, 'NW': -4.0, 'NY': -2.0, 'NV': -3.0, 'NB': 4.0, 'NJ': -3.0, 'NZ': 0.0, 'NX': -1.0, 'N*': -4.0, 'DA': -2.0, 'DR': -2.0, 'DN': 1.0, 'DD': 6.0, 'DC': -3.0, 'DQ': 0.0, 'DE': 2.0, 'DG': -1.0, 'DH': -1.0, 'DI': -3.0, 'DL': -4.0, 'DK': -1.0, 'DM': -3.0, 'DF': -3.0, 'DP': -1.0, 'DS': 0.0, 'DT': -1.0, 'DW': -4.0, 'DY': -3.0, 'DV': -3.0, 'DB': 4.0, 'DJ': -3.0, 'DZ': 1.0, 'DX': -1.0, 'D*': -4.0, 'CA': 0.0, 'CR': -3.0, 'CN': -3.0, 'CD': -3.0, 'CC': 9.0, 'CQ': -3.0, 'CE': -4.0, 'CG': -3.0, 'CH': -3.0, 'CI': -1.0, 'CL': -1.0, 'CK': -3.0, 'CM': -1.0, 'CF': -2.0, 'CP': -3.0, 'CS': -1.0, 'CT': -1.0, 'CW': -2.0, 'CY': -2.0, 'CV': -1.0, 'CB': -3.0, 'CJ': -1.0, 'CZ': -3.0, 'CX': -1.0, 'C*': -4.0, 'QA': -1.0, 'QR': 1.0, 'QN': 0.0, 'QD': 0.0, 'QC': -3.0, 'QQ': 5.0, 'QE': 2.0, 'QG': -2.0, 'QH': 0.0, 'QI': -3.0, 'QL': -2.0, 'QK': 1.0, 'QM': 0.0, 'QF': -3.0, 'QP': -1.0, 'QS': 0.0, 'QT': -1.0, 'QW': -2.0, 'QY': -1.0, 'QV': -2.0, 'QB': 0.0, 'QJ': -2.0, 'QZ': 4.0, 'QX': -1.0, 'Q*': -4.0, 'EA': -1.0, 'ER': 0.0, 'EN': 0.0, 'ED': 2.0, 'EC': -4.0, 'EQ': 2.0, 'EE': 5.0, 'EG': -2.0, 'EH': 0.0, 'EI': -3.0, 'EL': -3.0, 'EK': 1.0, 'EM': -2.0, 'EF': -3.0, 'EP': -1.0, 'ES': 0.0, 'ET': -1.0, 'EW': -3.0, 'EY': -2.0, 'EV': -2.0, 'EB': 1.0, 'EJ': -3.0, 'EZ': 4.0, 'EX': -1.0, 'E*': -4.0, 'GA': 0.0, 'GR': -2.0, 'GN': 0.0, 'GD': -1.0, 'GC': -3.0, 'GQ': -2.0, 'GE': -2.0, 'GG': 6.0, 'GH': -2.0, 'GI': -4.0, 'GL': -4.0, 'GK': -2.0, 'GM': -3.0, 'GF': -3.0, 'GP': -2.0, 'GS': 0.0, 'GT': -2.0, 'GW': -2.0, 'GY': -3.0, 'GV': -3.0, 'GB': -1.0, 'GJ': -4.0, 'GZ': -2.0, 'GX': -1.0, 'G*': -4.0, 'HA': -2.0, 'HR': 0.0, 'HN': 1.0, 'HD': -1.0, 'HC': -3.0, 'HQ': 0.0, 'HE': 0.0, 'HG': -2.0, 'HH': 8.0, 'HI': -3.0, 'HL': -3.0, 'HK': -1.0, 'HM': -2.0, 'HF': -1.0, 'HP': -2.0, 'HS': -1.0, 'HT': -2.0, 'HW': -2.0, 'HY': 2.0, 'HV': -3.0, 'HB': 0.0, 'HJ': -3.0, 'HZ': 0.0, 'HX': -1.0, 'H*': -4.0, 'IA': -1.0, 'IR': -3.0, 'IN': -3.0, 'ID': -3.0, 'IC': -1.0, 'IQ': -3.0, 'IE': -3.0, 'IG': -4.0, 'IH': -3.0, 'II': 4.0, 'IL': 2.0, 'IK': -3.0, 'IM': 1.0, 'IF': 0.0, 'IP': -3.0, 'IS': -2.0, 'IT': -1.0, 'IW': -3.0, 'IY': -1.0, 'IV': 3.0, 'IB': -3.0, 'IJ': 3.0, 'IZ': -3.0, 'IX': -1.0, 'I*': -4.0, 'LA': -1.0, 'LR': -2.0, 'LN': -3.0, 'LD': -4.0, 'LC': -1.0, 'LQ': -2.0, 'LE': -3.0, 'LG': -4.0, 'LH': -3.0, 'LI': 2.0, 'LL': 4.0, 'LK': -2.0, 'LM': 2.0, 'LF': 0.0, 'LP': -3.0, 'LS': -2.0, 'LT': -1.0, 'LW': -2.0, 'LY': -1.0, 'LV': 1.0, 'LB': -4.0, 'LJ': 3.0, 'LZ': -3.0, 'LX': -1.0, 'L*': -4.0, 'KA': -1.0, 'KR': 2.0, 'KN': 0.0, 'KD': -1.0, 'KC': -3.0, 'KQ': 1.0, 'KE': 1.0, 'KG': -2.0, 'KH': -1.0, 'KI': -3.0, 'KL': -2.0, 'KK': 5.0, 'KM': -1.0, 'KF': -3.0, 'KP': -1.0, 'KS': 0.0, 'KT': -1.0, 'KW': -3.0, 'KY': -2.0, 'KV': -2.0, 'KB': 0.0, 'KJ': -3.0, 'KZ': 1.0, 'KX': -1.0, 'K*': -4.0, 'MA': -1.0, 'MR': -1.0, 'MN': -2.0, 'MD': -3.0, 'MC': -1.0, 'MQ': 0.0, 'ME': -2.0, 'MG': -3.0, 'MH': -2.0, 'MI': 1.0, 'ML': 2.0, 'MK': -1.0, 'MM': 5.0, 'MF': 0.0, 'MP': -2.0, 'MS': -1.0, 'MT': -1.0, 'MW': -1.0, 'MY': -1.0, 'MV': 1.0, 'MB': -3.0, 'MJ': 2.0, 'MZ': -1.0, 'MX': -1.0, 'M*': -4.0, 'FA': -2.0, 'FR': -3.0, 'FN': -3.0, 'FD': -3.0, 'FC': -2.0, 'FQ': -3.0, 'FE': -3.0, 'FG': -3.0, 'FH': -1.0, 'FI': 0.0, 'FL': 0.0, 'FK': -3.0, 'FM': 0.0, 'FF': 6.0, 'FP': -4.0, 'FS': -2.0, 'FT': -2.0, 'FW': 1.0, 'FY': 3.0, 'FV': -1.0, 'FB': -3.0, 'FJ': 0.0, 'FZ': -3.0, 'FX': -1.0, 'F*': -4.0, 'PA': -1.0, 'PR': -2.0, 'PN': -2.0, 'PD': -1.0, 'PC': -3.0, 'PQ': -1.0, 'PE': -1.0, 'PG': -2.0, 'PH': -2.0, 'PI': -3.0, 'PL': -3.0, 'PK': -1.0, 'PM': -2.0, 'PF': -4.0, 'PP': 7.0, 'PS': -1.0, 'PT': -1.0, 'PW': -4.0, 'PY': -3.0, 'PV': -2.0, 'PB': -2.0, 'PJ': -3.0, 'PZ': -1.0, 'PX': -1.0, 'P*': -4.0, 'SA': 1.0, 'SR': -1.0, 'SN': 1.0, 'SD': 0.0, 'SC': -1.0, 'SQ': 0.0, 'SE': 0.0, 'SG': 0.0, 'SH': -1.0, 'SI': -2.0, 'SL': -2.0, 'SK': 0.0, 'SM': -1.0, 'SF': -2.0, 'SP': -1.0, 'SS': 4.0, 'ST': 1.0, 'SW': -3.0, 'SY': -2.0, 'SV': -2.0, 'SB': 0.0, 'SJ': -2.0, 'SZ': 0.0, 'SX': -1.0, 'S*': -4.0, 'TA': 0.0, 'TR': -1.0, 'TN': 0.0, 'TD': -1.0, 'TC': -1.0, 'TQ': -1.0, 'TE': -1.0, 'TG': -2.0, 'TH': -2.0, 'TI': -1.0, 'TL': -1.0, 'TK': -1.0, 'TM': -1.0, 'TF': -2.0, 'TP': -1.0, 'TS': 1.0, 'TT': 5.0, 'TW': -2.0, 'TY': -2.0, 'TV': 0.0, 'TB': -1.0, 'TJ': -1.0, 'TZ': -1.0, 'TX': -1.0, 'T*': -4.0, 'WA': -3.0, 'WR': -3.0, 'WN': -4.0, 'WD': -4.0, 'WC': -2.0, 'WQ': -2.0, 'WE': -3.0, 'WG': -2.0, 'WH': -2.0, 'WI': -3.0, 'WL': -2.0, 'WK': -3.0, 'WM': -1.0, 'WF': 1.0, 'WP': -4.0, 'WS': -3.0, 'WT': -2.0, 'WW': 11.0, 'WY': 2.0, 'WV': -3.0, 'WB': -4.0, 'WJ': -2.0, 'WZ': -2.0, 'WX': -1.0, 'W*': -4.0, 'YA': -2.0, 'YR': -2.0, 'YN': -2.0, 'YD': -3.0, 'YC': -2.0, 'YQ': -1.0, 'YE': -2.0, 'YG': -3.0, 'YH': 2.0, 'YI': -1.0, 'YL': -1.0, 'YK': -2.0, 'YM': -1.0, 'YF': 3.0, 'YP': -3.0, 'YS': -2.0, 'YT': -2.0, 'YW': 2.0, 'YY': 7.0, 'YV': -1.0, 'YB': -3.0, 'YJ': -1.0, 'YZ': -2.0, 'YX': -1.0, 'Y*': -4.0, 'VA': 0.0, 'VR': -3.0, 'VN': -3.0, 'VD': -3.0, 'VC': -1.0, 'VQ': -2.0, 'VE': -2.0, 'VG': -3.0, 'VH': -3.0, 'VI': 3.0, 'VL': 1.0, 'VK': -2.0, 'VM': 1.0, 'VF': -1.0, 'VP': -2.0, 'VS': -2.0, 'VT': 0.0, 'VW': -3.0, 'VY': -1.0, 'VV': 4.0, 'VB': -3.0, 'VJ': 2.0, 'VZ': -2.0, 'VX': -1.0, 'V*': -4.0, 'BA': -2.0, 'BR': -1.0, 'BN': 4.0, 'BD': 4.0, 'BC': -3.0, 'BQ': 0.0, 'BE': 1.0, 'BG': -1.0, 'BH': 0.0, 'BI': -3.0, 'BL': -4.0, 'BK': 0.0, 'BM': -3.0, 'BF': -3.0, 'BP': -2.0, 'BS': 0.0, 'BT': -1.0, 'BW': -4.0, 'BY': -3.0, 'BV': -3.0, 'BB': 4.0, 'BJ': -3.0, 'BZ': 0.0, 'BX': -1.0, 'B*': -4.0, 'JA': -1.0, 'JR': -2.0, 'JN': -3.0, 'JD': -3.0, 'JC': -1.0, 'JQ': -2.0, 'JE': -3.0, 'JG': -4.0, 'JH': -3.0, 'JI': 3.0, 'JL': 3.0, 'JK': -3.0, 'JM': 2.0, 'JF': 0.0, 'JP': -3.0, 'JS': -2.0, 'JT': -1.0, 'JW': -2.0, 'JY': -1.0, 'JV': 2.0, 'JB': -3.0, 'JJ': 3.0, 'JZ': -3.0, 'JX': -1.0, 'J*': -4.0, 'ZA': -1.0, 'ZR': 0.0, 'ZN': 0.0, 'ZD': 1.0, 'ZC': -3.0, 'ZQ': 4.0, 'ZE': 4.0, 'ZG': -2.0, 'ZH': 0.0, 'ZI': -3.0, 'ZL': -3.0, 'ZK': 1.0, 'ZM': -1.0, 'ZF': -3.0, 'ZP': -1.0, 'ZS': 0.0, 'ZT': -1.0, 'ZW': -2.0, 'ZY': -2.0, 'ZV': -2.0, 'ZB': 0.0, 'ZJ': -3.0, 'ZZ': 4.0, 'ZX': -1.0, 'Z*': -4.0, 'XA': -1.0, 'XR': -1.0, 'XN': -1.0, 'XD': -1.0, 'XC': -1.0, 'XQ': -1.0, 'XE': -1.0, 'XG': -1.0, 'XH': -1.0, 'XI': -1.0, 'XL': -1.0, 'XK': -1.0, 'XM': -1.0, 'XF': -1.0, 'XP': -1.0, 'XS': -1.0, 'XT': -1.0, 'XW': -1.0, 'XY': -1.0, 'XV': -1.0, 'XB': -1.0, 'XJ': -1.0, 'XZ': -1.0, 'XX': -1.0, 'X*': -4.0, '*A': -4.0, '*R': -4.0, '*N': -4.0, '*D': -4.0, '*C': -4.0, '*Q': -4.0, '*E': -4.0, '*G': -4.0, '*H': -4.0, '*I': -4.0, '*L': -4.0, '*K': -4.0, '*M': -4.0, '*F': -4.0, '*P': -4.0, '*S': -4.0, '*T': -4.0, '*W': -4.0, '*Y': -4.0, '*V': -4.0, '*B': -4.0, '*J': -4.0, '*Z': -4.0, '*X': -4.0, '**': 1.0}\n"
     ]
    }
   ],
   "source": [
    "# Your code here\n",
    "\n"
   ]
  },
  {
   "cell_type": "markdown",
   "id": "b71d9e3f",
   "metadata": {},
   "source": [
    "_Type your answer here_"
   ]
  },
  {
   "cell_type": "markdown",
   "id": "0f6b026b",
   "metadata": {},
   "source": [
    "<div class=\"alert alert-success\">\n",
    "\n",
    "**Problem 2 (d).** How do your results for Problem 2c differ from the earlier ones of Problem 1a (with `linearGap`)? Which one would you say is more biologically plausible?\n",
    "</div>"
   ]
  },
  {
   "cell_type": "markdown",
   "id": "90095717",
   "metadata": {},
   "source": [
    "_Type your answer here_"
   ]
  },
  {
   "cell_type": "markdown",
   "id": "abda2fdd",
   "metadata": {},
   "source": [
    "<div class=\"alert alert-success\">\n",
    "\n",
    "**Problem 2 (e).** We discussed in class that the PAM matrices follow the Markov property and a mismatch at any site depends only on the amino acid at that site and the transition probability. Is this a suitable representation of evolution? Think about if replacements are equaly likely to occur over entire sequences. It may help to consider the difference between PAM and BLOSUM matrices.\n",
    "</div>"
   ]
  },
  {
   "cell_type": "markdown",
   "id": "5dae8ebc",
   "metadata": {},
   "source": [
    "_Type your answer here_"
   ]
  },
  {
   "cell_type": "markdown",
   "id": "10e1ba56",
   "metadata": {},
   "source": [
    "## Part 3: Local Sequence Alignment\n"
   ]
  },
  {
   "cell_type": "markdown",
   "id": "21dbc47d",
   "metadata": {},
   "source": [
    "<div class=\"alert alert-success\">\n",
    "    \n",
    "<b>Problem 3 (a).</b> Implement local alignment (for both the normal and affine-gap penalties) using the Smith-Waterman algorithm. Feel free to re-use and modify the given Needleman–Wunsch algorithm. \n",
    "</div>"
   ]
  },
  {
   "cell_type": "code",
   "execution_count": 16,
   "id": "3735608b",
   "metadata": {},
   "outputs": [],
   "source": [
    "def showAlignmentLocal(s1, s2, gapPenalty, match):\n",
    "    # Although it is often useful to return all high scoring local alignments for an input pair, \n",
    "    # it is sufficient if your algorithm just returns the single highest-scoring local alignment \n",
    "    # (as shown in the examples below).\n",
    "    \n",
    "    # Your code here (implement)\n",
    "    pass"
   ]
  },
  {
   "cell_type": "markdown",
   "id": "d3539cd9",
   "metadata": {},
   "source": [
    "We've included some assert statements that can help you check the correctness of your algorithm. As with any algorithm, correctness on these test inputs does not guarantee algorithmic correcntess, but can be useful to debug."
   ]
  },
  {
   "cell_type": "code",
   "execution_count": 17,
   "id": "b29718d3",
   "metadata": {},
   "outputs": [],
   "source": [
    "# Example expected output\n",
    "# Taken from https://en.wikipedia.org/wiki/Smith–Waterman_algorithm)\n",
    "r = showAlignmentLocal(\"GGTTGACTA\", \"TGTTACGG\", linearGap, simpleMatch)"
   ]
  },
  {
   "cell_type": "code",
   "execution_count": 18,
   "id": "56ab4c70",
   "metadata": {},
   "outputs": [
    {
     "ename": "TypeError",
     "evalue": "'NoneType' object is not subscriptable",
     "output_type": "error",
     "traceback": [
      "\u001b[1;31m---------------------------------------------------------------------------\u001b[0m",
      "\u001b[1;31mTypeError\u001b[0m                                 Traceback (most recent call last)",
      "Input \u001b[1;32mIn [18]\u001b[0m, in \u001b[0;36m<cell line: 3>\u001b[1;34m()\u001b[0m\n\u001b[0;32m      1\u001b[0m \u001b[38;5;66;03m# First assert\u001b[39;00m\n\u001b[0;32m      2\u001b[0m r \u001b[38;5;241m=\u001b[39m showAlignmentLocal(\u001b[38;5;124m\"\u001b[39m\u001b[38;5;124mGGTTGACTA\u001b[39m\u001b[38;5;124m\"\u001b[39m, \u001b[38;5;124m\"\u001b[39m\u001b[38;5;124mTGTTACGG\u001b[39m\u001b[38;5;124m\"\u001b[39m, linearGap, simpleMatch)\n\u001b[1;32m----> 3\u001b[0m \u001b[38;5;28;01massert\u001b[39;00m (\u001b[43mr\u001b[49m\u001b[43m[\u001b[49m\u001b[38;5;241;43m1\u001b[39;49m\u001b[43m]\u001b[49m[\u001b[38;5;241m2\u001b[39m] \u001b[38;5;241m==\u001b[39m \u001b[38;5;241m4\u001b[39m \u001b[38;5;129;01mand\u001b[39;00m \u001b[38;5;124m\"\u001b[39m\u001b[38;5;124mGTTGAC\u001b[39m\u001b[38;5;124m\"\u001b[39m \u001b[38;5;129;01min\u001b[39;00m r[\u001b[38;5;241m1\u001b[39m] \u001b[38;5;129;01mand\u001b[39;00m \u001b[38;5;124m\"\u001b[39m\u001b[38;5;124mGTT-AC\u001b[39m\u001b[38;5;124m\"\u001b[39m \u001b[38;5;129;01min\u001b[39;00m r[\u001b[38;5;241m1\u001b[39m])\n\u001b[0;32m      5\u001b[0m \u001b[38;5;66;03m# Second assert\u001b[39;00m\n\u001b[0;32m      6\u001b[0m r \u001b[38;5;241m=\u001b[39m showAlignmentLocal(\u001b[38;5;124m\"\u001b[39m\u001b[38;5;124mGGACTTAAATAGA\u001b[39m\u001b[38;5;124m\"\u001b[39m, \u001b[38;5;124m\"\u001b[39m\u001b[38;5;124mTGTTGGTGATCCACGTGG\u001b[39m\u001b[38;5;124m\"\u001b[39m, linearGap, simpleMatch)\n",
      "\u001b[1;31mTypeError\u001b[0m: 'NoneType' object is not subscriptable"
     ]
    }
   ],
   "source": [
    "# First assert\n",
    "r = showAlignmentLocal(\"GGTTGACTA\", \"TGTTACGG\", linearGap, simpleMatch)\n",
    "assert (r[1][2] == 4 and \"GTTGAC\" in r[1] and \"GTT-AC\" in r[1])\n",
    "\n",
    "# Second assert\n",
    "r = showAlignmentLocal(\"GGACTTAAATAGA\", \"TGTTGGTGATCCACGTGG\", linearGap, simpleMatch)\n",
    "assert (r[1][2] == 2 and \"GG\" == r[1][0] and \"GG\" == r[1][1])\n",
    "\n",
    "# Third assert\n",
    "r = showAlignmentLocal(\"TTGA\", \"GGCC\", linearGap, simpleMatch)\n",
    "assert (r[1][2] == 1 and \"G\" == r[1][0] and \"G\" == r[1][1])\n",
    "\n",
    "# Fourth assert\n",
    "r = showAlignmentLocal(\"TACGGGCCCGCTAC\", \"TAGCCCTATCGGTCA\", linearGap, simpleMatch)\n",
    "assert (r[1][2] == 4 and \"TA-CGG\" in r[1] and \"TATCGG\" in r[1])"
   ]
  },
  {
   "cell_type": "markdown",
   "id": "ecc34a37",
   "metadata": {},
   "source": [
    "<div class=\"alert alert-success\">\n",
    "    \n",
    "<b>Problem 3 (b).</b> Align the provided hemoglobin genes for:\n",
    "    <ol>\n",
    "        <li>`polar bears` & `black bears`,</li>\n",
    "        <li>`humans` & `chimps`,</li>\n",
    "        <li>`polar bears` & `humans`, and</li>\n",
    "        <li>`black bears` & `chimps`.</li>\n",
    "    </ol>\n",
    "\n",
    "Use `linearGap`.\n",
    "    \n",
    "Take note of the scores you get. What do you notice?\n",
    "</div>"
   ]
  },
  {
   "cell_type": "code",
   "execution_count": null,
   "id": "7bf7dcfa",
   "metadata": {},
   "outputs": [],
   "source": [
    "polar_bear, black_bear, human, chimp = utils.get_hemoglobin_sequences()"
   ]
  },
  {
   "cell_type": "code",
   "execution_count": null,
   "id": "00663f6a",
   "metadata": {},
   "outputs": [],
   "source": [
    "# Your code here"
   ]
  },
  {
   "cell_type": "markdown",
   "id": "6a7b3dde",
   "metadata": {},
   "source": [
    "_Type your answer here_"
   ]
  },
  {
   "cell_type": "markdown",
   "id": "efe84140",
   "metadata": {},
   "source": [
    "<div class=\"alert alert-success\">\n",
    "\n",
    "<b>Problem 3 (c).</b> Use <a href=\"https://blast.ncbi.nlm.nih.gov/\">BLAST</a> for the above pairs of sequences. Carefully inspect the returned results to see if they are similar to the alignments you obtained above.\n",
    "</div>"
   ]
  },
  {
   "cell_type": "markdown",
   "id": "0f39e6a1",
   "metadata": {},
   "source": [
    "_Type your answer here_"
   ]
  },
  {
   "cell_type": "markdown",
   "id": "7bb2ee79",
   "metadata": {},
   "source": [
    "<div class=\"alert alert-success\">\n",
    "\n",
    "<b>Problem 3 (d).</b> Could you run an affine-gap-loss version of your local-alignment algorithm for the given sequences? How much time did BLAST take?\n",
    "Can you think of any optimizations you could make to make the affine-gap-loss version run faster- perhaps utilizing parallel processing or GPUs?\n",
    "</div>"
   ]
  },
  {
   "cell_type": "markdown",
   "id": "e7c29327",
   "metadata": {},
   "source": [
    "_Type your answer here_"
   ]
  },
  {
   "cell_type": "markdown",
   "id": "ac3da3b1",
   "metadata": {},
   "source": [
    "## Part 4: Phylogenetic Tree Reconstruction"
   ]
  },
  {
   "cell_type": "markdown",
   "id": "0032e9db",
   "metadata": {},
   "source": [
    "For this part, we'll briefly enter a fictional setup where you want to trace the evolution of Pokémon. The data is in the format of a two lists: one each for the sequences themselves, and names of the Pokémons."
   ]
  },
  {
   "cell_type": "markdown",
   "id": "cdb8f856",
   "metadata": {},
   "source": [
    "<div class=\"alert alert-success\">\n",
    "    \n",
    "**Problem 4 (a).** Implement an algorithm for Phylogenetic Tree Reconstrution using the neighbor joining algorithm. Color intermediate nodes different from leaf nodes. Use given names as node labels in your visualization.\n",
    "    \n",
    "For computing the distances matrix, use affine-based gap-loss in your alignment score computations.\n",
    "    \n",
    "</div>"
   ]
  },
  {
   "cell_type": "markdown",
   "id": "c6d7f9a8",
   "metadata": {},
   "source": [
    "You can either label intermediate nodes in the Phylogenetic tree such that they start with \"intermediate_\" and use the given functions below, or use your own nomenclature/way of handling those node, and modify the given helper functions accordingly."
   ]
  },
  {
   "cell_type": "code",
   "execution_count": null,
   "id": "78dec444",
   "metadata": {},
   "outputs": [],
   "source": [
    "# Your code here"
   ]
  },
  {
   "cell_type": "markdown",
   "id": "1e4c6782",
   "metadata": {},
   "source": [
    "We've provided a helper function to plot a given Phylogenetic tree"
   ]
  },
  {
   "cell_type": "code",
   "execution_count": null,
   "id": "033c7e4c",
   "metadata": {},
   "outputs": [],
   "source": [
    "def construct_alignment(dist, names):\n",
    "    # Your code here (implement)\n",
    "    pass"
   ]
  },
  {
   "cell_type": "code",
   "execution_count": null,
   "id": "c41c2900",
   "metadata": {},
   "outputs": [],
   "source": [
    "def draw_graph_nice(G):\n",
    "    \"\"\"\n",
    "        Helper function to plot a given Phylogenetic tree.\n",
    "        Assumes intermediate node names start with 'intermediate_'\n",
    "    \"\"\"\n",
    "    nodes = list(G.nodes)\n",
    "    # Plot intermediate nodes smaller\n",
    "    sizes = [10 if \"intermediate_\" in x else 2000 for x in nodes]\n",
    "    labels = {}    \n",
    "    for node in nodes:\n",
    "        if not node.startswith(\"intermediate_\"):\n",
    "            labels[node] = node\n",
    "    fig, ax = plt.subplots(figsize=(15,15))\n",
    "    nx.draw_planar(G, node_size=sizes, with_labels=True, node_color = \"#ADD8E6\")"
   ]
  },
  {
   "cell_type": "markdown",
   "id": "a968394d",
   "metadata": {},
   "source": [
    "Here's the visualization for the given example on Wikipedia to get a sense of what the output should look like. We use `networkx` for creating and managing the graphs."
   ]
  },
  {
   "cell_type": "code",
   "execution_count": null,
   "id": "6793b3fe",
   "metadata": {},
   "outputs": [],
   "source": [
    "# Wikipedia example: https://en.wikipedia.org/wiki/Neighbor_joining\n",
    "distances = np.array([\n",
    "    [0, 5, 9, 9, 8],\n",
    "    [5, 0, 10, 10, 9],\n",
    "    [9, 10, 0, 8, 7],\n",
    "    [9, 10, 8, 0, 3],\n",
    "    [8, 9, 7, 3, 0]\n",
    "], dtype=float)\n",
    "\n",
    "seq_names = [\"a\", \"b\", \"c\", \"d\", \"e\"]\n",
    "G = construct_alignment(distances, seq_names)"
   ]
  },
  {
   "cell_type": "code",
   "execution_count": null,
   "id": "c9cdf2ae",
   "metadata": {},
   "outputs": [],
   "source": [
    "draw_graph_nice(G)"
   ]
  },
  {
   "cell_type": "code",
   "execution_count": null,
   "id": "499ea40c",
   "metadata": {},
   "outputs": [],
   "source": [
    "# Get sequences\n",
    "sequences, seq_names = utils.get_sequences_for_ancestry()"
   ]
  },
  {
   "cell_type": "code",
   "execution_count": null,
   "id": "db89dcdc",
   "metadata": {},
   "outputs": [],
   "source": [
    "# Your code here"
   ]
  },
  {
   "cell_type": "markdown",
   "id": "408f632b",
   "metadata": {},
   "source": [
    "<div class=\"alert alert-success\">\n",
    "    \n",
    "**Problem 4 (b).** Given $n$ sequences each of roughly the same length $m$, what would the time complexity be for constructing such a phylogenetic tree? Can you think of any algorithms or heuristics that might make the process faster? \n",
    "    \n",
    "</div>"
   ]
  },
  {
   "cell_type": "markdown",
   "id": "896fc78d",
   "metadata": {},
   "source": [
    "_Type your answer here_"
   ]
  },
  {
   "cell_type": "markdown",
   "id": "5beb304d",
   "metadata": {},
   "source": [
    "<div class=\"alert alert-success\">\n",
    "\n",
    "**Problem 4 (c).** Assume a direct correlation between the distance between any two nodes and the number of years (in millions) between their evolution. Assuming `Grumpig` was the first Pokémon to evolve, when did life first come to be in the fictional scenario?\n",
    "</div>"
   ]
  },
  {
   "cell_type": "markdown",
   "id": "3d1ee21a",
   "metadata": {},
   "source": [
    "<div class=\"alert alert-warning\">\n",
    "\n",
    "For this part, feel free to use any of `networkx`'s in-built functions (or any graph-specific library you may have chosen for Problem 4).\n",
    "</div>"
   ]
  },
  {
   "cell_type": "code",
   "execution_count": null,
   "id": "81bd8003",
   "metadata": {},
   "outputs": [],
   "source": [
    "# Your code here"
   ]
  },
  {
   "cell_type": "code",
   "execution_count": null,
   "id": "00fb87b8",
   "metadata": {},
   "outputs": [],
   "source": [
    "how_long_ago = \"???\" # Replace with your answer\n",
    "print(f\"Life evolved {how_long_ago} million years ago in the Pokémon world\")"
   ]
  },
  {
   "cell_type": "markdown",
   "id": "639ee927",
   "metadata": {},
   "source": [
    "One way to test the robustness of such a tree reconstruction algorithm is to consider collection of nodes independently and see if the recontructed sub-trees match the bigger tree.\n",
    "\n",
    "<div class=\"alert alert-success\">\n",
    "    \n",
    "**Problem 4 (d).** Find an  edge between intermediate nodes with the largest weight in the phylogenetic tree and remove that edge- this will produce two disjoint cluster of nodes. Re-run your tree reconstruction algorithm on these two sets of Pokémons. Do your reconstructed tree match the larger phylogenetic tree?\n",
    "</div>"
   ]
  },
  {
   "cell_type": "markdown",
   "id": "65cc9d71",
   "metadata": {},
   "source": [
    "<div class=\"alert alert-warning\">\n",
    "\n",
    "For this part, feel free to use any of `networkx`'s in-built functions (or any graph-specific library you may have chosen for Problem 4).\n",
    "</div>"
   ]
  },
  {
   "cell_type": "code",
   "execution_count": null,
   "id": "cf766d7b",
   "metadata": {},
   "outputs": [],
   "source": [
    "# Your code here"
   ]
  },
  {
   "cell_type": "markdown",
   "id": "89f995ac",
   "metadata": {},
   "source": [
    "_Type your answer here_"
   ]
  },
  {
   "cell_type": "markdown",
   "id": "b783cb3c",
   "metadata": {},
   "source": [
    "<div class=\"alert alert-success\">\n",
    "\n",
    "**Problem 4 (d).** Can you inspect the matrix of distances between the Pokémons and predict whether the reconstructed trees would always be unique? Why/why not?\n",
    "</div>"
   ]
  },
  {
   "cell_type": "markdown",
   "id": "559d1b90",
   "metadata": {},
   "source": [
    "_Type your answer here_"
   ]
  },
  {
   "cell_type": "markdown",
   "id": "4184aac4",
   "metadata": {},
   "source": [
    "## Part 5: Tracing Evolution"
   ]
  },
  {
   "cell_type": "markdown",
   "id": "d1ab2c5f",
   "metadata": {},
   "source": [
    "<div class=\"alert alert-warning\">\n",
    "    This problem is a \"Challenge Problem\". This means it is a problem of unknown difficulty that might be quite challenging (unlike the earlier problems, we don't have a reference solution for this one, or a clear idea how hard it might be). We do hope all students will at least attempt this and that more ambitious students will work hard to solve it and learn interesting things by the attempt (whether or not it is successful), but not get frustrated if you can't get to the desired answer.  As a \"Challenge Problem\" it means that you shouldn't be worried if you are not able to solve this, though, and you can get full expected credit on this assignment without answering it.\n",
    "</div>\n",
    "\n",
    "\n",
    "Now that we can construct Phylogenetic trees using sequence alignment, we can attempt to construct these trees for different organisms and trace their evolution through time. You're given reads processed from a FASTA file for Hemoglobin Beta Proteins, which can be used to then trace evolution based on how similar their sequences are across organisms from different kingdoms. Each record has the following relevant information in Tuple format:\n",
    "\n",
    "`((uniprot identifier, full name, shortened name, group), (sequence))`\n",
    "\n",
    "As you may notice, running our nearest-neighbor reconstruction algorithm on this data will give a Phylogenetic tree that does not fully correspond to what we know about the evolution of these species."
   ]
  },
  {
   "cell_type": "markdown",
   "id": "9b457735",
   "metadata": {},
   "source": [
    "<div class=\"alert alert-success\">\n",
    "    \n",
    "**Problem 8 (Challenge).** Construct a Phylogenetic Tree using the given sequences. Implement and use any tree-reconstruction method of your choice, and see if it works better than the nearest-neighbor method with a linear-gap penalty.\n",
    "    \n",
    "For visualization, use the short name to display in the evolution tree.\n",
    "    \n",
    "</div>\n",
    "    \n",
    "This is an open-ended question, and is inspired by https://www.mimuw.edu.pl/~lukaskoz/teaching/sad2/lab6/readme.html. You are free to use any approach to deal with the issue. Make sure you provide your code, along with any assumptions you may have."
   ]
  },
  {
   "cell_type": "code",
   "execution_count": null,
   "id": "cab1a6b1",
   "metadata": {},
   "outputs": [],
   "source": [
    "sequences = utils.get_sequences_for_tree()\n",
    "print(sequences[0])"
   ]
  },
  {
   "cell_type": "code",
   "execution_count": null,
   "id": "5a87e093",
   "metadata": {},
   "outputs": [],
   "source": [
    "# Your code here"
   ]
  },
  {
   "cell_type": "markdown",
   "id": "4c4e5dbe",
   "metadata": {},
   "source": [
    "_Write a description of your algorithm, and things you learned from working on this here._"
   ]
  },
  {
   "cell_type": "markdown",
   "id": "f8bd7643",
   "metadata": {},
   "source": [
    "_Type your answer here_"
   ]
  },
  {
   "cell_type": "markdown",
   "id": "02bbbec3",
   "metadata": {},
   "source": [
    "<div class=\"alert alert-success\">\n",
    "    \n",
    "Is this (using Hemoglobin proteins) the best way to trace and visualize evolution? Why do you think it is useful, and what could the possible downsides of this be?\n",
    "    \n",
    "</div>"
   ]
  },
  {
   "cell_type": "markdown",
   "id": "7e6ad932",
   "metadata": {},
   "source": [
    "_Type your answer here_"
   ]
  },
  {
   "cell_type": "markdown",
   "id": "3a315dd6",
   "metadata": {},
   "source": [
    "   <div class=\"alert alert-block alert-danger\">\n",
    "    <center>\n",
    "      \n",
    "**End of Project 2!**\n",
    "        \n",
    "Remember to follow the submission directions above to submit your assignment.\n",
    "    \n",
    " </center>\n",
    " </div>"
   ]
  }
 ],
 "metadata": {
  "kernelspec": {
   "display_name": "Python 3 (ipykernel)",
   "language": "python",
   "name": "python3"
  },
  "language_info": {
   "codemirror_mode": {
    "name": "ipython",
    "version": 3
   },
   "file_extension": ".py",
   "mimetype": "text/x-python",
   "name": "python",
   "nbconvert_exporter": "python",
   "pygments_lexer": "ipython3",
   "version": "3.10.6"
  }
 },
 "nbformat": 4,
 "nbformat_minor": 5
}
